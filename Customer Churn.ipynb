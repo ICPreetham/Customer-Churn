{
 "cells": [
  {
   "cell_type": "markdown",
   "id": "ce4f737a",
   "metadata": {
    "tags": []
   },
   "source": [
    "<center><b>Customer Churn Project</b><center>"
   ]
  },
  {
   "cell_type": "markdown",
   "id": "72cb7751-f768-4860-93ca-ea772ad480d9",
   "metadata": {
    "tags": []
   },
   "source": [
    "# Business Understanding"
   ]
  },
  {
   "cell_type": "markdown",
   "id": "eb682d5c-c5bc-4b75-b106-57a4976585af",
   "metadata": {},
   "source": [
    "<p>\n",
    "    An E-Commerce company is facing a lot of competition in the current market, and it has become a challenge to retain the existing customers in current situations.\n",
    "</p>\n",
    "<p>\n",
    "    The company has decided to develop a Machine learning model though which they can perform churn prediction on the accounts and provide segmented offers to the potential churners.\n",
    "</p>\n",
    "<p>\n",
    "    In order to develop a model through which the company stakeholders can perform churn prediction on the accounts and provide segmented offers to potential churners, we are assigned to develop a churn prediction model for this company and provide business recommendations on the campaign.\n",
    "</p>"
   ]
  },
  {
   "cell_type": "markdown",
   "id": "fbd8799b-2944-459f-84be-b7960428bcd0",
   "metadata": {
    "tags": []
   },
   "source": [
    "# Data Understanding"
   ]
  },
  {
   "cell_type": "markdown",
   "id": "f4c40bd1-257a-4b37-9a87-ca85bf58f8d9",
   "metadata": {
    "tags": []
   },
   "source": [
    "## Initializing required python libraries"
   ]
  },
  {
   "cell_type": "code",
   "execution_count": 271,
   "id": "99082816",
   "metadata": {
    "tags": []
   },
   "outputs": [],
   "source": [
    "import pandas as pd\n",
    "import numpy as np\n",
    "import seaborn as sns\n",
    "import matplotlib\n",
    "from matplotlib import pyplot as plt\n",
    "\n",
    "from sklearn.model_selection import train_test_split\n",
    "from imblearn.over_sampling import SMOTE \n",
    "from sklearn.preprocessing import StandardScaler \n",
    "\n",
    "#Libraries to build Linear Regression Model\n",
    "from sklearn.linear_model import LogisticRegression\n",
    "from sklearn.linear_model import LogisticRegressionCV\n",
    "\n",
    "#Libraries to build Random Forest Classifier Model\n",
    "from sklearn.ensemble import RandomForestClassifier\n",
    "\n",
    "#Libraries to build CART model (Classification and Regression Tree)\n",
    "from sklearn.tree import DecisionTreeClassifier\n",
    "from sklearn.tree import export_graphviz\n",
    "\n",
    "#Libraries to build Gradient Boosting Classifier\n",
    "from sklearn.ensemble import GradientBoostingClassifier\n",
    "\n",
    "#Libraries to build Bagging Classifier\n",
    "from sklearn.ensemble import BaggingClassifier\n",
    "\n",
    "#Libraries to retrieve performance metrics of the ML Models and evaluate the Model\n",
    "from sklearn.metrics import confusion_matrix, classification_report, accuracy_score"
   ]
  },
  {
   "cell_type": "code",
   "execution_count": 272,
   "id": "8a68cb9e",
   "metadata": {
    "tags": []
   },
   "outputs": [
    {
     "name": "stdout",
     "output_type": "stream",
     "text": [
      "Numpy Version 1.26.1\n",
      "Pandas Version 2.1.2\n",
      "Matplotlib Version 3.8.1\n",
      "Seaborn Version 0.13.0\n"
     ]
    }
   ],
   "source": [
    "print('Numpy Version',np.__version__)\n",
    "print('Pandas Version',pd.__version__)\n",
    "print('Matplotlib Version',matplotlib.__version__)\n",
    "print('Seaborn Version',sns.__version__)"
   ]
  },
  {
   "cell_type": "markdown",
   "id": "25cc3399",
   "metadata": {
    "tags": []
   },
   "source": [
    "## Loading the acquired Data"
   ]
  },
  {
   "cell_type": "code",
   "execution_count": 273,
   "id": "fe0e998d",
   "metadata": {
    "tags": []
   },
   "outputs": [
    {
     "name": "stdout",
     "output_type": "stream",
     "text": [
      "Loading Excel to Data Frame. Please wait while the data is being loaded..\n",
      "Loaded Excel to the Data Frame successfully\n"
     ]
    }
   ],
   "source": [
    "#Loading the excel data into the dataset\n",
    "print('Loading Excel to Data Frame. Please wait while the data is being loaded..')\n",
    "df = pd.read_excel('Customer Churn Data.xlsx',sheet_name='Data for DSBA')\n",
    "print('Loaded Excel to the Data Frame successfully')"
   ]
  },
  {
   "cell_type": "code",
   "execution_count": 274,
   "id": "c5a72b1e",
   "metadata": {
    "tags": []
   },
   "outputs": [
    {
     "name": "stdout",
     "output_type": "stream",
     "text": [
      "Printing the top 5 records of the data frame\n",
      "\n",
      "\n"
     ]
    },
    {
     "data": {
      "text/html": [
       "<div>\n",
       "<style scoped>\n",
       "    .dataframe tbody tr th:only-of-type {\n",
       "        vertical-align: middle;\n",
       "    }\n",
       "\n",
       "    .dataframe tbody tr th {\n",
       "        vertical-align: top;\n",
       "    }\n",
       "\n",
       "    .dataframe thead th {\n",
       "        text-align: right;\n",
       "    }\n",
       "</style>\n",
       "<table border=\"1\" class=\"dataframe\">\n",
       "  <thead>\n",
       "    <tr style=\"text-align: right;\">\n",
       "      <th></th>\n",
       "      <th>AccountID</th>\n",
       "      <th>Churn</th>\n",
       "      <th>Tenure</th>\n",
       "      <th>City_Tier</th>\n",
       "      <th>CC_Contacted_LY</th>\n",
       "      <th>Payment</th>\n",
       "      <th>Gender</th>\n",
       "      <th>Service_Score</th>\n",
       "      <th>Account_user_count</th>\n",
       "      <th>account_segment</th>\n",
       "      <th>CC_Agent_Score</th>\n",
       "      <th>Marital_Status</th>\n",
       "      <th>rev_per_month</th>\n",
       "      <th>Complain_ly</th>\n",
       "      <th>rev_growth_yoy</th>\n",
       "      <th>coupon_used_for_payment</th>\n",
       "      <th>Day_Since_CC_connect</th>\n",
       "      <th>cashback</th>\n",
       "      <th>Login_device</th>\n",
       "    </tr>\n",
       "  </thead>\n",
       "  <tbody>\n",
       "    <tr>\n",
       "      <th>0</th>\n",
       "      <td>20000</td>\n",
       "      <td>1</td>\n",
       "      <td>4</td>\n",
       "      <td>3.0</td>\n",
       "      <td>6.0</td>\n",
       "      <td>Debit Card</td>\n",
       "      <td>Female</td>\n",
       "      <td>3.0</td>\n",
       "      <td>3</td>\n",
       "      <td>Super</td>\n",
       "      <td>2.0</td>\n",
       "      <td>Single</td>\n",
       "      <td>9</td>\n",
       "      <td>1.0</td>\n",
       "      <td>11</td>\n",
       "      <td>1</td>\n",
       "      <td>5</td>\n",
       "      <td>159.93</td>\n",
       "      <td>Mobile</td>\n",
       "    </tr>\n",
       "    <tr>\n",
       "      <th>1</th>\n",
       "      <td>20001</td>\n",
       "      <td>1</td>\n",
       "      <td>0</td>\n",
       "      <td>1.0</td>\n",
       "      <td>8.0</td>\n",
       "      <td>UPI</td>\n",
       "      <td>Male</td>\n",
       "      <td>3.0</td>\n",
       "      <td>4</td>\n",
       "      <td>Regular Plus</td>\n",
       "      <td>3.0</td>\n",
       "      <td>Single</td>\n",
       "      <td>7</td>\n",
       "      <td>1.0</td>\n",
       "      <td>15</td>\n",
       "      <td>0</td>\n",
       "      <td>0</td>\n",
       "      <td>120.9</td>\n",
       "      <td>Mobile</td>\n",
       "    </tr>\n",
       "    <tr>\n",
       "      <th>2</th>\n",
       "      <td>20002</td>\n",
       "      <td>1</td>\n",
       "      <td>0</td>\n",
       "      <td>1.0</td>\n",
       "      <td>30.0</td>\n",
       "      <td>Debit Card</td>\n",
       "      <td>Male</td>\n",
       "      <td>2.0</td>\n",
       "      <td>4</td>\n",
       "      <td>Regular Plus</td>\n",
       "      <td>3.0</td>\n",
       "      <td>Single</td>\n",
       "      <td>6</td>\n",
       "      <td>1.0</td>\n",
       "      <td>14</td>\n",
       "      <td>0</td>\n",
       "      <td>3</td>\n",
       "      <td>NaN</td>\n",
       "      <td>Mobile</td>\n",
       "    </tr>\n",
       "    <tr>\n",
       "      <th>3</th>\n",
       "      <td>20003</td>\n",
       "      <td>1</td>\n",
       "      <td>0</td>\n",
       "      <td>3.0</td>\n",
       "      <td>15.0</td>\n",
       "      <td>Debit Card</td>\n",
       "      <td>Male</td>\n",
       "      <td>2.0</td>\n",
       "      <td>4</td>\n",
       "      <td>Super</td>\n",
       "      <td>5.0</td>\n",
       "      <td>Single</td>\n",
       "      <td>8</td>\n",
       "      <td>0.0</td>\n",
       "      <td>23</td>\n",
       "      <td>0</td>\n",
       "      <td>3</td>\n",
       "      <td>134.07</td>\n",
       "      <td>Mobile</td>\n",
       "    </tr>\n",
       "    <tr>\n",
       "      <th>4</th>\n",
       "      <td>20004</td>\n",
       "      <td>1</td>\n",
       "      <td>0</td>\n",
       "      <td>1.0</td>\n",
       "      <td>12.0</td>\n",
       "      <td>Credit Card</td>\n",
       "      <td>Male</td>\n",
       "      <td>2.0</td>\n",
       "      <td>3</td>\n",
       "      <td>Regular Plus</td>\n",
       "      <td>5.0</td>\n",
       "      <td>Single</td>\n",
       "      <td>3</td>\n",
       "      <td>0.0</td>\n",
       "      <td>11</td>\n",
       "      <td>1</td>\n",
       "      <td>3</td>\n",
       "      <td>129.6</td>\n",
       "      <td>Mobile</td>\n",
       "    </tr>\n",
       "  </tbody>\n",
       "</table>\n",
       "</div>"
      ],
      "text/plain": [
       "   AccountID  Churn Tenure  City_Tier  CC_Contacted_LY      Payment  Gender  \\\n",
       "0      20000      1      4        3.0              6.0   Debit Card  Female   \n",
       "1      20001      1      0        1.0              8.0          UPI    Male   \n",
       "2      20002      1      0        1.0             30.0   Debit Card    Male   \n",
       "3      20003      1      0        3.0             15.0   Debit Card    Male   \n",
       "4      20004      1      0        1.0             12.0  Credit Card    Male   \n",
       "\n",
       "   Service_Score Account_user_count account_segment  CC_Agent_Score  \\\n",
       "0            3.0                  3           Super             2.0   \n",
       "1            3.0                  4    Regular Plus             3.0   \n",
       "2            2.0                  4    Regular Plus             3.0   \n",
       "3            2.0                  4           Super             5.0   \n",
       "4            2.0                  3    Regular Plus             5.0   \n",
       "\n",
       "  Marital_Status rev_per_month  Complain_ly rev_growth_yoy  \\\n",
       "0         Single             9          1.0             11   \n",
       "1         Single             7          1.0             15   \n",
       "2         Single             6          1.0             14   \n",
       "3         Single             8          0.0             23   \n",
       "4         Single             3          0.0             11   \n",
       "\n",
       "  coupon_used_for_payment Day_Since_CC_connect cashback Login_device  \n",
       "0                       1                    5   159.93       Mobile  \n",
       "1                       0                    0    120.9       Mobile  \n",
       "2                       0                    3      NaN       Mobile  \n",
       "3                       0                    3   134.07       Mobile  \n",
       "4                       1                    3    129.6       Mobile  "
      ]
     },
     "execution_count": 274,
     "metadata": {},
     "output_type": "execute_result"
    }
   ],
   "source": [
    "#Checking the top 5 records of the dataset\n",
    "pd.options.display.max_columns = None\n",
    "print('Printing the top 5 records of the data frame\\n\\n')\n",
    "df.head(5)"
   ]
  },
  {
   "cell_type": "code",
   "execution_count": 275,
   "id": "53817fa3-ac71-48b2-b868-b222afe6286c",
   "metadata": {},
   "outputs": [
    {
     "name": "stdout",
     "output_type": "stream",
     "text": [
      "Printing information about the data :\n",
      "\n",
      "\n",
      "<class 'pandas.core.frame.DataFrame'>\n",
      "RangeIndex: 11260 entries, 0 to 11259\n",
      "Data columns (total 19 columns):\n",
      " #   Column                   Non-Null Count  Dtype  \n",
      "---  ------                   --------------  -----  \n",
      " 0   AccountID                11260 non-null  int64  \n",
      " 1   Churn                    11260 non-null  int64  \n",
      " 2   Tenure                   11158 non-null  object \n",
      " 3   City_Tier                11148 non-null  float64\n",
      " 4   CC_Contacted_LY          11158 non-null  float64\n",
      " 5   Payment                  11151 non-null  object \n",
      " 6   Gender                   11152 non-null  object \n",
      " 7   Service_Score            11162 non-null  float64\n",
      " 8   Account_user_count       11148 non-null  object \n",
      " 9   account_segment          11163 non-null  object \n",
      " 10  CC_Agent_Score           11144 non-null  float64\n",
      " 11  Marital_Status           11048 non-null  object \n",
      " 12  rev_per_month            11158 non-null  object \n",
      " 13  Complain_ly              10903 non-null  float64\n",
      " 14  rev_growth_yoy           11260 non-null  object \n",
      " 15  coupon_used_for_payment  11260 non-null  object \n",
      " 16  Day_Since_CC_connect     10903 non-null  object \n",
      " 17  cashback                 10789 non-null  object \n",
      " 18  Login_device             11039 non-null  object \n",
      "dtypes: float64(5), int64(2), object(12)\n",
      "memory usage: 1.6+ MB\n"
     ]
    }
   ],
   "source": [
    "#Checking the information about the data for primary understanding\n",
    "print('Printing information about the data :\\n\\n')\n",
    "df.info()"
   ]
  },
  {
   "cell_type": "code",
   "execution_count": 276,
   "id": "1a8a1549",
   "metadata": {
    "tags": []
   },
   "outputs": [
    {
     "name": "stdout",
     "output_type": "stream",
     "text": [
      "Displaying the shape and size of the data\n",
      "The shape of the data is :  (11260, 19)\n",
      "The size of the data is :  213940\n",
      "The shape and size of the data displayed successfully\n"
     ]
    }
   ],
   "source": [
    "#checking the shape and size of the dataframe\n",
    "print('Displaying the shape and size of the data')\n",
    "print('The shape of the data is : ',df.shape)\n",
    "print('The size of the data is : ',df.size)\n",
    "print('The shape and size of the data displayed successfully')"
   ]
  },
  {
   "cell_type": "code",
   "execution_count": 277,
   "id": "de1881a8-861a-4b67-bd0d-da50e30f28d5",
   "metadata": {
    "tags": []
   },
   "outputs": [
    {
     "name": "stdout",
     "output_type": "stream",
     "text": [
      "Percentage of missing values in each column are as below : \n",
      "\n",
      "AccountID                  0.00\n",
      "Churn                      0.00\n",
      "Tenure                     0.91\n",
      "City_Tier                  0.99\n",
      "CC_Contacted_LY            0.91\n",
      "Payment                    0.97\n",
      "Gender                     0.96\n",
      "Service_Score              0.87\n",
      "Account_user_count         0.99\n",
      "account_segment            0.86\n",
      "CC_Agent_Score             1.03\n",
      "Marital_Status             1.88\n",
      "rev_per_month              0.91\n",
      "Complain_ly                3.17\n",
      "rev_growth_yoy             0.00\n",
      "coupon_used_for_payment    0.00\n",
      "Day_Since_CC_connect       3.17\n",
      "cashback                   4.18\n",
      "Login_device               1.96\n",
      "dtype: float64\n"
     ]
    }
   ],
   "source": [
    "#Checking the percentage of missing values :\n",
    "\n",
    "print('Percentage of missing values in each column are as below : \\n')\n",
    "print(round(df.isna().sum(axis=0)/112.60,2))"
   ]
  },
  {
   "cell_type": "markdown",
   "id": "2a6d600f",
   "metadata": {
    "tags": []
   },
   "source": [
    "<b>Analyst Observation :</b> \n",
    "<p>\n",
    "    <ol>\n",
    "        <li>The data provided in the excel formated is loaded to the pandas dataframe successfully.</li>\n",
    "        <li>The given Customer Churn data has 19 Columns and 11260 records.</li>\n",
    "        <li>The total cells in the given data are 19*11260 = 213940.</li>\n",
    "        <li>There are 0% missing values in columns namely AccountID, Churn, rev_growth_yoy and coupon_used_for_payment.</li>\n",
    "        <li>The percentage of missing values in each column is in the range of 1% to 4.18%.</li>\n",
    "    </ol>\n",
    "</p>"
   ]
  },
  {
   "cell_type": "markdown",
   "id": "0060eb50-98b4-4ba9-851c-e957a1a4137a",
   "metadata": {
    "tags": []
   },
   "source": [
    "# Data Cleaning"
   ]
  },
  {
   "cell_type": "code",
   "execution_count": 278,
   "id": "67006f26",
   "metadata": {
    "tags": []
   },
   "outputs": [
    {
     "name": "stdout",
     "output_type": "stream",
     "text": [
      "Printing the list of columns\n",
      "The coloumns in the given data are : \n",
      "Index(['AccountID', 'Churn', 'Tenure', 'City_Tier', 'CC_Contacted_LY',\n",
      "       'Payment', 'Gender', 'Service_Score', 'Account_user_count',\n",
      "       'account_segment', 'CC_Agent_Score', 'Marital_Status', 'rev_per_month',\n",
      "       'Complain_ly', 'rev_growth_yoy', 'coupon_used_for_payment',\n",
      "       'Day_Since_CC_connect', 'cashback', 'Login_device'],\n",
      "      dtype='object')\n",
      "The total number of columns are :  19\n",
      "Details of the columns printed successfully\n"
     ]
    }
   ],
   "source": [
    "#Checking the list of columns in the given data\n",
    "print('Printing the list of columns')\n",
    "print('The coloumns in the given data are : ')\n",
    "print(df.columns)\n",
    "print('The total number of columns are : ',len(df.columns))\n",
    "print('Details of the columns printed successfully')"
   ]
  },
  {
   "cell_type": "markdown",
   "id": "636914c3-aa80-4634-8f20-4c295bf972d4",
   "metadata": {
    "tags": []
   },
   "source": [
    "## Data Cleaning of Churn Feature"
   ]
  },
  {
   "cell_type": "markdown",
   "id": "588ef095-80f5-44e3-8fbd-d4b575214c15",
   "metadata": {
    "tags": []
   },
   "source": [
    "### Removing irrelevant data for Churn Feature"
   ]
  },
  {
   "cell_type": "code",
   "execution_count": 279,
   "id": "e833ec90-6fdf-4931-acb9-b4010a77feec",
   "metadata": {
    "tags": []
   },
   "outputs": [
    {
     "name": "stdout",
     "output_type": "stream",
     "text": [
      "Printing the value counts of Churn feature: \n",
      "\n",
      "Churn\n",
      "0    9364\n",
      "1    1896\n",
      "Name: count, dtype: int64\n",
      "Value Counts of Churn feature printed successfully\n"
     ]
    }
   ],
   "source": [
    "#Checking unique values with their frequency in the churn Feature including null values\n",
    "print('Printing the value counts of Churn feature: \\n')\n",
    "print(df['Churn'].value_counts(dropna=False))\n",
    "print('Value Counts of Churn feature printed successfully')"
   ]
  },
  {
   "cell_type": "markdown",
   "id": "336be85e-5b66-4a63-8ea2-940a989ac7c8",
   "metadata": {},
   "source": [
    "<b>Analyst Observation :</b>\n",
    "<p>\n",
    "    No Irrelevant Data observed. Hence no action required.\n",
    "</p>"
   ]
  },
  {
   "cell_type": "markdown",
   "id": "e32b59c3-8af4-42af-b34a-46061ff941dd",
   "metadata": {
    "tags": []
   },
   "source": [
    "### Missing Value Analysis For Churn Feature"
   ]
  },
  {
   "cell_type": "code",
   "execution_count": 280,
   "id": "c5e8e689-39c6-44e9-8a93-69c95cec418e",
   "metadata": {
    "tags": []
   },
   "outputs": [
    {
     "name": "stdout",
     "output_type": "stream",
     "text": [
      "Percentage of missing values in the Churn feature is :  0.0 %\n"
     ]
    }
   ],
   "source": [
    "#Checking the percentage of null values in the Churn feature of the data provided\n",
    "print('Percentage of missing values in the Churn feature is : ', df['Churn'].isna().mean()*100, '%')"
   ]
  },
  {
   "cell_type": "markdown",
   "id": "11a908e4-7877-41bb-98c8-d4ab9c5afc49",
   "metadata": {},
   "source": [
    "<b>Analyst Observation : </b>\n",
    "<p>\n",
    "    There are no missing values in this feature. Hence there is no further missing value treatment required.\n",
    "</p>"
   ]
  },
  {
   "cell_type": "markdown",
   "id": "3798d4e5-0943-4a05-b23d-bf6fc01dbb88",
   "metadata": {
    "tags": []
   },
   "source": [
    "### Outlier Detection and Treatment for Churn Feature"
   ]
  },
  {
   "cell_type": "markdown",
   "id": "2a743922-76f5-4a7d-bfad-c05b304bc8f5",
   "metadata": {},
   "source": [
    "<b>Analyst Observation : </b>\n",
    "<p>\n",
    "    This feature is having only Zero's and One's. It is a binary variable.<br>\n",
    "    There are no other values found.<br>\n",
    "    Hence there are no outliers observed and no further outlier treatment is required for this feature.\n",
    "</p>    "
   ]
  },
  {
   "cell_type": "markdown",
   "id": "b3ae33eb-eea4-4ac8-9a2f-24aa03292fd0",
   "metadata": {
    "tags": []
   },
   "source": [
    "## Data Cleaning of Tenure Feature"
   ]
  },
  {
   "cell_type": "markdown",
   "id": "979b95c4-073a-48fa-84e4-b1595b7b90ca",
   "metadata": {
    "tags": []
   },
   "source": [
    "### Removing Irrelevant data from Tenure Feature"
   ]
  },
  {
   "cell_type": "code",
   "execution_count": 281,
   "id": "3568611e-9295-4514-8a73-d273426850d0",
   "metadata": {
    "tags": []
   },
   "outputs": [
    {
     "name": "stdout",
     "output_type": "stream",
     "text": [
      "Printing the value counts of Tenure feature: \n",
      "\n",
      "Tenure\n",
      "1      1351\n",
      "0      1231\n",
      "8       519\n",
      "9       496\n",
      "7       450\n",
      "10      423\n",
      "3       410\n",
      "5       403\n",
      "4       403\n",
      "11      388\n",
      "6       363\n",
      "12      360\n",
      "13      359\n",
      "2       354\n",
      "14      345\n",
      "15      311\n",
      "16      291\n",
      "19      273\n",
      "18      253\n",
      "20      217\n",
      "17      215\n",
      "21      170\n",
      "23      169\n",
      "22      151\n",
      "24      147\n",
      "28      137\n",
      "30      137\n",
      "99      131\n",
      "27      131\n",
      "26      122\n",
      "#       116\n",
      "25      114\n",
      "29      114\n",
      "NaN     102\n",
      "31       96\n",
      "50        2\n",
      "60        2\n",
      "51        2\n",
      "61        2\n",
      "Name: count, dtype: int64\n",
      "\n",
      "Value Counts of Tenure feature printed successfully\n",
      "object\n"
     ]
    }
   ],
   "source": [
    "# Checking unique values with their frequencies in the Tenure Feature\n",
    "print('Printing the value counts of Tenure feature: \\n')\n",
    "print(df['Tenure'].value_counts(dropna=False))\n",
    "print('\\nValue Counts of Tenure feature printed successfully')\n",
    "print(df['Tenure'].dtype)"
   ]
  },
  {
   "cell_type": "markdown",
   "id": "f5629e2a-6bb7-46c0-8ced-daf976ddd186",
   "metadata": {
    "tags": []
   },
   "source": [
    "<b>Analyst Observations :</b>\n",
    "<p>\n",
    "    <ol>\n",
    "        <li>Tenure Feature contains discrete numerical data.</li>\n",
    "        <li>It is observed that there are non-numeric values (#) in the tenure feature. These values have to be replaced with NaN</li>\n",
    "        <li>There are 116 records having non-numeric values and 102 records having NaN. Hence after replacing the non-number value that is '#' with NaN, there there will be 102+116=218 NaN values in the Tenure Feature</li>\n",
    "    </ol>\n",
    "</p>"
   ]
  },
  {
   "cell_type": "code",
   "execution_count": 282,
   "id": "99020e7e-2599-404a-a72a-71a43074df71",
   "metadata": {
    "tags": []
   },
   "outputs": [
    {
     "name": "stdout",
     "output_type": "stream",
     "text": [
      "Replacing the non-numeric value that is '#' with NaN in the Tenure Feature :\n",
      "\n",
      "\n",
      "Replaced the non-numeric value that is '#' with NaN in the Tenure Feature successfully :\n",
      "\n",
      "Printing the value counts of Tenure feature to check whether the non-numeric value is replaced with NaN successfully or not :\n",
      "\n",
      "Tenure\n",
      "0       1231\n",
      "1       1351\n",
      "2        354\n",
      "3        410\n",
      "4        403\n",
      "5        403\n",
      "6        363\n",
      "7        450\n",
      "8        519\n",
      "9        496\n",
      "10       423\n",
      "11       388\n",
      "12       360\n",
      "13       359\n",
      "14       345\n",
      "15       311\n",
      "16       291\n",
      "17       215\n",
      "18       253\n",
      "19       273\n",
      "20       217\n",
      "21       170\n",
      "22       151\n",
      "23       169\n",
      "24       147\n",
      "25       114\n",
      "26       122\n",
      "27       131\n",
      "28       137\n",
      "29       114\n",
      "30       137\n",
      "31        96\n",
      "50         2\n",
      "51         2\n",
      "60         2\n",
      "61         2\n",
      "99       131\n",
      "None     116\n",
      "NaN      102\n",
      "Name: count, dtype: int64\n",
      "\n",
      "The total number of null values in the Tenure feature is :  218\n"
     ]
    }
   ],
   "source": [
    "# Replacing the non-numeric value that is '#' with NaN in the Tenure Feature\n",
    "print(\"Replacing the non-numeric value that is '#' with NaN in the Tenure Feature :\\n\")\n",
    "df['Tenure'].replace('#',None,inplace=True)\n",
    "print(\"\\nReplaced the non-numeric value that is '#' with NaN in the Tenure Feature successfully :\\n\")\n",
    "print('Printing the value counts of Tenure feature to check whether the non-numeric value is replaced with NaN successfully or not :\\n')\n",
    "print(df['Tenure'].value_counts(dropna=False).sort_index())\n",
    "\n",
    "#Checking the total number of null values in the tenure feature after replacing the irrelevant values\n",
    "print('\\nThe total number of null values in the Tenure feature is : ',df['Tenure'].isna().sum())"
   ]
  },
  {
   "cell_type": "markdown",
   "id": "7b3c3b29-6cbe-46ed-a223-5a3dc7da711d",
   "metadata": {},
   "source": [
    "<b>Analyst Observation : </b>\n",
    "<p>\n",
    "    After replacing the '#' value with None, it is observed that the total number of null values is 218\n",
    "</p>\n",
    "<p>\n",
    "    Hence it is concluded that all the irrelevant values are replace with null values.\n",
    "</p>"
   ]
  },
  {
   "cell_type": "markdown",
   "id": "2948027b-a7fb-429e-bc8b-d613a16d353a",
   "metadata": {
    "tags": []
   },
   "source": [
    "### Missing Value analysis and Treatment for Tenure Feature"
   ]
  },
  {
   "cell_type": "code",
   "execution_count": 283,
   "id": "d9fe556e-0fa9-4b36-aabe-285ff54e7b12",
   "metadata": {
    "tags": []
   },
   "outputs": [
    {
     "name": "stdout",
     "output_type": "stream",
     "text": [
      "\n",
      "Total number of null values in Tenure feature is :  218\n",
      "\n",
      "Percentage of null values in Tenure feature is :  1.9360568383658971\n",
      "\n",
      "The mean of Tenure feature is :  11.025086035138562\n",
      "\n",
      "The median of Tenure feature is :  9.0\n",
      "\n",
      "The mode Tenure of feature is :  0    1\n",
      "Name: Tenure, dtype: object\n",
      "\n",
      "Other statistical information on tenure feature : \n",
      "\n"
     ]
    },
    {
     "data": {
      "text/plain": [
       "count     11042\n",
       "unique       37\n",
       "top           1\n",
       "freq       1351\n",
       "Name: Tenure, dtype: int64"
      ]
     },
     "execution_count": 283,
     "metadata": {},
     "output_type": "execute_result"
    }
   ],
   "source": [
    "#Gathering statistical information on Tenure feature\n",
    "\n",
    "print('\\nTotal number of null values in Tenure feature is : ', df['Tenure'].isna().sum())\n",
    "print('\\nPercentage of null values in Tenure feature is : ', df['Tenure'].isna().mean()*100)\n",
    "print('\\nThe mean of Tenure feature is : ', df['Tenure'].mean())\n",
    "print('\\nThe median of Tenure feature is : ', df['Tenure'].median())\n",
    "print('\\nThe mode Tenure of feature is : ', df['Tenure'].mode())\n",
    "print('\\nOther statistical information on tenure feature : \\n')\n",
    "df['Tenure'].describe()"
   ]
  },
  {
   "cell_type": "code",
   "execution_count": 284,
   "id": "0c2ed7be-ec92-4b23-9680-98223e978243",
   "metadata": {
    "tags": []
   },
   "outputs": [
    {
     "name": "stdout",
     "output_type": "stream",
     "text": [
      "The Median of the Tenure feature is :  9 \n",
      "\n",
      "Printing the value counts of the tenure variable to check whether the null values are replace or not : \n",
      "Tenure\n",
      "0     1231\n",
      "1     1351\n",
      "2      354\n",
      "3      410\n",
      "4      403\n",
      "5      403\n",
      "6      363\n",
      "7      450\n",
      "8      519\n",
      "9      714\n",
      "10     423\n",
      "11     388\n",
      "12     360\n",
      "13     359\n",
      "14     345\n",
      "15     311\n",
      "16     291\n",
      "17     215\n",
      "18     253\n",
      "19     273\n",
      "20     217\n",
      "21     170\n",
      "22     151\n",
      "23     169\n",
      "24     147\n",
      "25     114\n",
      "26     122\n",
      "27     131\n",
      "28     137\n",
      "29     114\n",
      "30     137\n",
      "31      96\n",
      "50       2\n",
      "51       2\n",
      "60       2\n",
      "61       2\n",
      "99     131\n",
      "Name: count, dtype: int64\n",
      "Data type of tenure feature after handling missing value is :  int64\n"
     ]
    }
   ],
   "source": [
    "#Replacing the missing value with median value as there are outliers\n",
    "print('The Median of the Tenure feature is : ',int(df['Tenure'].median()),'\\n')\n",
    "df['Tenure'].fillna(int(df['Tenure'].median()),inplace=True)\n",
    "print('Printing the value counts of the tenure variable to check whether the null values are replace or not : ')\n",
    "print(df['Tenure'].value_counts(dropna=False).sort_index())\n",
    "print('Data type of tenure feature after handling missing value is : ',df['Tenure'].dtype)"
   ]
  },
  {
   "cell_type": "markdown",
   "id": "3a1a919b-e0e8-4c09-b4f7-fc9b724751c2",
   "metadata": {},
   "source": [
    "<b>Analyst Observation : </b>\n",
    "<p>\n",
    "    <ul>\n",
    "        <li>Null values are replace with median</li>\n",
    "        <li>After replacing null values with median, there are no null values, and the value count of 9 (median value) has increased from 496 to 714.</li>\n",
    "        <li>This indicates that all the null values in Tenure variable are replaced with 9 (median value of Tenure).</li>\n",
    "        <li>Hence the missing value is treated by median imputation method successfully.</li>\n",
    "        <li>After handling missing values in Tenure Feature, the data type of tenure feature is changed from object type to int64 type</li>\n",
    "    </ul>  \n",
    "</p>"
   ]
  },
  {
   "cell_type": "markdown",
   "id": "2af9e53e-3ab2-4749-b4e6-ad13b78c84c4",
   "metadata": {
    "tags": []
   },
   "source": [
    "### \n",
    "\n",
    "Outlier Detection and Treatment for Tenure Feature"
   ]
  },
  {
   "cell_type": "code",
   "execution_count": 285,
   "id": "7fcad52c-c24d-425b-ab2d-0630d282cc58",
   "metadata": {
    "tags": []
   },
   "outputs": [
    {
     "data": {
      "image/png": "[encoded data removed]",
      "text/plain": [
       "<Figure size 640x480 with 1 Axes>"
      ]
     },
     "metadata": {},
     "output_type": "display_data"
    }
   ],
   "source": [
    "# Generating boxplot for Tenure Feature to check for outliers\n",
    "plt.clf()\n",
    "df.boxplot(column='Tenure').plot()\n",
    "plt.show()"
   ]
  },
  {
   "cell_type": "code",
   "execution_count": 286,
   "id": "bb1d7999-60e4-4fc9-a8e1-63152dc98106",
   "metadata": {
    "tags": []
   },
   "outputs": [
    {
     "name": "stdout",
     "output_type": "stream",
     "text": [
      "The Maximum Cap Value of tenure feature in the boxplot is :  31 \n",
      "\n",
      "Displaying the tenure outliers boolean array :\n",
      "\n",
      "[False False False False False False  True False False False False False\n",
      " False False False False False False False False False False False False\n",
      " False False False False False False False False  True  True False  True\n",
      "  True]\n",
      "\n",
      "The outliers in the Tenure feature are : \n",
      "\n",
      "[99 50 60 51 61]\n",
      "\n",
      "Replacing all the outliers with median : \n",
      "\n",
      "Printing the value counts of Tenure feature after replacing the outliers with  31\n",
      "Tenure\n",
      "1     1351\n",
      "0     1231\n",
      "9      853\n",
      "8      519\n",
      "7      450\n",
      "10     423\n",
      "3      410\n",
      "5      403\n",
      "4      403\n",
      "11     388\n",
      "6      363\n",
      "12     360\n",
      "13     359\n",
      "2      354\n",
      "14     345\n",
      "15     311\n",
      "16     291\n",
      "19     273\n",
      "18     253\n",
      "20     217\n",
      "17     215\n",
      "21     170\n",
      "23     169\n",
      "22     151\n",
      "24     147\n",
      "28     137\n",
      "30     137\n",
      "27     131\n",
      "26     122\n",
      "25     114\n",
      "29     114\n",
      "31      96\n",
      "Name: count, dtype: int64\n",
      "\n",
      "All the outlier in the Tenure feature are replaced successfully\n"
     ]
    },
    {
     "data": {
      "image/png": "[encoded data removed]",
      "text/plain": [
       "<Figure size 640x480 with 1 Axes>"
      ]
     },
     "metadata": {},
     "output_type": "display_data"
    }
   ],
   "source": [
    "#Computing the max cap value from the boxplot\n",
    "TenureBoxPlot = df.boxplot(column='Tenure', return_type='dict')\n",
    "TenureMaxCapValue = TenureBoxPlot['caps'][1].get_ydata()[0]\n",
    "print('The Maximum Cap Value of tenure feature in the boxplot is : ',TenureMaxCapValue, '\\n' )\n",
    "\n",
    "#Computing the list of outliers\n",
    "TenureOutlierBoolean = df['Tenure'].unique() > TenureMaxCapValue\n",
    "print('Displaying the tenure outliers boolean array :\\n')\n",
    "print(TenureOutlierBoolean)\n",
    "TenureOutliersArr = df['Tenure'].unique()[TenureOutlierBoolean]\n",
    "print('\\nThe outliers in the Tenure feature are : \\n')\n",
    "print(TenureOutliersArr)\n",
    "\n",
    "#Replacing outliers with maxcap value\n",
    "print('\\nReplacing all the outliers with median : \\n')\n",
    "df['Tenure'].replace(list(TenureOutliersArr), int(df['Tenure'].median()), inplace=True)\n",
    "print('Printing the value counts of Tenure feature after replacing the outliers with ',TenureMaxCapValue)\n",
    "print(df['Tenure'].value_counts(dropna=False))\n",
    "print('\\nAll the outlier in the Tenure feature are replaced successfully')\n",
    "\n",
    "\n",
    "#Deleting all the temporary variables created during outlier detection and treatment\n",
    "del TenureOutliersArr\n",
    "del TenureOutlierBoolean\n",
    "del TenureMaxCapValue\n",
    "del TenureBoxPlot"
   ]
  },
  {
   "cell_type": "markdown",
   "id": "0f9d301f-55a3-4ff0-be9e-5f45c370f778",
   "metadata": {},
   "source": [
    "<b>Analyst Observation : </b>\n",
    "<p>\n",
    "    <ul>\n",
    "        <li>Observed that there are outliers form the boxplot.</li>\n",
    "        <li>The outliers are [99 50 60 51 61], and the maxcap value from the box plot is 31.</li>\n",
    "        <li>Thus replaced all the outliers with 31 successfully.</li>\n",
    "    </ul>\n",
    "</p>"
   ]
  },
  {
   "cell_type": "markdown",
   "id": "4ed31225-ae10-433f-acbd-c476239f2807",
   "metadata": {
    "tags": []
   },
   "source": [
    "## Data Cleaning of City_Tier Feature"
   ]
  },
  {
   "cell_type": "markdown",
   "id": "47039098-4667-483e-8130-8b8a3de0b82e",
   "metadata": {
    "tags": []
   },
   "source": [
    "### Removing Irrelevant data from City_Tier Feature"
   ]
  },
  {
   "cell_type": "code",
   "execution_count": 287,
   "id": "9b824652-12ae-4d3d-91aa-5993e1970b4c",
   "metadata": {
    "tags": []
   },
   "outputs": [
    {
     "name": "stdout",
     "output_type": "stream",
     "text": [
      "Printing the value counts of City_Tier feature: \n",
      "\n",
      "City_Tier\n",
      "1.0    7263\n",
      "2.0     480\n",
      "3.0    3405\n",
      "NaN     112\n",
      "Name: count, dtype: int64\n",
      "\n",
      "Value Counts of City_Tier feature printed successfully\n"
     ]
    }
   ],
   "source": [
    "# Checking unique values with their frequencies in the City_Tier Feature\n",
    "print('Printing the value counts of City_Tier feature: \\n')\n",
    "print(df['City_Tier'].value_counts(dropna=False).sort_index())\n",
    "print('\\nValue Counts of City_Tier feature printed successfully')"
   ]
  },
  {
   "cell_type": "markdown",
   "id": "4314a1dd-8ba9-4014-bc49-524672ac903d",
   "metadata": {},
   "source": [
    "<b>Analyst Observation : </b>\n",
    "<p>\n",
    "    No irrelevant data observed in City_Tier feature. <br>\n",
    "    Hence no further action on irrelevant data is required.\n",
    "</p>"
   ]
  },
  {
   "cell_type": "markdown",
   "id": "abab67f7-72d5-4162-8b58-4f6e3aae4505",
   "metadata": {},
   "source": [
    "### Missing Value analysis and Treatment for City_Tier Feature"
   ]
  },
  {
   "cell_type": "code",
   "execution_count": 288,
   "id": "ce52b749-39c3-4637-bb87-6c0d149563ea",
   "metadata": {
    "tags": []
   },
   "outputs": [
    {
     "name": "stdout",
     "output_type": "stream",
     "text": [
      "\n",
      "Total number of null values in City_Tier feature is :  112\n",
      "\n",
      "Percentage of null values in City_Tier feature is :  0.9946714031971581\n",
      "\n",
      "The mean of City_Tier feature is :  1.653928955866523\n",
      "\n",
      "The median of City_Tier feature is :  1.0\n",
      "\n",
      "The mode City_Tier of feature is :  0    1.0\n",
      "Name: City_Tier, dtype: float64\n",
      "\n",
      "Other statistical information on City_Tier feature : \n",
      "\n"
     ]
    },
    {
     "data": {
      "text/plain": [
       "count    11148.000000\n",
       "mean         1.653929\n",
       "std          0.915015\n",
       "min          1.000000\n",
       "25%          1.000000\n",
       "50%          1.000000\n",
       "75%          3.000000\n",
       "max          3.000000\n",
       "Name: City_Tier, dtype: float64"
      ]
     },
     "execution_count": 288,
     "metadata": {},
     "output_type": "execute_result"
    }
   ],
   "source": [
    "#Gathering statistical information on City_Tier feature\n",
    "\n",
    "print('\\nTotal number of null values in City_Tier feature is : ', df['City_Tier'].isna().sum())\n",
    "print('\\nPercentage of null values in City_Tier feature is : ', df['City_Tier'].isna().mean()*100)\n",
    "print('\\nThe mean of City_Tier feature is : ', df['City_Tier'].mean())\n",
    "print('\\nThe median of City_Tier feature is : ', df['City_Tier'].median())\n",
    "print('\\nThe mode City_Tier of feature is : ', df['City_Tier'].mode())\n",
    "print('\\nOther statistical information on City_Tier feature : \\n')\n",
    "df['City_Tier'].describe()"
   ]
  },
  {
   "cell_type": "code",
   "execution_count": 289,
   "id": "7467ebb8-3f4e-4c99-9834-33271d109c55",
   "metadata": {
    "tags": []
   },
   "outputs": [
    {
     "name": "stdout",
     "output_type": "stream",
     "text": [
      "Total number of null values in the City_Tier feature are :  112\n",
      "Replacing the null values in the City_Tier feature with mode\n",
      "\n",
      "Null values in City_Tier Feature replaced successfully\n",
      "\n",
      "Printing the value counts of City_Tier feature after replacin the null values with mode : \n",
      "\n",
      "City_Tier\n",
      "1.0    7375\n",
      "2.0     480\n",
      "3.0    3405\n",
      "Name: count, dtype: int64\n",
      "\n",
      "Total number of null values in the City_Tier feature after replacing the null values with mode is :  0\n"
     ]
    }
   ],
   "source": [
    "#As the City_Tier is a categorical variable. The median and mode are same.\n",
    "#Thus replacing the City_Tier feature with mode\n",
    "\n",
    "print('Total number of null values in the City_Tier feature are : ',df['City_Tier'].isna().sum())\n",
    "print('Replacing the null values in the City_Tier feature with mode\\n')\n",
    "df['City_Tier'].fillna(df['City_Tier'].mode()[0],inplace=True)\n",
    "print('Null values in City_Tier Feature replaced successfully')\n",
    "print('\\nPrinting the value counts of City_Tier feature after replacin the null values with mode : \\n')\n",
    "print(df['City_Tier'].value_counts(dropna=False).sort_index())\n",
    "print('\\nTotal number of null values in the City_Tier feature after replacing the null values with mode is : ',df['City_Tier'].isna().sum())"
   ]
  },
  {
   "cell_type": "markdown",
   "id": "f1ad56a5-0dcc-40d9-b257-70358d49d3e9",
   "metadata": {},
   "source": [
    "<b>Analyst Observation : </b>\n",
    "<p>\n",
    "    <ul>\n",
    "        <li>City_Tier is a categorical variable and observed that there are 112 null values</li>\n",
    "        <li>Null values City_Tier variable are replaced with mode (1.0) </li>\n",
    "    </ul>\n",
    "</p>"
   ]
  },
  {
   "cell_type": "markdown",
   "id": "5b684108-3175-41dc-8b83-82508efdff75",
   "metadata": {
    "tags": []
   },
   "source": [
    "### Outlier Detection and Treatment for City_Tier Feature"
   ]
  },
  {
   "cell_type": "code",
   "execution_count": 290,
   "id": "8b8ec174-3b20-49ee-9158-892114691a99",
   "metadata": {
    "tags": []
   },
   "outputs": [
    {
     "data": {
      "image/png": "[encoded data removed]",
      "text/plain": [
       "<Figure size 640x480 with 1 Axes>"
      ]
     },
     "metadata": {},
     "output_type": "display_data"
    }
   ],
   "source": [
    "# Generating boxplot for City_Tier Feature to check for outliers\n",
    "plt.clf()\n",
    "df.boxplot(column='City_Tier').plot()\n",
    "plt.show()"
   ]
  },
  {
   "cell_type": "markdown",
   "id": "d693bea1-74d3-46a9-a7f7-794f46aaa429",
   "metadata": {},
   "source": [
    "<b>Analyst Observation : </b>\n",
    "<p>\n",
    "    No outliers observed in the City_Tier feature.<br>\n",
    "    Hence no outlier treatment is required.\n",
    "</p>"
   ]
  },
  {
   "cell_type": "markdown",
   "id": "3bf640e8-f4d3-4a17-9546-7d721a4c94d4",
   "metadata": {
    "tags": []
   },
   "source": [
    "## Data Cleaning of CC_Contacted_LY Feature"
   ]
  },
  {
   "cell_type": "markdown",
   "id": "6af51020-6d75-4395-997e-d87560e0d6bb",
   "metadata": {
    "tags": []
   },
   "source": [
    "### Removing Irrelevant data from CC_Contacted_LY Feature"
   ]
  },
  {
   "cell_type": "code",
   "execution_count": 291,
   "id": "023f7805-06e3-435c-b056-b83219e58f83",
   "metadata": {
    "tags": []
   },
   "outputs": [
    {
     "name": "stdout",
     "output_type": "stream",
     "text": [
      "Printing the value counts of CC_Contacted_LY feature: \n",
      "\n",
      "CC_Contacted_LY\n",
      "4.0        1\n",
      "5.0        8\n",
      "6.0      311\n",
      "7.0      391\n",
      "8.0      538\n",
      "9.0      655\n",
      "10.0     489\n",
      "11.0     524\n",
      "12.0     571\n",
      "13.0     655\n",
      "14.0     682\n",
      "15.0     623\n",
      "16.0     663\n",
      "17.0     525\n",
      "18.0     374\n",
      "19.0     364\n",
      "20.0     319\n",
      "21.0     310\n",
      "22.0     282\n",
      "23.0     241\n",
      "24.0     214\n",
      "25.0     197\n",
      "26.0     169\n",
      "27.0     174\n",
      "28.0     178\n",
      "29.0     181\n",
      "30.0     175\n",
      "31.0     165\n",
      "32.0     192\n",
      "33.0     155\n",
      "34.0     178\n",
      "35.0     165\n",
      "36.0     148\n",
      "37.0      96\n",
      "38.0      73\n",
      "39.0      55\n",
      "40.0      46\n",
      "41.0      29\n",
      "42.0      30\n",
      "43.0       8\n",
      "126.0      1\n",
      "127.0      1\n",
      "129.0      1\n",
      "132.0      1\n",
      "NaN      102\n",
      "Name: count, dtype: int64\n",
      "\n",
      "Value Counts of CC_Contacted_LY feature printed successfully\n"
     ]
    }
   ],
   "source": [
    "# Checking unique values with their frequencies in the CC_Contacted_LY Feature\n",
    "print('Printing the value counts of CC_Contacted_LY feature: \\n')\n",
    "print(df['CC_Contacted_LY'].value_counts(dropna=False).sort_index())\n",
    "print('\\nValue Counts of CC_Contacted_LY feature printed successfully')"
   ]
  },
  {
   "cell_type": "markdown",
   "id": "8c28b873-5b2d-4647-9914-28cd82ec5b1d",
   "metadata": {},
   "source": [
    "<b>Analyst Observation : </b>\n",
    "<p>\n",
    "    No irrelevant data observed in CC_Contacted_LY feature.<br>\n",
    "    Hence no further action required on irrelevant data is required.\n",
    "</p>"
   ]
  },
  {
   "cell_type": "markdown",
   "id": "b3082119-b801-476f-a0cd-18505d09e7eb",
   "metadata": {},
   "source": [
    "### Missing Value analysis and Treatment for CC_Contacted_LY Feature"
   ]
  },
  {
   "cell_type": "code",
   "execution_count": 292,
   "id": "35caf677-5d3d-47cc-a108-e5c597777536",
   "metadata": {
    "tags": []
   },
   "outputs": [
    {
     "data": {
      "image/png": "[encoded data removed]",
      "text/plain": [
       "<Figure size 640x480 with 1 Axes>"
      ]
     },
     "metadata": {},
     "output_type": "display_data"
    }
   ],
   "source": [
    "#Generating boxplot and check for outlies in CC_Contacted_LY\n",
    "plt.clf()\n",
    "df.boxplot(column='CC_Contacted_LY').plot()\n",
    "plt.show()"
   ]
  },
  {
   "cell_type": "code",
   "execution_count": 293,
   "id": "36c22525-d2f0-452c-99cc-486b8bdc2cb4",
   "metadata": {
    "tags": []
   },
   "outputs": [
    {
     "name": "stdout",
     "output_type": "stream",
     "text": [
      "\n",
      "Total number of null values in CC_Contacted_LY feature is :  102\n",
      "\n",
      "Percentage of null values in CC_Contacted_LY feature is :  0.9058614564831261\n",
      "\n",
      "The mean of CC_Contacted_LY feature is :  17.867090876501166\n",
      "\n",
      "The median of CC_Contacted_LY feature is :  16.0\n",
      "\n",
      "The mode CC_Contacted_LY of feature is :  0    14.0\n",
      "Name: CC_Contacted_LY, dtype: float64\n",
      "\n",
      "Other statistical information on CC_Contacted_LY feature : \n",
      "\n"
     ]
    },
    {
     "data": {
      "text/plain": [
       "count    11158.000000\n",
       "mean        17.867091\n",
       "std          8.853269\n",
       "min          4.000000\n",
       "25%         11.000000\n",
       "50%         16.000000\n",
       "75%         23.000000\n",
       "max        132.000000\n",
       "Name: CC_Contacted_LY, dtype: float64"
      ]
     },
     "execution_count": 293,
     "metadata": {},
     "output_type": "execute_result"
    }
   ],
   "source": [
    "#Gathering statistical information on CC_Contacted_LY feature\n",
    "\n",
    "print('\\nTotal number of null values in CC_Contacted_LY feature is : ', df['CC_Contacted_LY'].isna().sum())\n",
    "print('\\nPercentage of null values in CC_Contacted_LY feature is : ', df['CC_Contacted_LY'].isna().mean()*100)\n",
    "print('\\nThe mean of CC_Contacted_LY feature is : ', df['CC_Contacted_LY'].mean())\n",
    "print('\\nThe median of CC_Contacted_LY feature is : ', df['CC_Contacted_LY'].median())\n",
    "print('\\nThe mode CC_Contacted_LY of feature is : ', df['CC_Contacted_LY'].mode())\n",
    "print('\\nOther statistical information on CC_Contacted_LY feature : \\n')\n",
    "df['CC_Contacted_LY'].describe()"
   ]
  },
  {
   "cell_type": "code",
   "execution_count": 294,
   "id": "7c67354c-18c9-4357-a27d-443fc3ded96b",
   "metadata": {
    "tags": []
   },
   "outputs": [
    {
     "name": "stdout",
     "output_type": "stream",
     "text": [
      "\n",
      "Total number of missing values in the CC_Contacted_LY feature are :  102\n",
      "The Median of the CC_Contacted_LY feature is :  16.0 \n",
      "\n",
      "Replacing the missing values of CC_Contacted_LY with Median \n",
      "\n",
      "Replaced the missing values of CC_Contacted_LY with median successfully \n",
      "Printing the value counts of the CC_Contacted_LY variable to check whether the null values are replace or not : \n",
      "CC_Contacted_LY\n",
      "4.0        1\n",
      "5.0        8\n",
      "6.0      311\n",
      "7.0      391\n",
      "8.0      538\n",
      "9.0      655\n",
      "10.0     489\n",
      "11.0     524\n",
      "12.0     571\n",
      "13.0     655\n",
      "14.0     682\n",
      "15.0     623\n",
      "16.0     765\n",
      "17.0     525\n",
      "18.0     374\n",
      "19.0     364\n",
      "20.0     319\n",
      "21.0     310\n",
      "22.0     282\n",
      "23.0     241\n",
      "24.0     214\n",
      "25.0     197\n",
      "26.0     169\n",
      "27.0     174\n",
      "28.0     178\n",
      "29.0     181\n",
      "30.0     175\n",
      "31.0     165\n",
      "32.0     192\n",
      "33.0     155\n",
      "34.0     178\n",
      "35.0     165\n",
      "36.0     148\n",
      "37.0      96\n",
      "38.0      73\n",
      "39.0      55\n",
      "40.0      46\n",
      "41.0      29\n",
      "42.0      30\n",
      "43.0       8\n",
      "126.0      1\n",
      "127.0      1\n",
      "129.0      1\n",
      "132.0      1\n",
      "Name: count, dtype: int64\n",
      "\n",
      "Data type of tenure feature after handling missing value is :  float64\n",
      "\n",
      "Total number of null values in CC_Contacted_LY feature after replacing the missing values with median are :  0\n"
     ]
    }
   ],
   "source": [
    "#Replacing the Missing values with median as CC_Contacted_LY has outliers\n",
    "\n",
    "print('\\nTotal number of missing values in the CC_Contacted_LY feature are : ',df['CC_Contacted_LY'].isna().sum())\n",
    "print('The Median of the CC_Contacted_LY feature is : ',df['CC_Contacted_LY'].median(),'\\n')\n",
    "print('Replacing the missing values of CC_Contacted_LY with Median ')\n",
    "df['CC_Contacted_LY'].fillna(df['CC_Contacted_LY'].median(), inplace=True)\n",
    "print('\\nReplaced the missing values of CC_Contacted_LY with median successfully ')\n",
    "print('Printing the value counts of the CC_Contacted_LY variable to check whether the null values are replace or not : ')\n",
    "print(df['CC_Contacted_LY'].value_counts(dropna=False).sort_index())\n",
    "print('\\nData type of tenure feature after handling missing value is : ',df['CC_Contacted_LY'].dtype)\n",
    "print('\\nTotal number of null values in CC_Contacted_LY feature after replacing the missing values with median are : ',df['CC_Contacted_LY'].isna().sum())"
   ]
  },
  {
   "cell_type": "markdown",
   "id": "82e7e8c8-e600-40db-9f81-b49f3ec5704d",
   "metadata": {},
   "source": [
    "<b>Analyst Observation : </b>\n",
    "<p>\n",
    "    <ul>\n",
    "        <li>CC_Contacted_LY is a categorical variable and there are outliers</li>\n",
    "        <li>Hence the missing values are replaced with median</li>\n",
    "        <li>After replacing the missing values with median (16.0), the frequency of 16.0 is increased to 765 from 663 and the null values count is decreased to 0 from 102</li>\n",
    "        <li>Thus all the missing values are replaced with median successfully.</li>\n",
    "    </ul>\n",
    "</p>"
   ]
  },
  {
   "cell_type": "markdown",
   "id": "c82fb26a-bcd6-4a3d-b440-e7cd22e10b04",
   "metadata": {
    "tags": []
   },
   "source": [
    "### Outlier Detection and Treatment for CC_Contacted_LY Feature"
   ]
  },
  {
   "cell_type": "code",
   "execution_count": 295,
   "id": "a51ad06b-3566-4b5e-86bf-e7d29858c0f3",
   "metadata": {
    "tags": []
   },
   "outputs": [
    {
     "name": "stdout",
     "output_type": "stream",
     "text": [
      "The Maximum Cap Value of CC_Contacted_LY feature in the boxplot is :  41.0 \n",
      "\n",
      "Displaying the CC_Contacted_LY outliers boolean array :\n",
      "\n",
      "[False False False False False False False False False False False False\n",
      " False False False False False False False False False False False False\n",
      " False False False False False False False  True False False  True  True\n",
      " False False False False False  True  True  True]\n",
      "\n",
      "The outliers in the CC_Contacted_LY feature are : \n",
      "\n",
      "[126. 127.  42. 132.  43. 129.]\n",
      "\n",
      "Replacing all the outliers with median \n",
      "\n",
      "Printing the value counts of CC_Contacted_LY feature after replacing the outliers with median\n",
      "CC_Contacted_LY\n",
      "4.0       1\n",
      "5.0       8\n",
      "6.0     311\n",
      "7.0     391\n",
      "8.0     538\n",
      "9.0     655\n",
      "10.0    489\n",
      "11.0    524\n",
      "12.0    571\n",
      "13.0    655\n",
      "14.0    682\n",
      "15.0    623\n",
      "16.0    807\n",
      "17.0    525\n",
      "18.0    374\n",
      "19.0    364\n",
      "20.0    319\n",
      "21.0    310\n",
      "22.0    282\n",
      "23.0    241\n",
      "24.0    214\n",
      "25.0    197\n",
      "26.0    169\n",
      "27.0    174\n",
      "28.0    178\n",
      "29.0    181\n",
      "30.0    175\n",
      "31.0    165\n",
      "32.0    192\n",
      "33.0    155\n",
      "34.0    178\n",
      "35.0    165\n",
      "36.0    148\n",
      "37.0     96\n",
      "38.0     73\n",
      "39.0     55\n",
      "40.0     46\n",
      "41.0     29\n",
      "Name: count, dtype: int64\n",
      "\n",
      "All the outlier in the CC_Contacted_LY feature are replaced successfully\n"
     ]
    },
    {
     "data": {
      "image/png": "[encoded data removed]",
      "text/plain": [
       "<Figure size 640x480 with 1 Axes>"
      ]
     },
     "metadata": {},
     "output_type": "display_data"
    }
   ],
   "source": [
    "# There are outliers in CC_Contacted_LY and they have to be handled\n",
    "\n",
    "# Computing the max cap value from the boxplot\n",
    "BoxPlot = df.boxplot(column='CC_Contacted_LY', return_type='dict')\n",
    "MaxCapValue = BoxPlot['caps'][1].get_ydata()[0]\n",
    "print('The Maximum Cap Value of CC_Contacted_LY feature in the boxplot is : ',MaxCapValue, '\\n' )\n",
    "\n",
    "#Computing the list of outliers\n",
    "OutlierBoolean = df['CC_Contacted_LY'].unique() > MaxCapValue\n",
    "print('Displaying the CC_Contacted_LY outliers boolean array :\\n')\n",
    "print(OutlierBoolean)\n",
    "OutliersArr = df['CC_Contacted_LY'].unique()[OutlierBoolean]\n",
    "print('\\nThe outliers in the CC_Contacted_LY feature are : \\n')\n",
    "print(OutliersArr)\n",
    "\n",
    "#Replacing outliers with maxcap value\n",
    "print('\\nReplacing all the outliers with median \\n')\n",
    "df['CC_Contacted_LY'].replace(list(OutliersArr), df['CC_Contacted_LY'].median(), inplace=True)\n",
    "print('Printing the value counts of CC_Contacted_LY feature after replacing the outliers with median')\n",
    "print(df['CC_Contacted_LY'].value_counts(dropna=False).sort_index())\n",
    "print('\\nAll the outlier in the CC_Contacted_LY feature are replaced successfully')\n",
    "\n",
    "\n",
    "#Deleting all the temporary variables created during outlier detection and treatment\n",
    "del OutliersArr\n",
    "del OutlierBoolean\n",
    "del MaxCapValue\n",
    "del BoxPlot"
   ]
  },
  {
   "cell_type": "markdown",
   "id": "e1274fe6-eb18-443f-80ca-068789894c3a",
   "metadata": {},
   "source": [
    "<b>Analyst Observation : </b>\n",
    "<p>\n",
    "    <ul>\n",
    "        <li>Boxplot showed that there are outliers. The maxcap value from the box plot is 41</li>\n",
    "        <li>After replacing the ouliers with 41, the fequency of 41.0 increased to 71</li>\n",
    "        <li>Thus replaced all the outliers with 41 successfully</li>\n",
    "    </ul>\n",
    "</p>"
   ]
  },
  {
   "cell_type": "markdown",
   "id": "475e6802-a009-45e5-9153-a750fc57aa70",
   "metadata": {
    "tags": []
   },
   "source": [
    "## Data Cleaning of Payment Feature"
   ]
  },
  {
   "cell_type": "markdown",
   "id": "5cc54fdc-b88b-4e3a-b541-81896e00007a",
   "metadata": {},
   "source": [
    "### Removing Irrelevant data from Payment Feature"
   ]
  },
  {
   "cell_type": "code",
   "execution_count": 296,
   "id": "890afa92-6495-4d07-8b20-008da42a201e",
   "metadata": {
    "tags": []
   },
   "outputs": [
    {
     "name": "stdout",
     "output_type": "stream",
     "text": [
      "Printing the value counts of Payment feature: \n",
      "\n",
      "Payment\n",
      "Cash on Delivery    1014\n",
      "Credit Card         3511\n",
      "Debit Card          4587\n",
      "E wallet            1217\n",
      "UPI                  822\n",
      "NaN                  109\n",
      "Name: count, dtype: int64\n",
      "\n",
      "Value Counts of Payment feature printed successfully\n"
     ]
    }
   ],
   "source": [
    "# Checking unique values with their frequencies in the Payment Feature\n",
    "print('Printing the value counts of Payment feature: \\n')\n",
    "print(df['Payment'].value_counts(dropna=False).sort_index())\n",
    "print('\\nValue Counts of Payment feature printed successfully')"
   ]
  },
  {
   "cell_type": "markdown",
   "id": "80ba65a2-c090-4a12-abc8-6f79703d2167",
   "metadata": {},
   "source": [
    "<b>Analyst Observation : </b>\n",
    "<p>\n",
    "    No irrelevant data observed in Payment feature.<br>\n",
    "    Hence no further action required on irrelevant data is required.\n",
    "</p>"
   ]
  },
  {
   "cell_type": "markdown",
   "id": "94b6c0ed-7a34-4a9f-8822-4ef570edf54d",
   "metadata": {},
   "source": [
    "### Missing Value analysis and Treatment for Payment Feature"
   ]
  },
  {
   "cell_type": "code",
   "execution_count": 297,
   "id": "bd75612b-039e-4254-b8ec-f13ec902d4e7",
   "metadata": {
    "tags": []
   },
   "outputs": [
    {
     "name": "stdout",
     "output_type": "stream",
     "text": [
      "Total number of null values in the Payment feature are :  109\n",
      "The mode of the Payment feature is  Debit Card\n",
      "Replacing the null values in the Payment feature with mode\n",
      "\n",
      "Null values in Payment Feature replaced successfully\n",
      "\n",
      "Printing the value counts of Payment feature after replacing the null values with mode : \n",
      "\n",
      "Payment\n",
      "Cash on Delivery    1014\n",
      "Credit Card         3511\n",
      "Debit Card          4696\n",
      "E wallet            1217\n",
      "UPI                  822\n",
      "Name: count, dtype: int64\n",
      "\n",
      "Total number of null values in the Payment feature after replacing the null values with mode is :  0\n"
     ]
    }
   ],
   "source": [
    "# Payment is a categorical variable, hence replacing the missing values with mode\n",
    "\n",
    "print('Total number of null values in the Payment feature are : ',df['Payment'].isna().sum())\n",
    "print('The mode of the Payment feature is ',df['Payment'].mode()[0])\n",
    "print('Replacing the null values in the Payment feature with mode\\n')\n",
    "df['Payment'].fillna(df['Payment'].mode()[0],inplace=True)\n",
    "print('Null values in Payment Feature replaced successfully')\n",
    "print('\\nPrinting the value counts of Payment feature after replacing the null values with mode : \\n')\n",
    "print(df['Payment'].value_counts(dropna=False).sort_index())\n",
    "print('\\nTotal number of null values in the Payment feature after replacing the null values with mode is : ',df['Payment'].isna().sum())"
   ]
  },
  {
   "cell_type": "markdown",
   "id": "3d67f18e-9edb-4372-a6bf-1fe85bc4d8fe",
   "metadata": {},
   "source": [
    "<b>Analyst Observation : </b>\n",
    "<p>\n",
    "    <ul>\n",
    "        <li>Payment is a categorical variable and hence the missing values are replaced with mode</li>\n",
    "        <li>After replacing the null values with mode the frequency of Debit Card has increased to 4696 for 4587. Also the frequency of null values in the payment featured are reduced to zero</li>\n",
    "        <li>Thus all missig values in the payment feature replaced with mode successfully</li>\n",
    "    </ul>\n",
    "</p>"
   ]
  },
  {
   "cell_type": "markdown",
   "id": "dd10eb1e-24c0-4ec8-b34d-c2eb172df3e7",
   "metadata": {
    "tags": []
   },
   "source": [
    "### Outlier Detection and Treatment for Payment Feature"
   ]
  },
  {
   "cell_type": "markdown",
   "id": "6f5294e9-2d13-4f4f-9487-607ce7a04f76",
   "metadata": {},
   "source": [
    "<b>Analyst Observation : </b>\n",
    "<p>\n",
    "    No outlier detection and treatment is required for Payment feature.\n",
    "</p>"
   ]
  },
  {
   "cell_type": "markdown",
   "id": "7c3b19d0-7873-4ab8-b008-c2aca4dd11fb",
   "metadata": {
    "tags": []
   },
   "source": [
    "## Data Cleaning of Gender Feature"
   ]
  },
  {
   "cell_type": "markdown",
   "id": "40df0a37-0247-4995-bd5f-d60c698f3a99",
   "metadata": {},
   "source": [
    "### Removing Irrelevant data from Gender Feature"
   ]
  },
  {
   "cell_type": "code",
   "execution_count": 298,
   "id": "3838c8a8-6120-426c-b1fb-1aef385a0432",
   "metadata": {
    "tags": []
   },
   "outputs": [
    {
     "name": "stdout",
     "output_type": "stream",
     "text": [
      "Printing the value counts of Gender feature: \n",
      "\n",
      "Gender\n",
      "Male      6328\n",
      "Female    4178\n",
      "M          376\n",
      "F          270\n",
      "NaN        108\n",
      "Name: count, dtype: int64\n",
      "\n",
      "Value Counts of Gender feature printed successfully\n"
     ]
    }
   ],
   "source": [
    "# Checking unique values with their frequencies in the Gender Feature\n",
    "print('Printing the value counts of Gender feature: \\n')\n",
    "print(df['Gender'].value_counts(dropna=False))\n",
    "print('\\nValue Counts of Gender feature printed successfully')"
   ]
  },
  {
   "cell_type": "code",
   "execution_count": 299,
   "id": "1a5b6149-886e-4ece-acc2-57493f564852",
   "metadata": {
    "tags": []
   },
   "outputs": [
    {
     "name": "stdout",
     "output_type": "stream",
     "text": [
      "Replacing F with Female and M with Male values : \n",
      "\n",
      "Replaced F with Female and M with Male successfully : \n",
      "\n",
      "Gender\n",
      "Female    4448\n",
      "Male      6704\n",
      "NaN        108\n",
      "Name: count, dtype: int64\n"
     ]
    }
   ],
   "source": [
    "# Replacing F with Female and M with Male values. \n",
    "\n",
    "print('Replacing F with Female and M with Male values : \\n')\n",
    "df['Gender'].replace('M','Male',inplace=True)\n",
    "df['Gender'].replace('F','Female',inplace=True)\n",
    "print('Replaced F with Female and M with Male successfully : \\n')\n",
    "print(df['Gender'].value_counts(dropna=False).sort_index())"
   ]
  },
  {
   "cell_type": "markdown",
   "id": "4b52ca0a-5c83-4152-8a0d-c61c50034bdc",
   "metadata": {},
   "source": [
    "<b>Analyst Observation : </b>\n",
    "<p>\n",
    "    <ul>\n",
    "        <li>Observed that there are few entries with F and few entries with Female.</li>\n",
    "        <li>Observed that there are few entries with M and few entries with Male.</li>\n",
    "        <li>As both F and Female conveys the same information and M and Male conveys the same information, F is replaced with Female and M is replaced with Male</li>\n",
    "        <li>Now the feature Gender feature has only Male and Female entries.</li>\n",
    "        <li>Thus irrelevant data is handled.</li>\n",
    "    </ul>\n",
    "</p>"
   ]
  },
  {
   "cell_type": "markdown",
   "id": "0cfb69e3-ff88-4111-b9d7-da054d5fe996",
   "metadata": {},
   "source": [
    "### Missing Value analysis and Treatment for Gender Feature"
   ]
  },
  {
   "cell_type": "code",
   "execution_count": 300,
   "id": "ac6425b6-1e33-4a7f-8165-873733875ada",
   "metadata": {
    "tags": []
   },
   "outputs": [
    {
     "name": "stdout",
     "output_type": "stream",
     "text": [
      "Total number of null values in the Gender feature are :  108\n",
      "The mode of the Gender feature is  Male\n",
      "Replacing the null values in the Gender with mode\n",
      "\n",
      "Null values in Gender Feature replaced successfully\n",
      "\n",
      "Printing the value counts of Gender feature after replacing the null values with mode : \n",
      "\n",
      "Gender\n",
      "Female    4448\n",
      "Male      6812\n",
      "Name: count, dtype: int64\n",
      "\n",
      "Total number of null values in the Gender feature after replacing the null values with mode is :  0\n"
     ]
    }
   ],
   "source": [
    "# Gender is a categorical variable, hence replacing the missing values with mode\n",
    "\n",
    "print('Total number of null values in the Gender feature are : ',df['Gender'].isna().sum())\n",
    "print('The mode of the Gender feature is ',df['Gender'].mode()[0])\n",
    "print('Replacing the null values in the Gender with mode\\n')\n",
    "df['Gender'].fillna(df['Gender'].mode()[0],inplace=True)\n",
    "print('Null values in Gender Feature replaced successfully')\n",
    "print('\\nPrinting the value counts of Gender feature after replacing the null values with mode : \\n')\n",
    "print(df['Gender'].value_counts(dropna=False).sort_index())\n",
    "print('\\nTotal number of null values in the Gender feature after replacing the null values with mode is : ',df['Gender'].isna().sum())"
   ]
  },
  {
   "cell_type": "markdown",
   "id": "2cd7251f-6d30-496d-a6d4-c6a9da7e0f81",
   "metadata": {},
   "source": [
    "<b>Analyst Observation : </b>\n",
    "<p>\n",
    "    <ul>\n",
    "        <li>Gender is a categorical variable and hence the missing values are replaced with Mode</li>\n",
    "        <li>The mode of the the Gender feature is 'Male'</li>\n",
    "        <li>After replacing the missing values with Mode in Gender feature, the frequence of 'Male' is increased from 6704 to 6812. Also the null values frequency decreased to zero.</li>\n",
    "        <li>Thus all the missing values are replaced with Mode in the Gender Feature.</li>\n",
    "    </ul> \n",
    "</p>"
   ]
  },
  {
   "cell_type": "markdown",
   "id": "c1c7ad4b-28c4-4bce-88a4-e716dd76c998",
   "metadata": {},
   "source": [
    "### Outlier Detection and Treatment for Gender Feature"
   ]
  },
  {
   "cell_type": "markdown",
   "id": "ba1f2437-9609-4683-8046-d813a903bb70",
   "metadata": {},
   "source": [
    "<b>Analyst Observation : </b>\n",
    "<p>\n",
    "    No outlier detection and treatment is required for Gender feature.\n",
    "</p>"
   ]
  },
  {
   "cell_type": "markdown",
   "id": "53d40e3d-f5ac-450e-8afd-5f6af11689b4",
   "metadata": {
    "tags": []
   },
   "source": [
    "## Data Cleaning of Service_Score Feature"
   ]
  },
  {
   "cell_type": "markdown",
   "id": "e6b41f13-6883-4dd0-9edb-454b271ccaf7",
   "metadata": {},
   "source": [
    "### Removing Irrelevant data from Service_Score Feature"
   ]
  },
  {
   "cell_type": "code",
   "execution_count": 301,
   "id": "e4dbfdda-d046-4ad2-9567-427715c956dd",
   "metadata": {
    "tags": []
   },
   "outputs": [
    {
     "name": "stdout",
     "output_type": "stream",
     "text": [
      "Printing the value counts of Service_Score feature: \n",
      "\n",
      "Service_Score\n",
      "0.0       8\n",
      "1.0      77\n",
      "2.0    3251\n",
      "3.0    5490\n",
      "4.0    2331\n",
      "5.0       5\n",
      "NaN      98\n",
      "Name: count, dtype: int64\n",
      "\n",
      "Value Counts of Service_Score feature printed successfully\n"
     ]
    }
   ],
   "source": [
    "# Checking unique values with their frequencies in the Service_Score Feature\n",
    "print('Printing the value counts of Service_Score feature: \\n')\n",
    "print(df['Service_Score'].value_counts(dropna=False).sort_index())\n",
    "print('\\nValue Counts of Service_Score feature printed successfully')"
   ]
  },
  {
   "cell_type": "markdown",
   "id": "011c71d3-08e1-418a-b33f-157842145a5a",
   "metadata": {},
   "source": [
    "<b>Analyst Observation : </b>\n",
    "<p>\n",
    "    No irrelevant data observed in Service_Score feature.<br>\n",
    "    Hence no further action required on irrelevant data is required.\n",
    "</p>"
   ]
  },
  {
   "cell_type": "markdown",
   "id": "4dc522c9-82b7-4c5d-a247-820a17c406f2",
   "metadata": {},
   "source": [
    "### Missing Value analysis and Treatment for Service_Score Feature"
   ]
  },
  {
   "cell_type": "code",
   "execution_count": 302,
   "id": "0f538567-90b0-4130-87f2-defba1890f17",
   "metadata": {
    "tags": []
   },
   "outputs": [
    {
     "name": "stdout",
     "output_type": "stream",
     "text": [
      "\n",
      "Total number of null values in Service_Score feature is :  98\n",
      "\n",
      "Percentage of null values in Service_Score feature is :  0.8703374777975134\n",
      "\n",
      "The mean of Service_Score feature is :  2.9025264289553845\n",
      "\n",
      "The median of Service_Score feature is :  3.0\n",
      "\n",
      "The mode of Service_Score feature is :  0    3.0\n",
      "Name: Service_Score, dtype: float64\n",
      "\n",
      "Other statistical information on Service_Score feature : \n",
      "\n"
     ]
    },
    {
     "data": {
      "text/plain": [
       "count    11162.000000\n",
       "mean         2.902526\n",
       "std          0.725584\n",
       "min          0.000000\n",
       "25%          2.000000\n",
       "50%          3.000000\n",
       "75%          3.000000\n",
       "max          5.000000\n",
       "Name: Service_Score, dtype: float64"
      ]
     },
     "execution_count": 302,
     "metadata": {},
     "output_type": "execute_result"
    }
   ],
   "source": [
    "#Gathering statistical information on Service_Score feature\n",
    "\n",
    "print('\\nTotal number of null values in Service_Score feature is : ', df['Service_Score'].isna().sum())\n",
    "print('\\nPercentage of null values in Service_Score feature is : ', df['Service_Score'].isna().mean()*100)\n",
    "print('\\nThe mean of Service_Score feature is : ', df['Service_Score'].mean())\n",
    "print('\\nThe median of Service_Score feature is : ', df['Service_Score'].median())\n",
    "print('\\nThe mode of Service_Score feature is : ', df['Service_Score'].mode())\n",
    "print('\\nOther statistical information on Service_Score feature : \\n')\n",
    "df['Service_Score'].describe()"
   ]
  },
  {
   "cell_type": "code",
   "execution_count": 303,
   "id": "5c9a4543-2dab-4056-9ef8-5a80fd8a87c9",
   "metadata": {
    "tags": []
   },
   "outputs": [
    {
     "name": "stdout",
     "output_type": "stream",
     "text": [
      "Total number of null values in the Service_Score feature are :  98\n",
      "The mode of the Service_Score feature is  3.0\n",
      "Replacing the null values in the Service_Score with mode\n",
      "\n",
      "Null values in Service_Score Feature replaced successfully\n",
      "\n",
      "Printing the value counts of Service_Score feature after replacing the null values with mode : \n",
      "\n",
      "Service_Score\n",
      "0.0       8\n",
      "1.0      77\n",
      "2.0    3251\n",
      "3.0    5588\n",
      "4.0    2331\n",
      "5.0       5\n",
      "Name: count, dtype: int64\n",
      "\n",
      "Total number of null values in the Service_Score feature after replacing the null values with mode is :  0\n"
     ]
    }
   ],
   "source": [
    "# The Service_Score is a categorical variable and both the median and mode are same. \n",
    "# Hence either median or mode can be used to replace the missing values\n",
    "\n",
    "print('Total number of null values in the Service_Score feature are : ',df['Service_Score'].isna().sum())\n",
    "print('The mode of the Service_Score feature is ',df['Service_Score'].mode()[0])\n",
    "print('Replacing the null values in the Service_Score with mode\\n')\n",
    "df['Service_Score'].fillna(df['Service_Score'].mode()[0],inplace=True)\n",
    "print('Null values in Service_Score Feature replaced successfully')\n",
    "print('\\nPrinting the value counts of Service_Score feature after replacing the null values with mode : \\n')\n",
    "print(df['Service_Score'].value_counts(dropna=False).sort_index())\n",
    "print('\\nTotal number of null values in the Service_Score feature after replacing the null values with mode is : ',df['Gender'].isna().sum())"
   ]
  },
  {
   "cell_type": "markdown",
   "id": "f9b0305e-0259-4478-bb14-5e11bfcc2dd4",
   "metadata": {},
   "source": [
    "<b>Analyst Observation : </b>\n",
    "<p>\n",
    "    <ul>\n",
    "        <li>198 null values observed in Service_Score feature. Replaced the null values with mode.</li>\n",
    "        <li>Mode of Service Score is 3.0</li>\n",
    "        <li>After replacing the null values with mode the frequency of 3.0 is increased from 5490 to 5588, and the null values frequency decreased to zero.</li>\n",
    "        <li>Thus all then null values in the Service_Score are replaced with mode successfully.</li>\n",
    "    </ul>\n",
    "</p>"
   ]
  },
  {
   "cell_type": "markdown",
   "id": "3fd84879-8013-44a6-9697-8d8f25640f29",
   "metadata": {},
   "source": [
    "### Outlier Detection and Treatment for Service_Score Feature"
   ]
  },
  {
   "cell_type": "code",
   "execution_count": 304,
   "id": "7914de38-3e86-4a53-9319-8294ef7a6871",
   "metadata": {
    "tags": []
   },
   "outputs": [
    {
     "data": {
      "image/png": "[encoded data removed]",
      "text/plain": [
       "<Figure size 640x480 with 1 Axes>"
      ]
     },
     "metadata": {},
     "output_type": "display_data"
    }
   ],
   "source": [
    "plt.clf()\n",
    "df.boxplot(column='Service_Score').plot()\n",
    "plt.show()"
   ]
  },
  {
   "cell_type": "code",
   "execution_count": 305,
   "id": "722f9018-5e61-40fa-9c5c-c7acc1b055be",
   "metadata": {
    "tags": []
   },
   "outputs": [
    {
     "name": "stdout",
     "output_type": "stream",
     "text": [
      "Replacing 0.0 with 3.0 in in Service_Score Feature\n",
      "Replacing 5.0 with 3.0 in in Service_Score Feature\n",
      "Service_Score\n",
      "3.0    5601\n",
      "2.0    3251\n",
      "4.0    2331\n",
      "1.0      77\n",
      "Name: count, dtype: int64\n"
     ]
    }
   ],
   "source": [
    "# As per the box plot there are outliers in the Service_Score Feature\n",
    "# The outlier below the lower cap is 0 \n",
    "# The outlier above the upper cap is 5\n",
    "# Hence replacing 0 with 1 and 5 with 4\n",
    "\n",
    "print('Replacing 0.0 with 3.0 in in Service_Score Feature')\n",
    "df['Service_Score'].replace(0.0, 3.0, inplace=True)\n",
    "print('Replacing 5.0 with 3.0 in in Service_Score Feature')\n",
    "df['Service_Score'].replace(5.0, 3.0, inplace=True)\n",
    "print(df['Service_Score'].value_counts(dropna=False))\n"
   ]
  },
  {
   "cell_type": "markdown",
   "id": "23f75b55-c3d6-4932-bd83-0d30b58c7176",
   "metadata": {},
   "source": [
    "<b>Analyst Observation : </b>\n",
    "<p>\n",
    "    <ul>\n",
    "        <li>Observed few outliers above the upper cap and few outliers below the lower cap</li>\n",
    "        <li>0.0 is an outlier below the lower cap which is 1.0. Hence replaced 0.0 with 3.0</li>\n",
    "        <li>5.0 is an outlier above the upper capt which is 5.0. Hence replaced 5.0 with 3.0</li>\n",
    "        <li>Thus outlier treatment performed successfully on Service_Score feature</li>\n",
    "    </ul>\n",
    "</p>"
   ]
  },
  {
   "cell_type": "markdown",
   "id": "c4c3fe96-dfd3-469e-98c9-a67ebf5c21b5",
   "metadata": {
    "tags": []
   },
   "source": [
    "## Data Cleaning of Account_user_count Feature"
   ]
  },
  {
   "cell_type": "markdown",
   "id": "b5141d32-36c8-4d8a-a3d1-ff4ce22358a9",
   "metadata": {},
   "source": [
    "### Removing Irrelevant data from Account_user_count Feature"
   ]
  },
  {
   "cell_type": "code",
   "execution_count": 306,
   "id": "0c1aabbd-97cd-41f9-928b-b5f9f90406ea",
   "metadata": {
    "tags": []
   },
   "outputs": [
    {
     "name": "stdout",
     "output_type": "stream",
     "text": [
      "Printing the value counts of Account_user_count feature: \n",
      "\n",
      "Account_user_count\n",
      "4      4569\n",
      "3      3261\n",
      "5      1699\n",
      "2       526\n",
      "1       446\n",
      "@       332\n",
      "6       315\n",
      "NaN     112\n",
      "Name: count, dtype: int64\n",
      "\n",
      "Value Counts of Account_user_count feature printed successfully\n"
     ]
    }
   ],
   "source": [
    "# Checking unique values with their frequencies in the Account_user_count Feature\n",
    "print('Printing the value counts of Account_user_count feature: \\n')\n",
    "print(df['Account_user_count'].value_counts(dropna=False))\n",
    "print('\\nValue Counts of Account_user_count feature printed successfully')"
   ]
  },
  {
   "cell_type": "code",
   "execution_count": 307,
   "id": "38da436c-065a-431e-8f13-6f6f67744a56",
   "metadata": {
    "tags": []
   },
   "outputs": [
    {
     "name": "stdout",
     "output_type": "stream",
     "text": [
      "Printing value_counts for Account_user_count after removing @ : \n",
      "\n",
      "Account_user_count\n",
      "4       4569\n",
      "3       3261\n",
      "5       1699\n",
      "2        526\n",
      "1        446\n",
      "None     332\n",
      "6        315\n",
      "NaN      112\n",
      "Name: count, dtype: int64\n",
      "\n",
      "Total number of null values after replacing @ with None is :  444\n"
     ]
    }
   ],
   "source": [
    "# Replacing @ with None\n",
    "df['Account_user_count'].replace('@',None,inplace=True)\n",
    "print('Printing value_counts for Account_user_count after removing @ : \\n')\n",
    "print(df['Account_user_count'].value_counts(dropna=False))\n",
    "print('\\nTotal number of null values after replacing @ with None is : ',df['Account_user_count'].isna().sum())"
   ]
  },
  {
   "cell_type": "markdown",
   "id": "b77a8f80-46dd-4777-a5e2-30774eb53044",
   "metadata": {},
   "source": [
    "<b>Analyst Observation : </b>\n",
    "<p>\n",
    "    <ul>\n",
    "        <li>Observed that there is an irrlevant data that is '@'</li>\n",
    "        <li>Thus irrelevant data is handled by replacing '@' with None</li>\n",
    "    </ul>\n",
    "</p>"
   ]
  },
  {
   "cell_type": "markdown",
   "id": "0835f336-5487-44b1-a50f-fbe6bf34595e",
   "metadata": {
    "tags": []
   },
   "source": [
    "### Missing Value analysis and Treatment for Account_user_count Feature"
   ]
  },
  {
   "cell_type": "code",
   "execution_count": 308,
   "id": "6993694f-e434-45af-bca7-cb0dfde19dfd",
   "metadata": {
    "tags": []
   },
   "outputs": [
    {
     "name": "stdout",
     "output_type": "stream",
     "text": [
      "\n",
      "Total number of null values in Account_user_count feature is :  444\n",
      "\n",
      "Percentage of null values in Account_user_count feature is :  3.9431616341030193\n",
      "\n",
      "The mean of Account_user_count feature is :  3.6928624260355027\n",
      "\n",
      "The median of Account_user_count feature is :  4.0\n",
      "\n",
      "The mode of Account_user_count feature is :  0    4\n",
      "Name: Account_user_count, dtype: object\n",
      "\n",
      "Other statistical information on Account_user_count feature : \n",
      "\n"
     ]
    },
    {
     "data": {
      "text/plain": [
       "count     10816\n",
       "unique        6\n",
       "top           4\n",
       "freq       4569\n",
       "Name: Account_user_count, dtype: int64"
      ]
     },
     "execution_count": 308,
     "metadata": {},
     "output_type": "execute_result"
    }
   ],
   "source": [
    "#Gathering statistical information on Account_user_count feature\n",
    "\n",
    "print('\\nTotal number of null values in Account_user_count feature is : ', df['Account_user_count'].isna().sum())\n",
    "print('\\nPercentage of null values in Account_user_count feature is : ', df['Account_user_count'].isna().mean()*100)\n",
    "print('\\nThe mean of Account_user_count feature is : ', df['Account_user_count'].mean())\n",
    "print('\\nThe median of Account_user_count feature is : ', df['Account_user_count'].median())\n",
    "print('\\nThe mode of Account_user_count feature is : ', df['Account_user_count'].mode())\n",
    "print('\\nOther statistical information on Account_user_count feature : \\n')\n",
    "df['Account_user_count'].describe()"
   ]
  },
  {
   "cell_type": "code",
   "execution_count": 309,
   "id": "d37cb4fc-b1fe-42b5-adb7-c8db6bf719af",
   "metadata": {
    "tags": []
   },
   "outputs": [
    {
     "name": "stdout",
     "output_type": "stream",
     "text": [
      "Total number of null values in the Account_user_count feature are :  444\n",
      "The mode of the Account_user_count feature is  4\n",
      "Replacing the null values in the Account_user_count with mode\n",
      "\n",
      "Null values in Account_user_count Feature replaced successfully\n",
      "\n",
      "Printing the value counts of Account_user_count feature after replacing the null values with mode : \n",
      "\n",
      "Account_user_count\n",
      "1     446\n",
      "2     526\n",
      "3    3261\n",
      "4    5013\n",
      "5    1699\n",
      "6     315\n",
      "Name: count, dtype: int64\n",
      "\n",
      "Total number of null values in the Gender feature after replacing the null values with mode is :  0\n"
     ]
    }
   ],
   "source": [
    "# Account_user_count is a discrete continuous variable and also noticed that both median and mode are same.\n",
    "# Hence replacing the missing values with Mode\n",
    "\n",
    "print('Total number of null values in the Account_user_count feature are : ',df['Account_user_count'].isna().sum())\n",
    "print('The mode of the Account_user_count feature is ',df['Account_user_count'].mode()[0])\n",
    "print('Replacing the null values in the Account_user_count with mode\\n')\n",
    "df['Account_user_count'].fillna(df['Account_user_count'].mode()[0],inplace=True)\n",
    "print('Null values in Account_user_count Feature replaced successfully')\n",
    "print('\\nPrinting the value counts of Account_user_count feature after replacing the null values with mode : \\n')\n",
    "print(df['Account_user_count'].value_counts(dropna=False).sort_index())\n",
    "print('\\nTotal number of null values in the Gender feature after replacing the null values with mode is : ',df['Account_user_count'].isna().sum())"
   ]
  },
  {
   "cell_type": "markdown",
   "id": "9235acd5-867b-4ea3-9d26-afc54d9c969d",
   "metadata": {},
   "source": [
    "<b>Analyst Observation : </b>\n",
    "<p>\n",
    "    <ul>\n",
    "        <li>444 Null values observed in Account_user_count feature. All the null values are replaced with Mode</li>\n",
    "        <li>Mode of Account_user_count is 4</li>\n",
    "        <li>After replacing the null values in Account_user_count with mode, the frequency of 4.0 is increased to 5013 from 4569. Also the null value frequency is reduced to zero.</li>\n",
    "        <li>Thus all the null values are replaced with Mode successfully</li>\n",
    "    </ul>\n",
    "</p>"
   ]
  },
  {
   "cell_type": "markdown",
   "id": "748a4b7e-2ba0-4577-9942-a83ca8c43261",
   "metadata": {},
   "source": [
    "### Outlier Detection and Treatment for Account_user_count Feature"
   ]
  },
  {
   "cell_type": "code",
   "execution_count": 310,
   "id": "bbb0d5e5-7b4b-4cbc-8993-9f295e6ee133",
   "metadata": {
    "tags": []
   },
   "outputs": [
    {
     "data": {
      "image/png": "[encoded data removed]",
      "text/plain": [
       "<Figure size 640x480 with 1 Axes>"
      ]
     },
     "metadata": {},
     "output_type": "display_data"
    }
   ],
   "source": [
    "plt.clf()\n",
    "df.boxplot(column='Account_user_count').plot()\n",
    "plt.show()"
   ]
  },
  {
   "cell_type": "code",
   "execution_count": 311,
   "id": "15cd406a-72fd-4d8f-9d52-d3dca5d992ce",
   "metadata": {
    "tags": []
   },
   "outputs": [
    {
     "name": "stdout",
     "output_type": "stream",
     "text": [
      "Replacing 1 with 4 in in Account_user_count Feature\n",
      "Replacing 6 with 4 in in Account_user_count Feature\n",
      "Account_user_count\n",
      "4    5774\n",
      "3    3261\n",
      "5    1699\n",
      "2     526\n",
      "Name: count, dtype: int64\n"
     ]
    }
   ],
   "source": [
    "# As per the box plot there are outliers in the Account_user_count Feature\n",
    "# The outlier below the lower cap is 1 \n",
    "# The outlier above the upper cap is 6\n",
    "# Hence replacing 1 with 2 and 6 with 5\n",
    "\n",
    "print('Replacing 1 with 4 in in Account_user_count Feature')\n",
    "df['Account_user_count'].replace(1, 4, inplace=True)\n",
    "print('Replacing 6 with 4 in in Account_user_count Feature')\n",
    "df['Account_user_count'].replace(6, 4, inplace=True)\n",
    "print(df['Account_user_count'].value_counts(dropna=False))"
   ]
  },
  {
   "cell_type": "markdown",
   "id": "b42bfd0f-d77a-4529-b55f-a767a42c04cb",
   "metadata": {},
   "source": [
    "<b>Analyst Observation : </b>\n",
    "<p>\n",
    "    <ul>\n",
    "        <li>Observed few outliers above the upper cap and few outliers below the lower cap</li>\n",
    "        <li>1 is an outlier below the lower cap which is 2. Hence replaced 1 with 4</li>\n",
    "        <li>6 is an outlier above the upper cap which is 5. Hence replaced 6 with 4</li>\n",
    "        <li>Thus outlier treatment performed successfully on Account_user_count feature</li>\n",
    "    </ul>\n",
    "</p>"
   ]
  },
  {
   "cell_type": "markdown",
   "id": "eed05a5e-2570-46f9-aa87-ff727bcd2cd2",
   "metadata": {
    "tags": []
   },
   "source": [
    "## Data Cleaning of account_segment Feature"
   ]
  },
  {
   "cell_type": "markdown",
   "id": "3e4091e1-bbf5-436b-b16e-8d41e469e0f2",
   "metadata": {
    "tags": []
   },
   "source": [
    "### Removing Irrelevant data from account_segment Feature"
   ]
  },
  {
   "cell_type": "code",
   "execution_count": 312,
   "id": "4343fb93-b064-4c13-b51e-4a1ff6b9df74",
   "metadata": {
    "tags": []
   },
   "outputs": [
    {
     "name": "stdout",
     "output_type": "stream",
     "text": [
      "Printing the value counts of account_segment feature: \n",
      "\n",
      "account_segment\n",
      "Super           4062\n",
      "Regular Plus    3862\n",
      "HNI             1639\n",
      "Super Plus       771\n",
      "Regular          520\n",
      "Regular +        262\n",
      "NaN               97\n",
      "Super +           47\n",
      "Name: count, dtype: int64\n",
      "\n",
      "Value Counts of account_segment feature printed successfully\n"
     ]
    }
   ],
   "source": [
    "# Checking unique values with their frequencies in the account_segment Feature\n",
    "print('Printing the value counts of account_segment feature: \\n')\n",
    "print(df['account_segment'].value_counts(dropna=False))\n",
    "print('\\nValue Counts of account_segment feature printed successfully')"
   ]
  },
  {
   "cell_type": "code",
   "execution_count": 313,
   "id": "e0e93218-e367-4acf-961b-625d339ee6fb",
   "metadata": {
    "tags": []
   },
   "outputs": [
    {
     "name": "stdout",
     "output_type": "stream",
     "text": [
      "Replacing 'Super +' with 'Super Plus' : \n",
      "\n",
      "account_segment\n",
      "Super           4062\n",
      "Regular Plus    3862\n",
      "HNI             1639\n",
      "Super Plus       818\n",
      "Regular          520\n",
      "Regular +        262\n",
      "NaN               97\n",
      "Name: count, dtype: int64\n",
      "\n",
      "Replaced 'Super +' with 'Super Plus' successfully :\n",
      "Replacing 'Regular +' with 'Regular Plus' : \n",
      "\n",
      "account_segment\n",
      "Regular Plus    4124\n",
      "Super           4062\n",
      "HNI             1639\n",
      "Super Plus       818\n",
      "Regular          520\n",
      "NaN               97\n",
      "Name: count, dtype: int64\n",
      "\n",
      " Replaced 'Regular +' with 'Regular Plus' successfully :\n"
     ]
    }
   ],
   "source": [
    "#Replacing 'Super +' with 'Super Plus'\n",
    "print(\"Replacing 'Super +' with 'Super Plus' : \\n\")\n",
    "df['account_segment'].replace('Super +', 'Super Plus', inplace=True)\n",
    "print(df['account_segment'].value_counts(dropna = False))\n",
    "print(\"\\nReplaced 'Super +' with 'Super Plus' successfully :\")\n",
    "\n",
    "#Replacing 'Regular +' with 'Regular Plus'\n",
    "print(\"Replacing 'Regular +' with 'Regular Plus' : \\n\")\n",
    "df['account_segment'].replace('Regular +','Regular Plus',inplace=True)\n",
    "print(df['account_segment'].value_counts(dropna = False))\n",
    "print(\"\\n Replaced 'Regular +' with 'Regular Plus' successfully :\")"
   ]
  },
  {
   "cell_type": "markdown",
   "id": "741cee49-5a07-4561-8200-7bc573098b8a",
   "metadata": {},
   "source": [
    "<b>Analyst Observation : </b>\n",
    "<p>\n",
    "    <ol>\n",
    "        <li>Observed that 'Super +' and 'Super Plus' conveys the same information. Hence repalced 'Super +' with 'Super Plus'</li>\n",
    "        <li>Observed that 'Regular +' and 'Regular Plus' conveys the same information. Hence repalced 'Regular +' with 'Regular Plus'</li>\n",
    "        <li>Thus irrelevant data in the account_segment feature is handled</li>\n",
    "    </ol>\n",
    "</p>"
   ]
  },
  {
   "cell_type": "markdown",
   "id": "e3c446e5-b722-4e49-8ad2-2f56aef31648",
   "metadata": {},
   "source": [
    "### Missing Value analysis and Treatment for account_segment Feature"
   ]
  },
  {
   "cell_type": "code",
   "execution_count": 314,
   "id": "40d6e6c2-7dba-40ed-8e32-506980e6a369",
   "metadata": {
    "tags": []
   },
   "outputs": [
    {
     "name": "stdout",
     "output_type": "stream",
     "text": [
      "Total number of null values in the account_segment feature are :  97\n",
      "The mode of the account_segment feature is  Regular Plus\n",
      "Replacing the null values in the account_segment with mode\n",
      "\n",
      "Null values in account_segment Feature replaced successfully\n",
      "\n",
      "Printing the value counts of account_segment feature after replacing the null values with mode : \n",
      "\n",
      "account_segment\n",
      "HNI             1639\n",
      "Regular          520\n",
      "Regular Plus    4221\n",
      "Super           4062\n",
      "Super Plus       818\n",
      "Name: count, dtype: int64\n",
      "\n",
      "Total number of null values in the account_segment feature after replacing the null values with mode is :  0\n"
     ]
    }
   ],
   "source": [
    "# account_segment is a categorical variable. Hence replacing the missing values with Mode\n",
    "print('Total number of null values in the account_segment feature are : ',df['account_segment'].isna().sum())\n",
    "print('The mode of the account_segment feature is ',df['account_segment'].mode()[0])\n",
    "print('Replacing the null values in the account_segment with mode\\n')\n",
    "df['account_segment'].fillna(df['account_segment'].mode()[0],inplace=True)\n",
    "print('Null values in account_segment Feature replaced successfully')\n",
    "print('\\nPrinting the value counts of account_segment feature after replacing the null values with mode : \\n')\n",
    "print(df['account_segment'].value_counts(dropna=False).sort_index())\n",
    "print('\\nTotal number of null values in the account_segment feature after replacing the null values with mode is : ',df['account_segment'].isna().sum())"
   ]
  },
  {
   "cell_type": "markdown",
   "id": "68da3e06-d7eb-4ab3-9a11-1f39e4b6ea51",
   "metadata": {},
   "source": [
    "<b>Analyst Observation : </b>\n",
    "<p>\n",
    "    <ul>\n",
    "        <li>97 null values observed in the account_segment feature and the mode is Regular Plus.</li>\n",
    "        <li>Hence replaced null values with mode</li>\n",
    "        <li>After replacing null values with mode, the frequency of Regular plus is increased to 4221 from 4124. Also the null values frequency is reduced to zero.</li>\n",
    "        <li>Thus all the null values are replaced with mode successfully.</li>\n",
    "    </ul>\n",
    "</p>"
   ]
  },
  {
   "cell_type": "markdown",
   "id": "bf7bc8cb-c7b9-41c9-a8cb-69105650fcea",
   "metadata": {
    "tags": []
   },
   "source": [
    "### Outlier Detection and Treatment for account_segment Feature"
   ]
  },
  {
   "cell_type": "markdown",
   "id": "1a30d363-a070-4d8e-9ab3-1b1cf0f83d00",
   "metadata": {},
   "source": [
    "<b>Analyst Observation : </b>\n",
    "<p>\n",
    "    No outlier detection and treatment is required for account_segment feature\n",
    "</p>"
   ]
  },
  {
   "cell_type": "markdown",
   "id": "00f4a52d-5dc6-42d2-97af-778ac9e3be76",
   "metadata": {
    "tags": []
   },
   "source": [
    "## Data Cleaning of CC_Agent_Score Feature"
   ]
  },
  {
   "cell_type": "markdown",
   "id": "bf36e2d6-1c9a-45e7-abfb-3606c2d517ed",
   "metadata": {},
   "source": [
    "### Removing Irrelevant data from CC_Agent_Score Feature"
   ]
  },
  {
   "cell_type": "code",
   "execution_count": 315,
   "id": "bea29fc3-55c3-429b-bd56-3ab4520eec1f",
   "metadata": {
    "tags": []
   },
   "outputs": [
    {
     "name": "stdout",
     "output_type": "stream",
     "text": [
      "Printing the value counts of CC_Agent_Score feature: \n",
      "\n",
      "CC_Agent_Score\n",
      "3.0    3360\n",
      "1.0    2302\n",
      "5.0    2191\n",
      "4.0    2127\n",
      "2.0    1164\n",
      "NaN     116\n",
      "Name: count, dtype: int64\n",
      "\n",
      "Value Counts of CC_Agent_Score feature printed successfully\n"
     ]
    }
   ],
   "source": [
    "# Checking unique values with their frequencies in the CC_Agent_Score Feature\n",
    "print('Printing the value counts of CC_Agent_Score feature: \\n')\n",
    "print(df['CC_Agent_Score'].value_counts(dropna=False))\n",
    "print('\\nValue Counts of CC_Agent_Score feature printed successfully')"
   ]
  },
  {
   "cell_type": "markdown",
   "id": "62603099-1ecc-4cfe-a8a0-37ef31184cfc",
   "metadata": {},
   "source": [
    "<b>Analyst Observation : </b>\n",
    "<p>\n",
    "    No irrelevant data observed in CC_Agent_Score feature.<br>\n",
    "    Hence no further action required on irrelevant data is required.\n",
    "</p>"
   ]
  },
  {
   "cell_type": "markdown",
   "id": "26dda0c3-da69-499f-9433-5fc1767caa9c",
   "metadata": {},
   "source": [
    "### Missing Value analysis and Treatment for CC_Agent_Score Feature"
   ]
  },
  {
   "cell_type": "code",
   "execution_count": 316,
   "id": "1e906c08-0d0f-444f-91da-1356a7436395",
   "metadata": {
    "tags": []
   },
   "outputs": [
    {
     "name": "stdout",
     "output_type": "stream",
     "text": [
      "Total number of null values in the CC_Agent_Score feature are :  116\n",
      "The mode of the CC_Agent_Score feature is  3.0\n",
      "Replacing the null values in the CC_Agent_Score with mode\n",
      "\n",
      "Null values in CC_Agent_Score Feature replaced successfully\n",
      "\n",
      "Printing the value counts of CC_Agent_Score feature after replacing the null values with mode : \n",
      "\n",
      "CC_Agent_Score\n",
      "1.0    2302\n",
      "2.0    1164\n",
      "3.0    3476\n",
      "4.0    2127\n",
      "5.0    2191\n",
      "Name: count, dtype: int64\n",
      "\n",
      "Total number of null values in the CC_Agent_Score feature after replacing the null values with mode is :  0\n"
     ]
    }
   ],
   "source": [
    "# CC_Agent_Score is an ordinal categorical variable. \n",
    "# Thus replacing the null values with mode\n",
    "\n",
    "print('Total number of null values in the CC_Agent_Score feature are : ',df['CC_Agent_Score'].isna().sum())\n",
    "print('The mode of the CC_Agent_Score feature is ',df['CC_Agent_Score'].mode()[0])\n",
    "print('Replacing the null values in the CC_Agent_Score with mode\\n')\n",
    "df['CC_Agent_Score'].fillna(df['CC_Agent_Score'].mode()[0],inplace=True)\n",
    "print('Null values in CC_Agent_Score Feature replaced successfully')\n",
    "print('\\nPrinting the value counts of CC_Agent_Score feature after replacing the null values with mode : \\n')\n",
    "print(df['CC_Agent_Score'].value_counts(dropna=False).sort_index())\n",
    "print('\\nTotal number of null values in the CC_Agent_Score feature after replacing the null values with mode is : ',df['CC_Agent_Score'].isna().sum())"
   ]
  },
  {
   "cell_type": "markdown",
   "id": "08df8b7a-f962-4ea0-8679-0901972ef781",
   "metadata": {},
   "source": [
    "<b>Analyst Observation : </b>\n",
    "<p>\n",
    "    <ul>\n",
    "        <li>116 null values observed in CC_Agent_Score feature. Replaced the null values with mode.</li>\n",
    "        <li>Mode of CC_Agent_Score is 3.0</li>\n",
    "        <li>After replacing the null values with mode the frequency of 3.0 is increased from 5490 to 3476, and the null values frequency decreased to zero.</li>\n",
    "        <li>Thus all the null values are replaced with mode</li>\n",
    "    </ul>\n",
    "</p>"
   ]
  },
  {
   "cell_type": "markdown",
   "id": "17ddbc4e-ad72-43c9-8911-bb4c5a92b2ce",
   "metadata": {},
   "source": [
    "### Outlier Detection and Treatment for CC_Agent_Score Feature"
   ]
  },
  {
   "cell_type": "code",
   "execution_count": 317,
   "id": "5234faae-23fd-4d87-b6dc-e9c547297135",
   "metadata": {
    "tags": []
   },
   "outputs": [
    {
     "data": {
      "image/png": "[encoded data removed]",
      "text/plain": [
       "<Figure size 640x480 with 1 Axes>"
      ]
     },
     "metadata": {},
     "output_type": "display_data"
    }
   ],
   "source": [
    "plt.clf()\n",
    "df.boxplot(column='CC_Agent_Score').plot()\n",
    "plt.show()"
   ]
  },
  {
   "cell_type": "markdown",
   "id": "1a88137b-2c2b-4905-8059-e7f2cf5d6d77",
   "metadata": {},
   "source": [
    "<b>Analyst Observation : </b>\n",
    "<p>\n",
    "    No outlier treatment is required for CC_Agent_Score feature.\n",
    "</p>"
   ]
  },
  {
   "cell_type": "markdown",
   "id": "5a451b9a-8b78-46d9-98ec-1f77eee5b11c",
   "metadata": {
    "tags": []
   },
   "source": [
    "## Data Cleaning of Marital_Status Feature"
   ]
  },
  {
   "cell_type": "markdown",
   "id": "f51a1f43-d060-4b11-a797-8abfb93391d9",
   "metadata": {},
   "source": [
    "### Removing Irrelevant data from Marital_Status Feature"
   ]
  },
  {
   "cell_type": "code",
   "execution_count": 318,
   "id": "e453fdd6-a6c1-4762-94c6-5ff7c0383111",
   "metadata": {
    "tags": []
   },
   "outputs": [
    {
     "name": "stdout",
     "output_type": "stream",
     "text": [
      "Printing the value counts of Marital_Status feature: \n",
      "\n",
      "Marital_Status\n",
      "Married     5860\n",
      "Single      3520\n",
      "Divorced    1668\n",
      "NaN          212\n",
      "Name: count, dtype: int64\n",
      "\n",
      "Value Counts of Marital_Status feature printed successfully\n"
     ]
    }
   ],
   "source": [
    "# Checking unique values with their frequencies in the Marital_Status Feature\n",
    "print('Printing the value counts of Marital_Status feature: \\n')\n",
    "print(df['Marital_Status'].value_counts(dropna=False))\n",
    "print('\\nValue Counts of Marital_Status feature printed successfully')"
   ]
  },
  {
   "cell_type": "markdown",
   "id": "b518703d-d333-4146-8df1-378020ceb50e",
   "metadata": {},
   "source": [
    "<b>Analyst Observation : </b>\n",
    "<p>\n",
    "    No irrelevant data observed in Marital_Status feature.<br>\n",
    "    Hence no further action required on irrelevant data is required.\n",
    "</p>"
   ]
  },
  {
   "cell_type": "markdown",
   "id": "bd4702e6-97de-4895-9763-ddc4c38f0167",
   "metadata": {},
   "source": [
    "### Missing Value analysis and Treatment for Marital_Status Feature"
   ]
  },
  {
   "cell_type": "code",
   "execution_count": 319,
   "id": "f38a246f-397d-4b7a-b4dd-c579be945101",
   "metadata": {
    "tags": []
   },
   "outputs": [
    {
     "name": "stdout",
     "output_type": "stream",
     "text": [
      "Total number of null values in the Marital_Status feature are :  212\n",
      "The mode of the Marital_Status feature is  Married\n",
      "Replacing the null values in the Marital_Status with mode\n",
      "\n",
      "Null values in Marital_Status Feature replaced successfully\n",
      "\n",
      "Printing the value counts of Marital_Status feature after replacing the null values with mode : \n",
      "\n",
      "Marital_Status\n",
      "Divorced    1668\n",
      "Married     6072\n",
      "Single      3520\n",
      "Name: count, dtype: int64\n",
      "\n",
      "Total number of null values in the Marital_Status feature after replacing the null values with mode is :  0\n"
     ]
    }
   ],
   "source": [
    "# Marital_Status is a categorical variable. Hence replacing the null values with mode\n",
    "\n",
    "print('Total number of null values in the Marital_Status feature are : ',df['Marital_Status'].isna().sum())\n",
    "print('The mode of the Marital_Status feature is ',df['Marital_Status'].mode()[0])\n",
    "print('Replacing the null values in the Marital_Status with mode\\n')\n",
    "df['Marital_Status'].fillna(df['Marital_Status'].mode()[0],inplace=True)\n",
    "print('Null values in Marital_Status Feature replaced successfully')\n",
    "print('\\nPrinting the value counts of Marital_Status feature after replacing the null values with mode : \\n')\n",
    "print(df['Marital_Status'].value_counts(dropna=False).sort_index())\n",
    "print('\\nTotal number of null values in the Marital_Status feature after replacing the null values with mode is : ',df['Marital_Status'].isna().sum())"
   ]
  },
  {
   "cell_type": "markdown",
   "id": "ca7a4793-c649-49a5-877c-d7fef65f6923",
   "metadata": {},
   "source": [
    "<b>Analyst Observation : </b>\n",
    "<p>\n",
    "    <ul>\n",
    "        <li>212 null values observed in Marital_Status feature. Replaced the null values with mode.</li>\n",
    "        <li>Mode of Service Score is 'Married'</li>\n",
    "        <li>After replacing the null values with mode the frequency of 'Married' is increased from 5860 to 6072, and the null values frequency decreased to zero.</li>\n",
    "        <li>Thus all the null values are replaced with mode in Marital_Status feature successfully</li>\n",
    "    </ul>\n",
    "</p>"
   ]
  },
  {
   "cell_type": "markdown",
   "id": "c1c0bde6-b30f-44c6-8a67-223a249e6c19",
   "metadata": {},
   "source": [
    "### Outlier Detection and Treatment for Marital_Status Feature"
   ]
  },
  {
   "cell_type": "markdown",
   "id": "445b4e22-4edc-49d1-bf81-8255ed4f54c4",
   "metadata": {},
   "source": [
    "<b>Analyst Observation : </b>\n",
    "<p>\n",
    "    No outlier treatment is required for Martial_Status feature.\n",
    "</p>"
   ]
  },
  {
   "cell_type": "markdown",
   "id": "a2524063-cfbc-4146-b5dc-9d0d2e814f1a",
   "metadata": {
    "tags": []
   },
   "source": [
    "## Data Cleaning of rev_per_month Feature"
   ]
  },
  {
   "cell_type": "markdown",
   "id": "39c3bedc-5839-4720-8895-ee4dc31de6e1",
   "metadata": {},
   "source": [
    "### Removing Irrelevant data from rev_per_month Feature"
   ]
  },
  {
   "cell_type": "code",
   "execution_count": 320,
   "id": "882ce877-b2e7-4f34-a85c-d592be28b7ad",
   "metadata": {
    "tags": []
   },
   "outputs": [
    {
     "name": "stdout",
     "output_type": "stream",
     "text": [
      "Printing the value counts of rev_per_month feature: \n",
      "\n",
      "rev_per_month\n",
      "3      1746\n",
      "2      1585\n",
      "5      1337\n",
      "4      1218\n",
      "6      1085\n",
      "7       754\n",
      "+       689\n",
      "8       643\n",
      "9       564\n",
      "10      413\n",
      "1       402\n",
      "11      278\n",
      "12      166\n",
      "NaN     102\n",
      "13       93\n",
      "14       48\n",
      "15       24\n",
      "102       8\n",
      "123       5\n",
      "124       5\n",
      "107       5\n",
      "136       4\n",
      "140       4\n",
      "118       4\n",
      "133       4\n",
      "129       4\n",
      "115       3\n",
      "117       3\n",
      "138       3\n",
      "101       3\n",
      "110       3\n",
      "137       3\n",
      "119       3\n",
      "108       3\n",
      "127       3\n",
      "116       3\n",
      "126       3\n",
      "130       3\n",
      "113       3\n",
      "120       2\n",
      "19        2\n",
      "131       2\n",
      "139       2\n",
      "114       2\n",
      "125       2\n",
      "22        2\n",
      "121       2\n",
      "105       2\n",
      "134       2\n",
      "20        1\n",
      "23        1\n",
      "122       1\n",
      "21        1\n",
      "104       1\n",
      "25        1\n",
      "135       1\n",
      "111       1\n",
      "109       1\n",
      "100       1\n",
      "103       1\n",
      "Name: count, dtype: int64\n",
      "\n",
      "Value Counts of rev_per_month feature printed successfully\n"
     ]
    }
   ],
   "source": [
    "# Checking unique values with their frequencies in the rev_per_month Feature\n",
    "print('Printing the value counts of rev_per_month feature: \\n')\n",
    "print(df['rev_per_month'].value_counts(dropna=False))\n",
    "print('\\nValue Counts of rev_per_month feature printed successfully')"
   ]
  },
  {
   "cell_type": "code",
   "execution_count": 321,
   "id": "83c9505f-98c1-43d0-a97d-79ba711bc885",
   "metadata": {
    "tags": []
   },
   "outputs": [
    {
     "name": "stdout",
     "output_type": "stream",
     "text": [
      "Replacing '+' with None : \n",
      "\n",
      "\n",
      "Replaced '+' with None successfully : \n",
      "\n",
      "Printing the value counts of rev_per_month feature after replacing '+' with None: \n",
      "\n",
      "rev_per_month\n",
      "3.0      1746\n",
      "2.0      1585\n",
      "5.0      1337\n",
      "4.0      1218\n",
      "6.0      1085\n",
      "NaN       791\n",
      "7.0       754\n",
      "8.0       643\n",
      "9.0       564\n",
      "10.0      413\n",
      "1.0       402\n",
      "11.0      278\n",
      "12.0      166\n",
      "13.0       93\n",
      "14.0       48\n",
      "15.0       24\n",
      "102.0       8\n",
      "123.0       5\n",
      "124.0       5\n",
      "107.0       5\n",
      "136.0       4\n",
      "140.0       4\n",
      "118.0       4\n",
      "133.0       4\n",
      "129.0       4\n",
      "115.0       3\n",
      "117.0       3\n",
      "138.0       3\n",
      "101.0       3\n",
      "110.0       3\n",
      "137.0       3\n",
      "119.0       3\n",
      "108.0       3\n",
      "127.0       3\n",
      "116.0       3\n",
      "126.0       3\n",
      "130.0       3\n",
      "113.0       3\n",
      "120.0       2\n",
      "19.0        2\n",
      "131.0       2\n",
      "139.0       2\n",
      "114.0       2\n",
      "125.0       2\n",
      "22.0        2\n",
      "121.0       2\n",
      "105.0       2\n",
      "134.0       2\n",
      "20.0        1\n",
      "23.0        1\n",
      "122.0       1\n",
      "21.0        1\n",
      "104.0       1\n",
      "25.0        1\n",
      "135.0       1\n",
      "111.0       1\n",
      "109.0       1\n",
      "100.0       1\n",
      "103.0       1\n",
      "Name: count, dtype: int64\n",
      "\n",
      "Total number of null values after replacing '+' with None :  791\n"
     ]
    }
   ],
   "source": [
    "# Replacing '+' with None\n",
    "print(\"Replacing '+' with None : \\n\")\n",
    "df['rev_per_month'].replace('+',np.NaN,inplace=True)\n",
    "print(\"\\nReplaced '+' with None successfully : \")\n",
    "print(\"\\nPrinting the value counts of rev_per_month feature after replacing '+' with None: \\n\")\n",
    "print(df['rev_per_month'].value_counts(dropna = False))\n",
    "print(\"\\nTotal number of null values after replacing '+' with None : \",df['rev_per_month'].isna().sum())"
   ]
  },
  {
   "cell_type": "markdown",
   "id": "9f01ed2e-7d8a-4723-9495-5e07e97f2a6c",
   "metadata": {},
   "source": [
    "<b>Analyst Observation : </b>\n",
    "<p>\n",
    "    <ul>\n",
    "        <li>Observed that there is an irrelevant value '+' in the rev_per_month feature. Hence replaced the irrelevant value '+' with None</li>\n",
    "        <li>Thus irrelevant data is handled in rev_per_month feature</li>\n",
    "    </ul>\n",
    "</p>"
   ]
  },
  {
   "cell_type": "markdown",
   "id": "2e62b6f5-9e97-463f-975d-b378c8c4f0ee",
   "metadata": {
    "tags": []
   },
   "source": [
    "### Missing Value analysis and Treatment for rev_per_month Feature"
   ]
  },
  {
   "cell_type": "code",
   "execution_count": 322,
   "id": "b872c4c3-e17e-4ae2-851f-64106d17fed2",
   "metadata": {
    "tags": []
   },
   "outputs": [
    {
     "name": "stdout",
     "output_type": "stream",
     "text": [
      "\n",
      "Total number of null values in rev_per_month feature is :  791\n",
      "\n",
      "Percentage of null values in rev_per_month feature is :  7.024866785079929\n",
      "\n",
      "The mean of rev_per_month feature is :  6.362594326105645\n",
      "\n",
      "The median of rev_per_month feature is :  5.0\n",
      "\n",
      "The mode of rev_per_month feature is :  0    3.0\n",
      "Name: rev_per_month, dtype: float64\n",
      "\n",
      "Other statistical information on rev_per_month feature : \n",
      "\n"
     ]
    },
    {
     "data": {
      "text/plain": [
       "count    10469.000000\n",
       "mean         6.362594\n",
       "std         11.909686\n",
       "min          1.000000\n",
       "25%          3.000000\n",
       "50%          5.000000\n",
       "75%          7.000000\n",
       "max        140.000000\n",
       "Name: rev_per_month, dtype: float64"
      ]
     },
     "execution_count": 322,
     "metadata": {},
     "output_type": "execute_result"
    }
   ],
   "source": [
    "#Gathering statistical information on rev_per_month feature\n",
    "\n",
    "print('\\nTotal number of null values in rev_per_month feature is : ', df['rev_per_month'].isna().sum())\n",
    "print('\\nPercentage of null values in rev_per_month feature is : ', df['rev_per_month'].isna().mean()*100)\n",
    "print('\\nThe mean of rev_per_month feature is : ', df['rev_per_month'].mean())\n",
    "print('\\nThe median of rev_per_month feature is : ', df['rev_per_month'].median())\n",
    "print('\\nThe mode of rev_per_month feature is : ', df['rev_per_month'].mode())\n",
    "print('\\nOther statistical information on rev_per_month feature : \\n')\n",
    "df['rev_per_month'].describe()"
   ]
  },
  {
   "cell_type": "code",
   "execution_count": 323,
   "id": "5d79d0ee-cb6c-44f1-95aa-60782398a417",
   "metadata": {
    "tags": []
   },
   "outputs": [
    {
     "data": {
      "image/png": "[encoded data removed]",
      "text/plain": [
       "<Figure size 640x480 with 1 Axes>"
      ]
     },
     "metadata": {},
     "output_type": "display_data"
    }
   ],
   "source": [
    "plt.clf()\n",
    "df.boxplot(column='rev_per_month').plot()\n",
    "plt.show()"
   ]
  },
  {
   "cell_type": "code",
   "execution_count": 324,
   "id": "aff0d8d3-ac57-4ef5-9d36-ca33d61f25f7",
   "metadata": {},
   "outputs": [
    {
     "name": "stdout",
     "output_type": "stream",
     "text": [
      "The total number of null values in rev_per_month feature is :  791\n",
      "The Median of the rev_per_month feature is :  5 \n",
      "\n",
      "Replacing the null values with median in rev_per_month feature :\n",
      "\n",
      "\n",
      "Replaced the null values with median in rev_per_month feature successfully :\n",
      "\n",
      "Printing the value counts of the rev_per_month variable to check whether the null values are replace or not : \n",
      "rev_per_month\n",
      "1.0       402\n",
      "2.0      1585\n",
      "3.0      1746\n",
      "4.0      1218\n",
      "5.0      2128\n",
      "6.0      1085\n",
      "7.0       754\n",
      "8.0       643\n",
      "9.0       564\n",
      "10.0      413\n",
      "11.0      278\n",
      "12.0      166\n",
      "13.0       93\n",
      "14.0       48\n",
      "15.0       24\n",
      "19.0        2\n",
      "20.0        1\n",
      "21.0        1\n",
      "22.0        2\n",
      "23.0        1\n",
      "25.0        1\n",
      "100.0       1\n",
      "101.0       3\n",
      "102.0       8\n",
      "103.0       1\n",
      "104.0       1\n",
      "105.0       2\n",
      "107.0       5\n",
      "108.0       3\n",
      "109.0       1\n",
      "110.0       3\n",
      "111.0       1\n",
      "113.0       3\n",
      "114.0       2\n",
      "115.0       3\n",
      "116.0       3\n",
      "117.0       3\n",
      "118.0       4\n",
      "119.0       3\n",
      "120.0       2\n",
      "121.0       2\n",
      "122.0       1\n",
      "123.0       5\n",
      "124.0       5\n",
      "125.0       2\n",
      "126.0       3\n",
      "127.0       3\n",
      "129.0       4\n",
      "130.0       3\n",
      "131.0       2\n",
      "133.0       4\n",
      "134.0       2\n",
      "135.0       1\n",
      "136.0       4\n",
      "137.0       3\n",
      "138.0       3\n",
      "139.0       2\n",
      "140.0       4\n",
      "Name: count, dtype: int64\n",
      "The total number of null values in rev_per_month feature after replacing with median:  0\n",
      "Data type of tenure feature after handling missing value is :  float64\n"
     ]
    }
   ],
   "source": [
    "# rev_per_month is a continuous descrete varaible. Also observed that there are outliers.\n",
    "# Hence it is recommanded to replace the null values with median\n",
    "\n",
    "print('The total number of null values in rev_per_month feature is : ',df['rev_per_month'].isna().sum())\n",
    "print('The Median of the rev_per_month feature is : ',int(df['rev_per_month'].median()),'\\n')\n",
    "print('Replacing the null values with median in rev_per_month feature :\\n')\n",
    "df['rev_per_month'].fillna(int(df['rev_per_month'].median()),inplace=True)\n",
    "print('\\nReplaced the null values with median in rev_per_month feature successfully :\\n')\n",
    "print('Printing the value counts of the rev_per_month variable to check whether the null values are replace or not : ')\n",
    "print(df['rev_per_month'].value_counts(dropna=False).sort_index())\n",
    "print('The total number of null values in rev_per_month feature after replacing with median: ',df['rev_per_month'].isna().sum())\n",
    "print('Data type of tenure feature after handling missing value is : ',df['rev_per_month'].dtype)"
   ]
  },
  {
   "cell_type": "markdown",
   "id": "c6240227-9e62-4f7d-9dcf-34385dc5aa74",
   "metadata": {},
   "source": [
    "<b>Analyst Observation : </b>\n",
    "<p>\n",
    "</p>"
   ]
  },
  {
   "cell_type": "markdown",
   "id": "1a3957d0-7789-4a60-bb38-ddfbb6db64e0",
   "metadata": {
    "tags": []
   },
   "source": [
    "### Outlier Detection and Treatment for rev_per_month Feature"
   ]
  },
  {
   "cell_type": "code",
   "execution_count": 325,
   "id": "e353a29b-eb4a-4ed7-8ca1-f13e596d73bf",
   "metadata": {
    "tags": []
   },
   "outputs": [
    {
     "name": "stdout",
     "output_type": "stream",
     "text": [
      "The Maximum Cap Value of rev_per_month feature in the boxplot is :  13.0 \n",
      "\n",
      "Displaying the rev_per_month Max Cap outliers boolean array :\n",
      "\n",
      "[False False False False False False False False False False  True  True\n",
      "  True  True  True  True  True  True  True  True  True  True  True  True\n",
      "  True  True  True  True  True  True  True False  True  True  True  True\n",
      "  True  True  True  True  True  True  True False False  True  True  True\n",
      "  True  True  True  True  True  True  True  True  True  True]\n",
      "\n",
      "The Max cap outliers in the rev_per_month feature are : \n",
      "\n",
      "[130.  19. 139. 102. 120. 138. 127. 123. 124. 116.  21. 126. 134. 113.\n",
      " 114. 108. 140. 133. 129. 107. 118. 105.  20. 119. 121. 137. 110.  22.\n",
      " 101. 136. 125.  14. 115.  23. 122. 117. 131. 104.  15.  25. 135. 111.\n",
      " 109. 100. 103.]\n",
      "\n",
      "Replacing all the outliers with median : \n",
      "\n",
      "Printing the value counts of rev_per_month feature after replacing the outliers with  13.0\n",
      "rev_per_month\n",
      "1.0      402\n",
      "2.0     1585\n",
      "3.0     1746\n",
      "4.0     1218\n",
      "5.0     2313\n",
      "6.0     1085\n",
      "7.0      754\n",
      "8.0      643\n",
      "9.0      564\n",
      "10.0     413\n",
      "11.0     278\n",
      "12.0     166\n",
      "13.0      93\n",
      "Name: count, dtype: int64\n",
      "\n",
      "All the outlier in the rev_per_month feature are replaced successfully\n"
     ]
    },
    {
     "data": {
      "image/png": "[encoded data removed]",
      "text/plain": [
       "<Figure size 640x480 with 1 Axes>"
      ]
     },
     "metadata": {},
     "output_type": "display_data"
    }
   ],
   "source": [
    "# As per boxplot there are outliers in the rev_per_month feature which needs to be handled. \n",
    "# Few outliers are observed above the upper cap \n",
    "# In this section the outliers above the upper cap with upper cap\n",
    "\n",
    "# Computing the max cap value from the boxplot\n",
    "BoxPlot = df.boxplot(column='rev_per_month', return_type='dict')\n",
    "MaxCapValue = BoxPlot['caps'][1].get_ydata()[0]\n",
    "print('The Maximum Cap Value of rev_per_month feature in the boxplot is : ',MaxCapValue, '\\n' )\n",
    "\n",
    "#Computing the list of outliers above the maxcap\n",
    "OutlierBoolean = df['rev_per_month'].unique() > MaxCapValue\n",
    "print('Displaying the rev_per_month Max Cap outliers boolean array :\\n')\n",
    "print(OutlierBoolean)\n",
    "OutliersArr = df['rev_per_month'].unique()[OutlierBoolean]\n",
    "print('\\nThe Max cap outliers in the rev_per_month feature are : \\n')\n",
    "print(OutliersArr)\n",
    "\n",
    "#Replacing outliers with maxcap value\n",
    "print('\\nReplacing all the outliers with median : \\n')\n",
    "df['rev_per_month'].replace(list(OutliersArr), int(df['rev_per_month'].median()), inplace=True)\n",
    "print('Printing the value counts of rev_per_month feature after replacing the outliers with ',MaxCapValue)\n",
    "print(df['rev_per_month'].value_counts(dropna=False).sort_index())\n",
    "print('\\nAll the outlier in the rev_per_month feature are replaced successfully')\n",
    "\n",
    "#Deleting all the temporary variables created during outlier detection and treatment\n",
    "del OutliersArr\n",
    "del OutlierBoolean\n",
    "del MaxCapValue\n",
    "del BoxPlot"
   ]
  },
  {
   "cell_type": "markdown",
   "id": "dd24de47-f94a-4d51-858c-9f48bd9af651",
   "metadata": {},
   "source": [
    "<b>Analyst Observation : </b>\n",
    "<p>\n",
    "</p>"
   ]
  },
  {
   "cell_type": "markdown",
   "id": "5a411d87-e6e1-4b22-b5f7-222c51c14325",
   "metadata": {
    "tags": []
   },
   "source": [
    "## Data Cleaning of Complain_ly Feature"
   ]
  },
  {
   "cell_type": "markdown",
   "id": "5f464c23-b744-4053-b3e3-269d9de6f368",
   "metadata": {},
   "source": [
    "### Removing Irrelevant data from Complain_ly Feature"
   ]
  },
  {
   "cell_type": "code",
   "execution_count": 326,
   "id": "7c0d8b77-6678-45a6-b853-955f561f0574",
   "metadata": {
    "tags": []
   },
   "outputs": [
    {
     "name": "stdout",
     "output_type": "stream",
     "text": [
      "Printing the value counts of Complain_ly feature: \n",
      "\n",
      "Complain_ly\n",
      "0.0    7792\n",
      "1.0    3111\n",
      "NaN     357\n",
      "Name: count, dtype: int64\n",
      "\n",
      "Value Counts of Complain_ly feature printed successfully\n"
     ]
    }
   ],
   "source": [
    "# Checking unique values with their frequencies in the Complain_ly Feature\n",
    "print('Printing the value counts of Complain_ly feature: \\n')\n",
    "print(df['Complain_ly'].value_counts(dropna=False))\n",
    "print('\\nValue Counts of Complain_ly feature printed successfully')"
   ]
  },
  {
   "cell_type": "markdown",
   "id": "356fcf35-b32d-451a-9539-9a269824747c",
   "metadata": {},
   "source": [
    "<b>Analyst Observation : </b>\n",
    "<p>\n",
    "    No irrelevant data observed in Complain_ly feature.<br>\n",
    "    Hence no further action required on irrelevant data is required.\n",
    "</p>"
   ]
  },
  {
   "cell_type": "markdown",
   "id": "f0e1fbb9-96fc-4dd2-9f0f-d123d2a768d5",
   "metadata": {},
   "source": [
    "### Missing Value analysis and Treatment for Complain_ly Feature"
   ]
  },
  {
   "cell_type": "code",
   "execution_count": 327,
   "id": "e6d954b6-1549-42bb-9ab0-7352138737d3",
   "metadata": {
    "tags": []
   },
   "outputs": [
    {
     "name": "stdout",
     "output_type": "stream",
     "text": [
      "The mode of Complain_ly feature is :  0    0.0\n",
      "Name: Complain_ly, dtype: float64\n",
      "Replacing the null values in Complain_ly feature with mode : \n",
      "\n",
      "\n",
      "All the null values in the Complain_ly are replaced successfully with mode :\n",
      "\n",
      "Printing the value counts of the Complain_ly variable to check whether the null values are replace or not : \n",
      "\n",
      "Complain_ly\n",
      "0.0    8149\n",
      "1.0    3111\n",
      "Name: count, dtype: int64\n",
      "\n",
      "The total number of null values in Complain_ly feature after replacing with median :  0\n",
      "\n",
      "Data type of Complain_ly feature after handling missing value is :  float64\n"
     ]
    }
   ],
   "source": [
    "# Complain_ly is a binary variable. Hence replacing the missing values with mode\n",
    "\n",
    "print('The mode of Complain_ly feature is : ',df['Complain_ly'].mode())\n",
    "\n",
    "print('Replacing the null values in Complain_ly feature with mode : \\n')\n",
    "df['Complain_ly'].fillna(df['Complain_ly'].mode()[0], inplace=True)\n",
    "print('\\nAll the null values in the Complain_ly are replaced successfully with mode :')\n",
    "\n",
    "print('\\nPrinting the value counts of the Complain_ly variable to check whether the null values are replace or not : \\n')\n",
    "print(df['Complain_ly'].value_counts(dropna=False).sort_index())\n",
    "\n",
    "print('\\nThe total number of null values in Complain_ly feature after replacing with median : ',df['Complain_ly'].isna().sum())\n",
    "print('\\nData type of Complain_ly feature after handling missing value is : ',df['Complain_ly'].dtype)"
   ]
  },
  {
   "cell_type": "markdown",
   "id": "6392dc2e-a104-46a7-b4a9-c9057e95b61f",
   "metadata": {},
   "source": [
    "<b>Analyst Observation : </b>\n",
    "<p>\n",
    "</p>"
   ]
  },
  {
   "cell_type": "markdown",
   "id": "99929fbc-7584-4b37-b10a-ddcca6caa436",
   "metadata": {},
   "source": [
    "### Outlier Detection and Treatment for Complain_ly Feature"
   ]
  },
  {
   "cell_type": "code",
   "execution_count": 328,
   "id": "417fa37e-4362-460a-b2a8-7c532cb2e0ba",
   "metadata": {
    "tags": []
   },
   "outputs": [
    {
     "data": {
      "image/png": "[encoded data removed]",
      "text/plain": [
       "<Figure size 640x480 with 1 Axes>"
      ]
     },
     "metadata": {},
     "output_type": "display_data"
    }
   ],
   "source": [
    "plt.clf()\n",
    "df.boxplot(column='Complain_ly').plot()\n",
    "plt.show()"
   ]
  },
  {
   "cell_type": "markdown",
   "id": "e7f25129-e46a-441c-85a7-3ef486cf4cad",
   "metadata": {},
   "source": [
    "<b>Analyst Observation : </b>\n",
    "<p>\n",
    "    No outlier treatment is required for Complain_ly feature.\n",
    "</p>"
   ]
  },
  {
   "cell_type": "markdown",
   "id": "15b398b7-c5d6-4124-813d-8eac34e0c862",
   "metadata": {
    "tags": []
   },
   "source": [
    "## Data Cleaning of rev_growth_yoy Feature"
   ]
  },
  {
   "cell_type": "markdown",
   "id": "71230be1-8da8-445e-96d9-38e23f601c40",
   "metadata": {
    "tags": []
   },
   "source": [
    "### Removing Irrelevant data from rev_growth_yoy Feature"
   ]
  },
  {
   "cell_type": "code",
   "execution_count": 329,
   "id": "f0ffcb88-ce52-4c8c-b464-aafd57b96b2f",
   "metadata": {
    "tags": []
   },
   "outputs": [
    {
     "name": "stdout",
     "output_type": "stream",
     "text": [
      "Printing the value counts of rev_growth_yoy feature: \n",
      "\n",
      "rev_growth_yoy\n",
      "14    1524\n",
      "13    1427\n",
      "15    1283\n",
      "12    1210\n",
      "16     949\n",
      "18     708\n",
      "17     704\n",
      "19     619\n",
      "20     562\n",
      "11     523\n",
      "21     433\n",
      "22     403\n",
      "23     345\n",
      "24     229\n",
      "25     188\n",
      "26      98\n",
      "27      35\n",
      "28      14\n",
      "$        3\n",
      "4        3\n",
      "Name: count, dtype: int64\n",
      "\n",
      "Value Counts of rev_growth_yoy feature printed successfully\n"
     ]
    }
   ],
   "source": [
    "# Checking unique values with their frequencies in the rev_growth_yoy Feature\n",
    "print('Printing the value counts of rev_growth_yoy feature: \\n')\n",
    "print(df['rev_growth_yoy'].value_counts(dropna=False))\n",
    "print('\\nValue Counts of rev_growth_yoy feature printed successfully')"
   ]
  },
  {
   "cell_type": "code",
   "execution_count": 330,
   "id": "2138a776-903e-4031-9a6f-518bb7f46921",
   "metadata": {
    "tags": []
   },
   "outputs": [
    {
     "name": "stdout",
     "output_type": "stream",
     "text": [
      "\n",
      "Total number of Null values before replacing '$' with None :  0\n",
      "Replacing '$' with None in rev_growth_yoy feature : \n",
      "\n",
      "\n",
      "Printing the value counts of rev_growth_yoy feature after replacing '$' with None: \n",
      "\n",
      "rev_growth_yoy\n",
      "14      1524\n",
      "13      1427\n",
      "15      1283\n",
      "12      1210\n",
      "16       949\n",
      "18       708\n",
      "17       704\n",
      "19       619\n",
      "20       562\n",
      "11       523\n",
      "21       433\n",
      "22       403\n",
      "23       345\n",
      "24       229\n",
      "25       188\n",
      "26        98\n",
      "27        35\n",
      "28        14\n",
      "None       3\n",
      "4          3\n",
      "Name: count, dtype: int64\n",
      "\n",
      "Total number of Null values after replacing '$' with None :  3\n"
     ]
    }
   ],
   "source": [
    "#Replacing '$' with None\n",
    "\n",
    "print(\"\\nTotal number of Null values before replacing '$' with None : \", df['rev_growth_yoy'].isna().sum())\n",
    "print(\"Replacing '$' with None in rev_growth_yoy feature : \\n\")\n",
    "df['rev_growth_yoy'].replace('$',None,inplace=True)\n",
    "print(\"\\nPrinting the value counts of rev_growth_yoy feature after replacing '$' with None: \\n\")\n",
    "print(df['rev_growth_yoy'].value_counts(dropna=False))\n",
    "print(\"\\nTotal number of Null values after replacing '$' with None : \", df['rev_growth_yoy'].isna().sum())\n"
   ]
  },
  {
   "cell_type": "markdown",
   "id": "e85ef205-c813-488c-a0d1-1278f665cbfb",
   "metadata": {},
   "source": [
    "<b>Analyst Observation : </b>\n",
    "<p>\n",
    "    <ul>\n",
    "        <li>Observed that there is an irrelevant data '$' in the rev_growth_yoy feature. Hence replaced the irrelevant value with None.</li>\n",
    "        <li>Thus irrelevant data is handled in the rev_growth_yoy feature</li>\n",
    "    </ul>\n",
    "</p>"
   ]
  },
  {
   "cell_type": "markdown",
   "id": "f2c8b998-8295-4dd0-accf-baf5fd89881a",
   "metadata": {},
   "source": [
    "### Missing Value analysis and Treatment for rev_growth_yoy Feature"
   ]
  },
  {
   "cell_type": "code",
   "execution_count": 331,
   "id": "e89469d1-3682-4c67-82d5-e061b0e66968",
   "metadata": {
    "tags": []
   },
   "outputs": [
    {
     "name": "stdout",
     "output_type": "stream",
     "text": [
      "\n",
      "Total number of null values in rev_growth_yoy feature is :  3\n",
      "\n",
      "Percentage of null values in rev_growth_yoy feature is :  0.02664298401420959\n",
      "\n",
      "The mean of rev_growth_yoy feature is :  16.1933907790708\n",
      "\n",
      "The median of rev_growth_yoy feature is :  15.0\n",
      "\n",
      "The mode of rev_growth_yoy feature is :  0    14\n",
      "Name: rev_growth_yoy, dtype: object\n",
      "\n",
      "Other statistical information on rev_growth_yoy feature : \n",
      "\n"
     ]
    },
    {
     "data": {
      "text/plain": [
       "count     11257\n",
       "unique       19\n",
       "top          14\n",
       "freq       1524\n",
       "Name: rev_growth_yoy, dtype: int64"
      ]
     },
     "execution_count": 331,
     "metadata": {},
     "output_type": "execute_result"
    }
   ],
   "source": [
    "#Gathering statistical information on rev_growth_yoy feature\n",
    "\n",
    "print('\\nTotal number of null values in rev_growth_yoy feature is : ', df['rev_growth_yoy'].isna().sum())\n",
    "print('\\nPercentage of null values in rev_growth_yoy feature is : ', df['rev_growth_yoy'].isna().mean()*100)\n",
    "print('\\nThe mean of rev_growth_yoy feature is : ', df['rev_growth_yoy'].mean())\n",
    "print('\\nThe median of rev_growth_yoy feature is : ', df['rev_growth_yoy'].median())\n",
    "print('\\nThe mode of rev_growth_yoy feature is : ', df['rev_growth_yoy'].mode())\n",
    "print('\\nOther statistical information on rev_growth_yoy feature : \\n')\n",
    "df['rev_growth_yoy'].describe()"
   ]
  },
  {
   "cell_type": "code",
   "execution_count": 332,
   "id": "20bd4a76-4ddf-4a3e-83d9-3c734e65fe04",
   "metadata": {
    "tags": []
   },
   "outputs": [
    {
     "name": "stdout",
     "output_type": "stream",
     "text": [
      "The median of rev_growth_yoy feature is :  15\n",
      "Replacing the null values in rev_growth_yoy feature with median : \n",
      "\n",
      "\n",
      "All the null values in the rev_growth_yoy are replaced successfully with median :\n",
      "\n",
      "Printing the value counts of the rev_growth_yoy variable to check whether the null values are replace or not : \n",
      "\n",
      "rev_growth_yoy\n",
      "4        3\n",
      "11     523\n",
      "12    1210\n",
      "13    1427\n",
      "14    1524\n",
      "15    1286\n",
      "16     949\n",
      "17     704\n",
      "18     708\n",
      "19     619\n",
      "20     562\n",
      "21     433\n",
      "22     403\n",
      "23     345\n",
      "24     229\n",
      "25     188\n",
      "26      98\n",
      "27      35\n",
      "28      14\n",
      "Name: count, dtype: int64\n",
      "\n",
      "The total number of null values in rev_growth_yoy feature after replacing with median :  0\n",
      "\n",
      "Data type of rev_growth_yoy feature after handling missing value is :  int64\n"
     ]
    }
   ],
   "source": [
    "# Replacing the missing values with median\n",
    "\n",
    "print('The median of rev_growth_yoy feature is : ',int(df['rev_growth_yoy'].median()))\n",
    "\n",
    "print('Replacing the null values in rev_growth_yoy feature with median : \\n')\n",
    "df['rev_growth_yoy'].fillna(int(df['rev_growth_yoy'].median()), inplace=True)\n",
    "print('\\nAll the null values in the rev_growth_yoy are replaced successfully with median :')\n",
    "\n",
    "print('\\nPrinting the value counts of the rev_growth_yoy variable to check whether the null values are replace or not : \\n')\n",
    "print(df['rev_growth_yoy'].value_counts(dropna=False).sort_index())\n",
    "\n",
    "print('\\nThe total number of null values in rev_growth_yoy feature after replacing with median : ',df['rev_growth_yoy'].isna().sum())\n",
    "print('\\nData type of rev_growth_yoy feature after handling missing value is : ',df['rev_growth_yoy'].dtype)"
   ]
  },
  {
   "cell_type": "markdown",
   "id": "71e7bb87-cb7b-4a6f-9254-a7454431dfd9",
   "metadata": {},
   "source": [
    "<b>Analyst Observation : </b>\n",
    "<p>\n",
    "</p>"
   ]
  },
  {
   "cell_type": "markdown",
   "id": "fbd05bdd-0a3f-4136-a85c-21638886cf17",
   "metadata": {},
   "source": [
    "### Outlier Detection and Treatment for rev_growth_yoy Feature"
   ]
  },
  {
   "cell_type": "code",
   "execution_count": 333,
   "id": "72ec8c15-31c6-4146-8464-91ba08c299bb",
   "metadata": {
    "tags": []
   },
   "outputs": [
    {
     "data": {
      "image/png": "[encoded data removed]",
      "text/plain": [
       "<Figure size 640x480 with 1 Axes>"
      ]
     },
     "metadata": {},
     "output_type": "display_data"
    }
   ],
   "source": [
    "plt.clf()\n",
    "df.boxplot(column='rev_growth_yoy').plot()\n",
    "plt.show()"
   ]
  },
  {
   "cell_type": "markdown",
   "id": "dd967a8d-065c-4278-b8a3-a8ce3e6e8bf8",
   "metadata": {},
   "source": [
    "<b>Analyst Observation : </b>\n",
    "<p>\n",
    "    There are no outliers observed in the rev_growth_yoy.<br>\n",
    "    Hence no outlier treatment is required.\n",
    "</p>"
   ]
  },
  {
   "cell_type": "markdown",
   "id": "0173b09b-e8f0-4e58-bec4-57b0e33a7c75",
   "metadata": {
    "tags": []
   },
   "source": [
    "## Data Cleaning of coupon_used_for_payment Feature"
   ]
  },
  {
   "cell_type": "markdown",
   "id": "d719facc-a974-4938-81a0-d93063128a4e",
   "metadata": {},
   "source": [
    "### Removing Irrelevant data from coupon_used_for_payment Feature"
   ]
  },
  {
   "cell_type": "code",
   "execution_count": 334,
   "id": "6377d8df-6798-4731-aaa9-b9953a26afc8",
   "metadata": {
    "tags": []
   },
   "outputs": [
    {
     "name": "stdout",
     "output_type": "stream",
     "text": [
      "Printing the value counts of coupon_used_for_payment feature: \n",
      "\n",
      "coupon_used_for_payment\n",
      "1     4373\n",
      "2     2656\n",
      "0     2150\n",
      "3      698\n",
      "4      424\n",
      "5      284\n",
      "6      234\n",
      "7      184\n",
      "8       88\n",
      "10      34\n",
      "9       34\n",
      "11      30\n",
      "12      26\n",
      "13      22\n",
      "14      12\n",
      "15       4\n",
      "16       4\n",
      "#        1\n",
      "$        1\n",
      "*        1\n",
      "Name: count, dtype: int64\n",
      "\n",
      "Value Counts of coupon_used_for_payment feature printed successfully\n"
     ]
    }
   ],
   "source": [
    "# Checking unique values with their frequencies in the coupon_used_for_payment Feature\n",
    "print('Printing the value counts of coupon_used_for_payment feature: \\n')\n",
    "print(df['coupon_used_for_payment'].value_counts(dropna=False))\n",
    "print('\\nValue Counts of coupon_used_for_payment feature printed successfully')"
   ]
  },
  {
   "cell_type": "code",
   "execution_count": 335,
   "id": "47ef067e-7cf0-41d6-948e-3dcf37d788d1",
   "metadata": {
    "tags": []
   },
   "outputs": [
    {
     "name": "stdout",
     "output_type": "stream",
     "text": [
      "\n",
      "Replacing '#' with None in the coupon_used_for_payment feature : \n",
      "Printing the value counts of coupon_used_for_payment feature after replacing '#' with None: \n",
      "\n",
      "coupon_used_for_payment\n",
      "1      4373\n",
      "2      2656\n",
      "0      2150\n",
      "3       698\n",
      "4       424\n",
      "5       284\n",
      "6       234\n",
      "7       184\n",
      "8        88\n",
      "10       34\n",
      "9        34\n",
      "11       30\n",
      "12       26\n",
      "13       22\n",
      "14       12\n",
      "15        4\n",
      "16        4\n",
      "NaN       1\n",
      "$         1\n",
      "*         1\n",
      "Name: count, dtype: int64\n",
      "\n",
      "Replacing '$' with None in the coupon_used_for_payment feature : \n",
      "Printing the value counts of coupon_used_for_payment feature after replacing '$' with None: \n",
      "\n",
      "coupon_used_for_payment\n",
      "1      4373\n",
      "2      2656\n",
      "0      2150\n",
      "3       698\n",
      "4       424\n",
      "5       284\n",
      "6       234\n",
      "7       184\n",
      "8        88\n",
      "10       34\n",
      "9        34\n",
      "11       30\n",
      "12       26\n",
      "13       22\n",
      "14       12\n",
      "15        4\n",
      "16        4\n",
      "NaN       2\n",
      "*         1\n",
      "Name: count, dtype: int64\n",
      "\n",
      "Replacing '*' with None in the coupon_used_for_payment feature : \n",
      "Printing the value counts of coupon_used_for_payment feature after replacing '*' with None: \n",
      "\n",
      "coupon_used_for_payment\n",
      "1.0     4373\n",
      "2.0     2656\n",
      "0.0     2150\n",
      "3.0      698\n",
      "4.0      424\n",
      "5.0      284\n",
      "6.0      234\n",
      "7.0      184\n",
      "8.0       88\n",
      "10.0      34\n",
      "9.0       34\n",
      "11.0      30\n",
      "12.0      26\n",
      "13.0      22\n",
      "14.0      12\n",
      "15.0       4\n",
      "16.0       4\n",
      "NaN        3\n",
      "Name: count, dtype: int64\n",
      "\n",
      "Total number of null values after replacing the irrelevant values in the coupon_used_for_payment feature is :  3\n"
     ]
    }
   ],
   "source": [
    "# Replacing '#' with None\n",
    "print(\"\\nReplacing '#' with None in the coupon_used_for_payment feature : \")\n",
    "df['coupon_used_for_payment'].replace('#',np.NaN,inplace=True)\n",
    "print(\"Printing the value counts of coupon_used_for_payment feature after replacing '#' with None: \\n\")\n",
    "print(df['coupon_used_for_payment'].value_counts(dropna=False))\n",
    "\n",
    "# Replacing '$' with None\n",
    "print(\"\\nReplacing '$' with None in the coupon_used_for_payment feature : \")\n",
    "df['coupon_used_for_payment'].replace('$',np.NaN,inplace=True)\n",
    "print(\"Printing the value counts of coupon_used_for_payment feature after replacing '$' with None: \\n\")\n",
    "print(df['coupon_used_for_payment'].value_counts(dropna=False))\n",
    "\n",
    "# Replacing '*' with None\n",
    "print(\"\\nReplacing '*' with None in the coupon_used_for_payment feature : \")\n",
    "df['coupon_used_for_payment'].replace('*',np.NaN,inplace=True)\n",
    "print(\"Printing the value counts of coupon_used_for_payment feature after replacing '*' with None: \\n\")\n",
    "print(df['coupon_used_for_payment'].value_counts(dropna=False))\n",
    "\n",
    "print('\\nTotal number of null values after replacing the irrelevant values in the coupon_used_for_payment feature is : ',df['coupon_used_for_payment'].isna().sum())"
   ]
  },
  {
   "cell_type": "markdown",
   "id": "c94bf551-040b-4d88-a912-c3352fcbfbd8",
   "metadata": {},
   "source": [
    "<b>Analyst Observation : </b>\n",
    "<p>\n",
    "    <ul>\n",
    "        <li>Observed that there are irrelevant values '$,#,*' in the coupon_used_for_payment feature. Hence replaced the irrelevant values with None.</li>\n",
    "        <li>Thus irrelevant data is handled in the coupon_used_for_payment feature</li>\n",
    "    </ul>\n",
    "</p>"
   ]
  },
  {
   "cell_type": "markdown",
   "id": "b5dd668c-a422-49e2-9e6b-5d7432496a5f",
   "metadata": {},
   "source": [
    "### Missing Value analysis and Treatment for coupon_used_for_payment Feature"
   ]
  },
  {
   "cell_type": "code",
   "execution_count": 336,
   "id": "c266eb8a-0af6-480e-9852-b6104d13dd40",
   "metadata": {
    "tags": []
   },
   "outputs": [
    {
     "name": "stdout",
     "output_type": "stream",
     "text": [
      "\n",
      "Total number of null values in coupon_used_for_payment feature is :  3\n",
      "\n",
      "Percentage of null values in coupon_used_for_payment feature is :  0.02664298401420959\n",
      "\n",
      "The mean of coupon_used_for_payment feature is :  1.7906191702940393\n",
      "\n",
      "The median of coupon_used_for_payment feature is :  1.0\n",
      "\n",
      "The mode of coupon_used_for_payment feature is :  0    1.0\n",
      "Name: coupon_used_for_payment, dtype: float64\n",
      "\n",
      "Other statistical information on coupon_used_for_payment feature : \n",
      "\n"
     ]
    },
    {
     "data": {
      "text/plain": [
       "count    11257.000000\n",
       "mean         1.790619\n",
       "std          1.969551\n",
       "min          0.000000\n",
       "25%          1.000000\n",
       "50%          1.000000\n",
       "75%          2.000000\n",
       "max         16.000000\n",
       "Name: coupon_used_for_payment, dtype: float64"
      ]
     },
     "execution_count": 336,
     "metadata": {},
     "output_type": "execute_result"
    }
   ],
   "source": [
    "#Gathering statistical information on coupon_used_for_payment feature\n",
    "\n",
    "print('\\nTotal number of null values in coupon_used_for_payment feature is : ', df['coupon_used_for_payment'].isna().sum())\n",
    "print('\\nPercentage of null values in coupon_used_for_payment feature is : ', df['coupon_used_for_payment'].isna().mean()*100)\n",
    "print('\\nThe mean of coupon_used_for_payment feature is : ', df['coupon_used_for_payment'].mean())\n",
    "print('\\nThe median of coupon_used_for_payment feature is : ', df['coupon_used_for_payment'].median())\n",
    "print('\\nThe mode of coupon_used_for_payment feature is : ', df['coupon_used_for_payment'].mode())\n",
    "print('\\nOther statistical information on coupon_used_for_payment feature : \\n')\n",
    "df['coupon_used_for_payment'].describe()"
   ]
  },
  {
   "cell_type": "code",
   "execution_count": 337,
   "id": "584f0656-e8df-4503-977a-0c9eab66c3c7",
   "metadata": {
    "tags": []
   },
   "outputs": [
    {
     "data": {
      "image/png": "[encoded data removed]",
      "text/plain": [
       "<Figure size 640x480 with 1 Axes>"
      ]
     },
     "metadata": {},
     "output_type": "display_data"
    }
   ],
   "source": [
    "plt.clf()\n",
    "df.boxplot(column='coupon_used_for_payment').plot()\n",
    "plt.show()"
   ]
  },
  {
   "cell_type": "code",
   "execution_count": 338,
   "id": "c74c10e7-adf4-475a-828e-42a72bddc7ac",
   "metadata": {
    "tags": []
   },
   "outputs": [
    {
     "name": "stdout",
     "output_type": "stream",
     "text": [
      "The median of coupon_used_for_payment feature is :  1\n",
      "Replacing the null values in coupon_used_for_payment feature with median : \n",
      "\n",
      "\n",
      "All the null values in the coupon_used_for_payment are replaced successfully with median :\n",
      "\n",
      "Printing the value counts of the coupon_used_for_payment variable to check whether the null values are replace or not : \n",
      "\n",
      "coupon_used_for_payment\n",
      "0.0     2150\n",
      "1.0     4376\n",
      "2.0     2656\n",
      "3.0      698\n",
      "4.0      424\n",
      "5.0      284\n",
      "6.0      234\n",
      "7.0      184\n",
      "8.0       88\n",
      "9.0       34\n",
      "10.0      34\n",
      "11.0      30\n",
      "12.0      26\n",
      "13.0      22\n",
      "14.0      12\n",
      "15.0       4\n",
      "16.0       4\n",
      "Name: count, dtype: int64\n",
      "\n",
      "The total number of null values in coupon_used_for_payment feature after replacing with median :  0\n",
      "\n",
      "Data type of coupon_used_for_payment feature after handling missing value is :  float64\n"
     ]
    }
   ],
   "source": [
    "# Replacing the missing values coupon_used_for_payment feature in with Median as there are outliers\n",
    "\n",
    "print('The median of coupon_used_for_payment feature is : ',int(df['coupon_used_for_payment'].median()))\n",
    "\n",
    "print('Replacing the null values in coupon_used_for_payment feature with median : \\n')\n",
    "df['coupon_used_for_payment'].fillna(int(df['coupon_used_for_payment'].median()), inplace=True)\n",
    "print('\\nAll the null values in the coupon_used_for_payment are replaced successfully with median :')\n",
    "\n",
    "print('\\nPrinting the value counts of the coupon_used_for_payment variable to check whether the null values are replace or not : \\n')\n",
    "print(df['coupon_used_for_payment'].value_counts(dropna=False).sort_index())\n",
    "\n",
    "print('\\nThe total number of null values in coupon_used_for_payment feature after replacing with median : ',df['coupon_used_for_payment'].isna().sum())\n",
    "print('\\nData type of coupon_used_for_payment feature after handling missing value is : ',df['coupon_used_for_payment'].dtype)"
   ]
  },
  {
   "cell_type": "markdown",
   "id": "ef704e74-832e-4485-92cb-f6591365abbf",
   "metadata": {},
   "source": [
    "<b>Analyst Observation : </b>\n",
    "<p>\n",
    "</p>"
   ]
  },
  {
   "cell_type": "markdown",
   "id": "bcfe77b9-73ca-4b1f-ac02-2716afa02fdd",
   "metadata": {},
   "source": [
    "### Outlier Detection and Treatment for coupon_used_for_payment Feature"
   ]
  },
  {
   "cell_type": "code",
   "execution_count": 339,
   "id": "15b6d792-1128-4bc2-8bb5-e83cc6572d47",
   "metadata": {
    "tags": []
   },
   "outputs": [
    {
     "name": "stdout",
     "output_type": "stream",
     "text": [
      "The Maximum Cap Value of coupon_used_for_payment feature in the boxplot is :  3.0 \n",
      "\n",
      "Displaying the Max Cap outliers boolean array :\n",
      "\n",
      "[False False  True False  True  True  True  True  True  True  True False\n",
      "  True  True  True  True  True]\n",
      "\n",
      "The Max cap outliers in the coupon_used_for_payment feature are : \n",
      "\n",
      "[ 4.  9.  6. 11.  7. 12. 10.  5. 13. 15.  8. 14. 16.]\n",
      "\n",
      "Replacing all the outliers with median :\n",
      "\n",
      "Printing the value counts of coupon_used_for_payment feature after replacing the outliers with median : \n",
      "coupon_used_for_payment\n",
      "0.0    2150\n",
      "1.0    5756\n",
      "2.0    2656\n",
      "3.0     698\n",
      "Name: count, dtype: int64\n",
      "\n",
      "All the outlier in the coupon_used_for_payment feature are replaced successfully\n"
     ]
    },
    {
     "data": {
      "image/png": "[encoded data removed]",
      "text/plain": [
       "<Figure size 640x480 with 1 Axes>"
      ]
     },
     "metadata": {},
     "output_type": "display_data"
    }
   ],
   "source": [
    "# As per boxplot there are outliers in the coupon_used_for_payment feature which needs to be handled. \n",
    "# Few outliers are observed above the upper cap \n",
    "# In this section the outliers above the upper cap with upper cap\n",
    "\n",
    "# Computing the max cap value from the boxplot\n",
    "BoxPlot = df.boxplot(column='coupon_used_for_payment', return_type='dict')\n",
    "MaxCapValue = BoxPlot['caps'][1].get_ydata()[0]\n",
    "print('The Maximum Cap Value of coupon_used_for_payment feature in the boxplot is : ',MaxCapValue, '\\n' )\n",
    "\n",
    "#Computing the list of outliers above the maxcap\n",
    "OutlierBoolean = df['coupon_used_for_payment'].unique() > MaxCapValue\n",
    "print('Displaying the Max Cap outliers boolean array :\\n')\n",
    "print(OutlierBoolean)\n",
    "OutliersArr = df['coupon_used_for_payment'].unique()[OutlierBoolean]\n",
    "print('\\nThe Max cap outliers in the coupon_used_for_payment feature are : \\n')\n",
    "print(OutliersArr)\n",
    "\n",
    "#Replacing outliers with maxcap value\n",
    "print('\\nReplacing all the outliers with median :\\n')\n",
    "df['coupon_used_for_payment'].replace(list(OutliersArr), int(df['coupon_used_for_payment'].median()), inplace=True)\n",
    "print('Printing the value counts of coupon_used_for_payment feature after replacing the outliers with median : ')\n",
    "print(df['coupon_used_for_payment'].value_counts(dropna=False).sort_index())\n",
    "print('\\nAll the outlier in the coupon_used_for_payment feature are replaced successfully')\n",
    "\n",
    "#Deleting all the temporary variables created during outlier detection and treatment\n",
    "del OutliersArr\n",
    "del OutlierBoolean\n",
    "del MaxCapValue\n",
    "del BoxPlot"
   ]
  },
  {
   "cell_type": "markdown",
   "id": "ee8f7321-0c00-4b67-b4b4-36c4838a7a82",
   "metadata": {},
   "source": [
    "<b>Analyst Observation : </b>\n",
    "<p>\n",
    "</p>"
   ]
  },
  {
   "cell_type": "markdown",
   "id": "7bd56dcd-ba0f-48ec-b413-d9817f5830bb",
   "metadata": {
    "tags": []
   },
   "source": [
    "## Data Cleaning of Day_Since_CC_connect Feature"
   ]
  },
  {
   "cell_type": "markdown",
   "id": "b778f4c8-13f8-402c-a908-f603fc69f4cf",
   "metadata": {},
   "source": [
    "### Removing Irrelevant data from Day_Since_CC_connect Feature"
   ]
  },
  {
   "cell_type": "code",
   "execution_count": 340,
   "id": "fa554d31-f2da-4ad7-836c-9e8ab9483aea",
   "metadata": {
    "tags": []
   },
   "outputs": [
    {
     "name": "stdout",
     "output_type": "stream",
     "text": [
      "Printing the value counts of Day_Since_CC_connect feature: \n",
      "\n",
      "Day_Since_CC_connect\n",
      "3      1816\n",
      "2      1574\n",
      "1      1256\n",
      "8      1169\n",
      "0       964\n",
      "7       911\n",
      "4       893\n",
      "9       622\n",
      "5       479\n",
      "NaN     357\n",
      "10      339\n",
      "6       229\n",
      "11      183\n",
      "12      146\n",
      "13      117\n",
      "14       74\n",
      "15       37\n",
      "17       34\n",
      "16       26\n",
      "18       26\n",
      "30        2\n",
      "31        2\n",
      "47        2\n",
      "$         1\n",
      "46        1\n",
      "Name: count, dtype: int64\n",
      "\n",
      "Value Counts of Day_Since_CC_connect feature printed successfully\n"
     ]
    }
   ],
   "source": [
    "# Checking unique values with their frequencies in the Day_Since_CC_connect Feature\n",
    "print('Printing the value counts of Day_Since_CC_connect feature: \\n')\n",
    "print(df['Day_Since_CC_connect'].value_counts(dropna=False))\n",
    "print('\\nValue Counts of Day_Since_CC_connect feature printed successfully')"
   ]
  },
  {
   "cell_type": "code",
   "execution_count": 341,
   "id": "1dcf008e-874c-47f0-a669-aa19241a5184",
   "metadata": {
    "tags": []
   },
   "outputs": [
    {
     "name": "stdout",
     "output_type": "stream",
     "text": [
      "Replacing '$' with None in the Day_Since_CC_connect feature\n",
      "Printing the value counts of Day_Since_CC_connect feature after replacing '$' with None: \n",
      "\n",
      "Day_Since_CC_connect\n",
      "3       1816\n",
      "2       1574\n",
      "1       1256\n",
      "8       1169\n",
      "0        964\n",
      "7        911\n",
      "4        893\n",
      "9        622\n",
      "5        479\n",
      "NaN      357\n",
      "10       339\n",
      "6        229\n",
      "11       183\n",
      "12       146\n",
      "13       117\n",
      "14        74\n",
      "15        37\n",
      "17        34\n",
      "16        26\n",
      "18        26\n",
      "30         2\n",
      "31         2\n",
      "47         2\n",
      "None       1\n",
      "46         1\n",
      "Name: count, dtype: int64\n",
      "\n",
      "Total number of null values in Day_Since_CC_connect feature after replacing '$' with None is :  358\n"
     ]
    }
   ],
   "source": [
    "# Replacing '$' with None\n",
    "print(\"Replacing '$' with None in the Day_Since_CC_connect feature\")\n",
    "df['Day_Since_CC_connect'].replace('$',None,inplace=True)\n",
    "print(\"Printing the value counts of Day_Since_CC_connect feature after replacing '$' with None: \\n\")\n",
    "print(df['Day_Since_CC_connect'].value_counts(dropna=False))\n",
    "print(\"\\nTotal number of null values in Day_Since_CC_connect feature after replacing '$' with None is : \",df['Day_Since_CC_connect'].isna().sum())"
   ]
  },
  {
   "cell_type": "markdown",
   "id": "6b51469a-98c6-482d-9c0f-eb7d0aaf1aa0",
   "metadata": {},
   "source": [
    "<b>Analyst Observation : </b>\n",
    "<p>\n",
    "    <ul>\n",
    "        <li>Observed that there is an irrelevant value '$' in the Day_Since_CC_connect feature. Hence replaced the irrelevant value with None.</li>\n",
    "        <li>Thus irrelevant data is handled in the Day_Since_CC_connect feature.</li>\n",
    "    </ul>\n",
    "</p>"
   ]
  },
  {
   "cell_type": "markdown",
   "id": "9d4e5c53-8afe-45f4-9874-1b49dec259a7",
   "metadata": {},
   "source": [
    "### Missing Value analysis and Treatment for Day_Since_CC_connect Feature"
   ]
  },
  {
   "cell_type": "code",
   "execution_count": 342,
   "id": "09c5470a-899f-4419-be06-9be101d16de0",
   "metadata": {
    "tags": []
   },
   "outputs": [
    {
     "name": "stdout",
     "output_type": "stream",
     "text": [
      "\n",
      "Total number of null values in Day_Since_CC_connect feature is :  358\n",
      "\n",
      "Percentage of null values in Day_Since_CC_connect feature is :  3.1793960923623446\n",
      "\n",
      "The mean of Day_Since_CC_connect feature is :  4.6331865712713265\n",
      "\n",
      "The median of Day_Since_CC_connect feature is :  3.0\n",
      "\n",
      "The mode of Day_Since_CC_connect feature is :  0    3\n",
      "Name: Day_Since_CC_connect, dtype: object\n",
      "\n",
      "Other statistical information on Day_Since_CC_connect feature : \n",
      "\n"
     ]
    },
    {
     "data": {
      "text/plain": [
       "count     10902\n",
       "unique       23\n",
       "top           3\n",
       "freq       1816\n",
       "Name: Day_Since_CC_connect, dtype: int64"
      ]
     },
     "execution_count": 342,
     "metadata": {},
     "output_type": "execute_result"
    }
   ],
   "source": [
    "#Gathering statistical information on Day_Since_CC_connect feature\n",
    "\n",
    "print('\\nTotal number of null values in Day_Since_CC_connect feature is : ', df['Day_Since_CC_connect'].isna().sum())\n",
    "print('\\nPercentage of null values in Day_Since_CC_connect feature is : ', df['Day_Since_CC_connect'].isna().mean()*100)\n",
    "print('\\nThe mean of Day_Since_CC_connect feature is : ', df['Day_Since_CC_connect'].mean())\n",
    "print('\\nThe median of Day_Since_CC_connect feature is : ', df['Day_Since_CC_connect'].median())\n",
    "print('\\nThe mode of Day_Since_CC_connect feature is : ', df['Day_Since_CC_connect'].mode())\n",
    "print('\\nOther statistical information on Day_Since_CC_connect feature : \\n')\n",
    "df['Day_Since_CC_connect'].describe()"
   ]
  },
  {
   "cell_type": "code",
   "execution_count": 343,
   "id": "33b385b0-6f0f-485b-ad30-2270be46de3e",
   "metadata": {
    "tags": []
   },
   "outputs": [
    {
     "name": "stdout",
     "output_type": "stream",
     "text": [
      "The median of Day_Since_CC_connect feature is :  3\n",
      "Replacing the null values in Day_Since_CC_connect feature with median : \n",
      "\n",
      "\n",
      "All the null values in the Day_Since_CC_connect are replaced successfully with median :\n",
      "\n",
      "Printing the value counts of the Day_Since_CC_connect variable to check whether the null values are replace or not : \n",
      "\n",
      "Day_Since_CC_connect\n",
      "0.0      964\n",
      "1.0     1256\n",
      "2.0     1574\n",
      "3.0     2174\n",
      "4.0      893\n",
      "5.0      479\n",
      "6.0      229\n",
      "7.0      911\n",
      "8.0     1169\n",
      "9.0      622\n",
      "10.0     339\n",
      "11.0     183\n",
      "12.0     146\n",
      "13.0     117\n",
      "14.0      74\n",
      "15.0      37\n",
      "16.0      26\n",
      "17.0      34\n",
      "18.0      26\n",
      "30.0       2\n",
      "31.0       2\n",
      "46.0       1\n",
      "47.0       2\n",
      "Name: count, dtype: int64\n",
      "\n",
      "The total number of null values in Day_Since_CC_connect feature after replacing with median :  0\n",
      "\n",
      "Data type of Day_Since_CC_connect feature after handling missing value is :  float64\n"
     ]
    }
   ],
   "source": [
    "# Replacing the missing values Day_Since_CC_connect feature in with Median\n",
    "\n",
    "print('The median of Day_Since_CC_connect feature is : ',int(df['Day_Since_CC_connect'].median()))\n",
    "\n",
    "print('Replacing the null values in Day_Since_CC_connect feature with median : \\n')\n",
    "df['Day_Since_CC_connect'].fillna(df['Day_Since_CC_connect'].median(), inplace=True)\n",
    "print('\\nAll the null values in the Day_Since_CC_connect are replaced successfully with median :')\n",
    "\n",
    "print('\\nPrinting the value counts of the Day_Since_CC_connect variable to check whether the null values are replace or not : \\n')\n",
    "print(df['Day_Since_CC_connect'].value_counts(dropna=False).sort_index())\n",
    "\n",
    "print('\\nThe total number of null values in Day_Since_CC_connect feature after replacing with median : ',df['Day_Since_CC_connect'].isna().sum())\n",
    "print('\\nData type of Day_Since_CC_connect feature after handling missing value is : ',df['Day_Since_CC_connect'].dtype)\n"
   ]
  },
  {
   "cell_type": "markdown",
   "id": "ae03e53a-2b29-4d1c-9f42-e5ace2a760f2",
   "metadata": {},
   "source": [
    "<b>Analyst Observation : </b>\n",
    "<p>\n",
    "</p>"
   ]
  },
  {
   "cell_type": "markdown",
   "id": "494b8700-507c-472e-a2e1-3a26ea3282f5",
   "metadata": {
    "tags": []
   },
   "source": [
    "### Outlier Detection and Treatment for Day_Since_CC_connect Feature"
   ]
  },
  {
   "cell_type": "code",
   "execution_count": 344,
   "id": "6613f202-c125-4e13-bdc5-928df68e31bb",
   "metadata": {
    "tags": []
   },
   "outputs": [
    {
     "data": {
      "image/png": "[encoded data removed]",
      "text/plain": [
       "<Figure size 640x480 with 1 Axes>"
      ]
     },
     "metadata": {},
     "output_type": "display_data"
    }
   ],
   "source": [
    "plt.clf()\n",
    "df.boxplot(column='Day_Since_CC_connect').plot()\n",
    "plt.show()"
   ]
  },
  {
   "cell_type": "code",
   "execution_count": 345,
   "id": "43cba965-150b-4c61-a5f5-3c79445c41a6",
   "metadata": {
    "tags": []
   },
   "outputs": [
    {
     "name": "stdout",
     "output_type": "stream",
     "text": [
      "The Maximum Cap Value of Day_Since_CC_connect feature in the boxplot is :  14.0 \n",
      "\n",
      "Displaying the Max Cap outliers boolean array :\n",
      "\n",
      "[False False False False False False False False False  True False False\n",
      " False False False  True  True False  True  True  True  True  True]\n",
      "\n",
      "The Max cap outliers in the Day_Since_CC_connect feature are : \n",
      "\n",
      "[15. 17. 16. 30. 46. 18. 31. 47.]\n",
      "\n",
      "Replacing all the outliers with median \n",
      "\n",
      "Printing the value counts of Day_Since_CC_connect feature after replacing the outliers with median\n",
      "Day_Since_CC_connect\n",
      "0.0      964\n",
      "1.0     1256\n",
      "2.0     1574\n",
      "3.0     2304\n",
      "4.0      893\n",
      "5.0      479\n",
      "6.0      229\n",
      "7.0      911\n",
      "8.0     1169\n",
      "9.0      622\n",
      "10.0     339\n",
      "11.0     183\n",
      "12.0     146\n",
      "13.0     117\n",
      "14.0      74\n",
      "Name: count, dtype: int64\n",
      "\n",
      "All the outlier in the Day_Since_CC_connect feature are replaced successfully\n"
     ]
    },
    {
     "data": {
      "image/png": "[encoded data removed]",
      "text/plain": [
       "<Figure size 640x480 with 1 Axes>"
      ]
     },
     "metadata": {},
     "output_type": "display_data"
    }
   ],
   "source": [
    "# As per boxplot there are outliers in the Day_Since_CC_connect feature which needs to be handled. \n",
    "# Few outliers are observed above the upper cap \n",
    "# In this section the outliers above the upper cap with upper cap\n",
    "\n",
    "# Computing the max cap value from the boxplot\n",
    "BoxPlot = df.boxplot(column='Day_Since_CC_connect', return_type='dict')\n",
    "MaxCapValue = BoxPlot['caps'][1].get_ydata()[0]\n",
    "print('The Maximum Cap Value of Day_Since_CC_connect feature in the boxplot is : ',MaxCapValue, '\\n' )\n",
    "\n",
    "#Computing the list of outliers above the maxcap\n",
    "OutlierBoolean = df['Day_Since_CC_connect'].unique() > MaxCapValue\n",
    "print('Displaying the Max Cap outliers boolean array :\\n')\n",
    "print(OutlierBoolean)\n",
    "OutliersArr = df['Day_Since_CC_connect'].unique()[OutlierBoolean]\n",
    "print('\\nThe Max cap outliers in the Day_Since_CC_connect feature are : \\n')\n",
    "print(OutliersArr)\n",
    "\n",
    "#Replacing outliers with maxcap value\n",
    "print('\\nReplacing all the outliers with median \\n')\n",
    "df['Day_Since_CC_connect'].replace(list(OutliersArr), df['Day_Since_CC_connect'].median(), inplace=True)\n",
    "print('Printing the value counts of Day_Since_CC_connect feature after replacing the outliers with median')\n",
    "print(df['Day_Since_CC_connect'].value_counts(dropna=False).sort_index())\n",
    "print('\\nAll the outlier in the Day_Since_CC_connect feature are replaced successfully')\n",
    "\n",
    "#Deleting all the temporary variables created during outlier detection and treatment\n",
    "del OutliersArr\n",
    "del OutlierBoolean\n",
    "del MaxCapValue\n",
    "del BoxPlot"
   ]
  },
  {
   "cell_type": "markdown",
   "id": "a082a92b-b479-4103-a1d0-7467eb6aaf2a",
   "metadata": {},
   "source": [
    "<b>Analyst Observation : </b>\n",
    "<p>\n",
    "</p>"
   ]
  },
  {
   "cell_type": "markdown",
   "id": "98c42c98-2c72-4c89-8155-cc9edceea0c7",
   "metadata": {
    "tags": []
   },
   "source": [
    "## Data Cleaning of cashback Feature"
   ]
  },
  {
   "cell_type": "markdown",
   "id": "99791e38-c457-4cdc-8d7b-45e915a0bbb7",
   "metadata": {
    "tags": []
   },
   "source": [
    "### Removing Irrelevant data from cashback Feature"
   ]
  },
  {
   "cell_type": "code",
   "execution_count": 346,
   "id": "e34fc45f-da7e-4094-9b1b-339774f189e6",
   "metadata": {
    "tags": []
   },
   "outputs": [
    {
     "name": "stdout",
     "output_type": "stream",
     "text": [
      "Printing the value counts of cashback feature: \n",
      "\n",
      "cashback\n",
      "NaN       471\n",
      "155.62     10\n",
      "149.68      9\n",
      "154.73      9\n",
      "145.08      9\n",
      "         ... \n",
      "131.55      1\n",
      "245.64      1\n",
      "130.78      1\n",
      "299.72      1\n",
      "191.42      1\n",
      "Name: count, Length: 5694, dtype: int64\n",
      "\n",
      "Value Counts of cashback feature printed successfully\n"
     ]
    }
   ],
   "source": [
    "# Checking unique values with their frequencies in the cashback Feature\n",
    "print('Printing the value counts of cashback feature: \\n')\n",
    "print(df['cashback'].value_counts(dropna=False))\n",
    "print('\\nValue Counts of cashback feature printed successfully')"
   ]
  },
  {
   "cell_type": "code",
   "execution_count": 347,
   "id": "8264ca92-eab0-4488-bc56-ee5aa659487c",
   "metadata": {
    "tags": []
   },
   "outputs": [
    {
     "name": "stdout",
     "output_type": "stream",
     "text": [
      "Replacing the irrelevant data '$' with None : \n",
      "\n",
      "\n",
      "Replaced the irrelevant data '$' with None successfully:\n",
      "Printing the value counts of cashback feature after successfully replacing the irrelevant data: \n",
      "\n",
      "cashback\n",
      "NaN       473\n",
      "155.62     10\n",
      "145.08      9\n",
      "154.73      9\n",
      "149.68      9\n",
      "         ... \n",
      "131.55      1\n",
      "245.64      1\n",
      "130.78      1\n",
      "299.72      1\n",
      "191.42      1\n",
      "Name: count, Length: 5693, dtype: int64\n"
     ]
    }
   ],
   "source": [
    "# Replacing the irrelevant data '$' with None\n",
    "print(\"Replacing the irrelevant data '$' with None : \\n\")\n",
    "df['cashback'].replace('$', np.NaN, inplace=True)\n",
    "print(\"\\nReplaced the irrelevant data '$' with None successfully:\")\n",
    "\n",
    "print('Printing the value counts of cashback feature after successfully replacing the irrelevant data: \\n')\n",
    "print(df['cashback'].value_counts(dropna=False))"
   ]
  },
  {
   "cell_type": "markdown",
   "id": "4d151d52-1f6d-4ae0-80ae-bfbb48225fb6",
   "metadata": {},
   "source": [
    "<b>Analyst Observation : </b>\n",
    "<p>\n",
    "</p>"
   ]
  },
  {
   "cell_type": "markdown",
   "id": "ba81c8f5-ceaa-45df-a6da-38339ba323c2",
   "metadata": {},
   "source": [
    "### Missing Value analysis and Treatment for cashback Feature"
   ]
  },
  {
   "cell_type": "code",
   "execution_count": 348,
   "id": "962e65ee-8f1c-4aba-9628-21016998b556",
   "metadata": {
    "tags": []
   },
   "outputs": [
    {
     "name": "stdout",
     "output_type": "stream",
     "text": [
      "\n",
      "Total number of null values in cashback feature is :  473\n",
      "\n",
      "Percentage of null values in cashback feature is :  4.200710479573712\n",
      "\n",
      "The mean of cashback feature is :  196.23636970427364\n",
      "\n",
      "The median of cashback feature is :  165.25\n",
      "\n",
      "The mode of cashback feature is :  0    155.62\n",
      "Name: cashback, dtype: float64\n",
      "\n",
      "Other statistical information on cashback feature : \n",
      "\n"
     ]
    },
    {
     "data": {
      "text/plain": [
       "count    10787.000000\n",
       "mean       196.236370\n",
       "std        178.660514\n",
       "min          0.000000\n",
       "25%        147.210000\n",
       "50%        165.250000\n",
       "75%        200.010000\n",
       "max       1997.000000\n",
       "Name: cashback, dtype: float64"
      ]
     },
     "execution_count": 348,
     "metadata": {},
     "output_type": "execute_result"
    }
   ],
   "source": [
    "#Gathering statistical information on cashback feature\n",
    "\n",
    "print('\\nTotal number of null values in cashback feature is : ', df['cashback'].isna().sum())\n",
    "print('\\nPercentage of null values in cashback feature is : ', df['cashback'].isna().mean()*100)\n",
    "print('\\nThe mean of cashback feature is : ', df['cashback'].mean())\n",
    "print('\\nThe median of cashback feature is : ', df['cashback'].median())\n",
    "print('\\nThe mode of cashback feature is : ', df['cashback'].mode())\n",
    "print('\\nOther statistical information on cashback feature : \\n')\n",
    "df['cashback'].describe()"
   ]
  },
  {
   "cell_type": "code",
   "execution_count": 349,
   "id": "add5e2bf-c435-45ab-a3a2-01407bae9b12",
   "metadata": {
    "tags": []
   },
   "outputs": [
    {
     "data": {
      "image/png": "[encoded data removed]",
      "text/plain": [
       "<Figure size 640x480 with 1 Axes>"
      ]
     },
     "metadata": {},
     "output_type": "display_data"
    }
   ],
   "source": [
    "plt.clf()\n",
    "df.boxplot(column='cashback').plot()\n",
    "plt.show()"
   ]
  },
  {
   "cell_type": "code",
   "execution_count": 350,
   "id": "8f81c964-2531-4b40-9030-2c00c2c5d550",
   "metadata": {
    "tags": []
   },
   "outputs": [
    {
     "name": "stdout",
     "output_type": "stream",
     "text": [
      "The Median of the cashback feature is before replacing outliers with median :  165.25 \n",
      "\n",
      "The frequency of median value is :  5\n",
      "Printing the value counts of the cashback variable to check whether the null values are replace or not : \n",
      "cashback\n",
      "0.0       4\n",
      "2.0       1\n",
      "3.0       1\n",
      "4.0       1\n",
      "5.0       1\n",
      "         ..\n",
      "1984.0    1\n",
      "1985.0    1\n",
      "1991.0    1\n",
      "1992.0    1\n",
      "1997.0    1\n",
      "Name: count, Length: 5692, dtype: int64\n",
      "\n",
      "The frequency of median value after replacing the outliers with median is :  478\n",
      "Data type of cashback feature after handling missing value is :  float64\n"
     ]
    }
   ],
   "source": [
    "# Cash back is a continuous discrete variable and has outliers\n",
    "# Hence replacing the cashback feature with Median\n",
    "\n",
    "medianvalue = df['cashback'].median()\n",
    "print('The Median of the cashback feature is before replacing outliers with median : ',df['cashback'].median(),'\\n')\n",
    "print('The frequency of median value is : ', df['cashback'].value_counts(dropna=False)[medianvalue])\n",
    "df['cashback'].fillna(df['cashback'].median(),inplace=True)\n",
    "print('Printing the value counts of the cashback variable to check whether the null values are replace or not : ')\n",
    "print(df['cashback'].value_counts(dropna=False).sort_index())\n",
    "print('\\nThe frequency of median value after replacing the outliers with median is : ', df['cashback'].value_counts(dropna=False)[medianvalue])\n",
    "print('Data type of cashback feature after handling missing value is : ', df['cashback'].dtype)"
   ]
  },
  {
   "cell_type": "markdown",
   "id": "a621b5b3-7ab5-4d08-a0c6-336ac6b25087",
   "metadata": {},
   "source": [
    "<b>Analyst Observation : </b>\n",
    "<p>\n",
    "</p>"
   ]
  },
  {
   "cell_type": "markdown",
   "id": "2e199219-e224-482c-81b3-90d236332045",
   "metadata": {},
   "source": [
    "### Outlier Detection and Treatment for cashback Feature"
   ]
  },
  {
   "cell_type": "code",
   "execution_count": 351,
   "id": "68de910e-c00f-4398-aa5d-7da4c1a9f55b",
   "metadata": {},
   "outputs": [
    {
     "name": "stdout",
     "output_type": "stream",
     "text": [
      "Printing the top 5 records of the data frame\n"
     ]
    },
    {
     "data": {
      "text/html": [
       "<div>\n",
       "<style scoped>\n",
       "    .dataframe tbody tr th:only-of-type {\n",
       "        vertical-align: middle;\n",
       "    }\n",
       "\n",
       "    .dataframe tbody tr th {\n",
       "        vertical-align: top;\n",
       "    }\n",
       "\n",
       "    .dataframe thead th {\n",
       "        text-align: right;\n",
       "    }\n",
       "</style>\n",
       "<table border=\"1\" class=\"dataframe\">\n",
       "  <thead>\n",
       "    <tr style=\"text-align: right;\">\n",
       "      <th></th>\n",
       "      <th>AccountID</th>\n",
       "      <th>Churn</th>\n",
       "      <th>Tenure</th>\n",
       "      <th>City_Tier</th>\n",
       "      <th>CC_Contacted_LY</th>\n",
       "      <th>Payment</th>\n",
       "      <th>Gender</th>\n",
       "      <th>Service_Score</th>\n",
       "      <th>Account_user_count</th>\n",
       "      <th>account_segment</th>\n",
       "      <th>CC_Agent_Score</th>\n",
       "      <th>Marital_Status</th>\n",
       "      <th>rev_per_month</th>\n",
       "      <th>Complain_ly</th>\n",
       "      <th>rev_growth_yoy</th>\n",
       "      <th>coupon_used_for_payment</th>\n",
       "      <th>Day_Since_CC_connect</th>\n",
       "      <th>cashback</th>\n",
       "      <th>Login_device</th>\n",
       "    </tr>\n",
       "  </thead>\n",
       "  <tbody>\n",
       "    <tr>\n",
       "      <th>0</th>\n",
       "      <td>20000</td>\n",
       "      <td>1</td>\n",
       "      <td>4</td>\n",
       "      <td>3.0</td>\n",
       "      <td>6.0</td>\n",
       "      <td>Debit Card</td>\n",
       "      <td>Female</td>\n",
       "      <td>3.0</td>\n",
       "      <td>3</td>\n",
       "      <td>Super</td>\n",
       "      <td>2.0</td>\n",
       "      <td>Single</td>\n",
       "      <td>9.0</td>\n",
       "      <td>1.0</td>\n",
       "      <td>11</td>\n",
       "      <td>1.0</td>\n",
       "      <td>5.0</td>\n",
       "      <td>159.93</td>\n",
       "      <td>Mobile</td>\n",
       "    </tr>\n",
       "    <tr>\n",
       "      <th>1</th>\n",
       "      <td>20001</td>\n",
       "      <td>1</td>\n",
       "      <td>0</td>\n",
       "      <td>1.0</td>\n",
       "      <td>8.0</td>\n",
       "      <td>UPI</td>\n",
       "      <td>Male</td>\n",
       "      <td>3.0</td>\n",
       "      <td>4</td>\n",
       "      <td>Regular Plus</td>\n",
       "      <td>3.0</td>\n",
       "      <td>Single</td>\n",
       "      <td>7.0</td>\n",
       "      <td>1.0</td>\n",
       "      <td>15</td>\n",
       "      <td>0.0</td>\n",
       "      <td>0.0</td>\n",
       "      <td>120.90</td>\n",
       "      <td>Mobile</td>\n",
       "    </tr>\n",
       "    <tr>\n",
       "      <th>2</th>\n",
       "      <td>20002</td>\n",
       "      <td>1</td>\n",
       "      <td>0</td>\n",
       "      <td>1.0</td>\n",
       "      <td>30.0</td>\n",
       "      <td>Debit Card</td>\n",
       "      <td>Male</td>\n",
       "      <td>2.0</td>\n",
       "      <td>4</td>\n",
       "      <td>Regular Plus</td>\n",
       "      <td>3.0</td>\n",
       "      <td>Single</td>\n",
       "      <td>6.0</td>\n",
       "      <td>1.0</td>\n",
       "      <td>14</td>\n",
       "      <td>0.0</td>\n",
       "      <td>3.0</td>\n",
       "      <td>165.25</td>\n",
       "      <td>Mobile</td>\n",
       "    </tr>\n",
       "    <tr>\n",
       "      <th>3</th>\n",
       "      <td>20003</td>\n",
       "      <td>1</td>\n",
       "      <td>0</td>\n",
       "      <td>3.0</td>\n",
       "      <td>15.0</td>\n",
       "      <td>Debit Card</td>\n",
       "      <td>Male</td>\n",
       "      <td>2.0</td>\n",
       "      <td>4</td>\n",
       "      <td>Super</td>\n",
       "      <td>5.0</td>\n",
       "      <td>Single</td>\n",
       "      <td>8.0</td>\n",
       "      <td>0.0</td>\n",
       "      <td>23</td>\n",
       "      <td>0.0</td>\n",
       "      <td>3.0</td>\n",
       "      <td>134.07</td>\n",
       "      <td>Mobile</td>\n",
       "    </tr>\n",
       "    <tr>\n",
       "      <th>4</th>\n",
       "      <td>20004</td>\n",
       "      <td>1</td>\n",
       "      <td>0</td>\n",
       "      <td>1.0</td>\n",
       "      <td>12.0</td>\n",
       "      <td>Credit Card</td>\n",
       "      <td>Male</td>\n",
       "      <td>2.0</td>\n",
       "      <td>3</td>\n",
       "      <td>Regular Plus</td>\n",
       "      <td>5.0</td>\n",
       "      <td>Single</td>\n",
       "      <td>3.0</td>\n",
       "      <td>0.0</td>\n",
       "      <td>11</td>\n",
       "      <td>1.0</td>\n",
       "      <td>3.0</td>\n",
       "      <td>129.60</td>\n",
       "      <td>Mobile</td>\n",
       "    </tr>\n",
       "  </tbody>\n",
       "</table>\n",
       "</div>"
      ],
      "text/plain": [
       "   AccountID  Churn  Tenure  City_Tier  CC_Contacted_LY      Payment  Gender  \\\n",
       "0      20000      1       4        3.0              6.0   Debit Card  Female   \n",
       "1      20001      1       0        1.0              8.0          UPI    Male   \n",
       "2      20002      1       0        1.0             30.0   Debit Card    Male   \n",
       "3      20003      1       0        3.0             15.0   Debit Card    Male   \n",
       "4      20004      1       0        1.0             12.0  Credit Card    Male   \n",
       "\n",
       "   Service_Score  Account_user_count account_segment  CC_Agent_Score  \\\n",
       "0            3.0                   3           Super             2.0   \n",
       "1            3.0                   4    Regular Plus             3.0   \n",
       "2            2.0                   4    Regular Plus             3.0   \n",
       "3            2.0                   4           Super             5.0   \n",
       "4            2.0                   3    Regular Plus             5.0   \n",
       "\n",
       "  Marital_Status  rev_per_month  Complain_ly  rev_growth_yoy  \\\n",
       "0         Single            9.0          1.0              11   \n",
       "1         Single            7.0          1.0              15   \n",
       "2         Single            6.0          1.0              14   \n",
       "3         Single            8.0          0.0              23   \n",
       "4         Single            3.0          0.0              11   \n",
       "\n",
       "   coupon_used_for_payment  Day_Since_CC_connect  cashback Login_device  \n",
       "0                      1.0                   5.0    159.93       Mobile  \n",
       "1                      0.0                   0.0    120.90       Mobile  \n",
       "2                      0.0                   3.0    165.25       Mobile  \n",
       "3                      0.0                   3.0    134.07       Mobile  \n",
       "4                      1.0                   3.0    129.60       Mobile  "
      ]
     },
     "execution_count": 351,
     "metadata": {},
     "output_type": "execute_result"
    }
   ],
   "source": [
    "#Checking the top 5 records in the given data\n",
    "pd.options.display.max_columns = None\n",
    "print('Printing the top 5 records of the data frame')\n",
    "df.head(5)"
   ]
  },
  {
   "cell_type": "code",
   "execution_count": 352,
   "id": "21e1d596-f7d0-4191-ac7d-1e4864bcc36a",
   "metadata": {
    "tags": []
   },
   "outputs": [
    {
     "name": "stdout",
     "output_type": "stream",
     "text": [
      "The Maximum Cap Value of cashback feature in the boxplot is :  271.36 \n",
      "\n",
      "The Minimum Cap Value of cashback feature in the boxplot is :  81.0 \n",
      "\n",
      "Displaying the cashback outliers boolean array :\n",
      "\n",
      "[False False False ... False False False]\n",
      "\n",
      "The outliers in the cashback feature are : \n",
      "\n",
      "[ 295.45 1974.    299.26  290.33  287.22  299.99  292.32  295.17  290.68\n",
      " 1955.    294.36  290.45  291.44  275.84  286.65 1813.    292.72  283.\n",
      " 1862.    294.06  291.97 1982.    295.66  280.41  278.61  295.02  282.\n",
      "  295.13  291.41  291.89  298.59  284.3   276.39  292.46  271.59  279.24\n",
      "  274.44  273.99  294.19 1840.    283.03  299.73  298.45  276.5   292.37\n",
      "  296.27  276.65  274.65  296.26  299.43  286.06 1920.    278.56  290.81\n",
      "  277.79  297.4   287.11  282.65  282.13  288.24  287.89  298.47 1908.\n",
      "  291.9   280.61 1865.   1945.    291.87  297.17  273.28  297.01 1843.\n",
      "  295.86  293.31  296.13  275.67 1803.    290.49  296.58 1844.    274.26\n",
      "  276.03  290.38  293.28  293.92  296.65  271.74  278.75  291.61  296.36\n",
      " 1894.    294.31  288.8   290.94 1917.    281.72  295.37 1992.   1807.\n",
      "  292.02 1912.   1985.   1896.   1983.   1943.   1918.    271.69 1967.\n",
      " 1944.    298.33 1921.    320.45  324.26  315.33  312.22  324.99  292.92\n",
      "  317.32  320.17  285.64  315.68 1931.    317.02  319.36  293.72  315.45\n",
      "  316.44  300.84  311.65 1907.    285.15  295.68  317.72  308.    284.92\n",
      " 1890.    291.59  319.06  316.97  290.55  320.66  305.41  295.46  303.61\n",
      "  293.35  286.84  290.95  320.02  307.   1804.    279.02 1923.   1916.\n",
      "  273.14  316.41  293.56  323.59  309.3   301.39  292.52  317.46  288.07\n",
      "  304.24 1826.    295.99  273.52  299.44  298.99  319.19  308.03  324.73\n",
      "  323.45  301.5   317.37  292.56  301.65  293.85  299.65  321.26  324.43\n",
      "  311.06  295.48  303.56  315.81  302.79  322.4   312.11  307.65  286.24\n",
      "  307.13  313.24  312.89  323.47  316.9   305.61  296.23  293.8   316.87\n",
      "  322.17  292.99  322.01  272.32 1971.    296.69  290.98 1839.    285.32\n",
      "  288.28  291.06  289.37  320.86  318.31  321.13  315.49  321.58  277.02\n",
      "  289.13  301.03  284.72  278.79  292.04 1965.    323.33  315.38 1928.\n",
      "  318.28  282.87  318.92  321.65  293.23  296.74  303.75  316.61  321.36\n",
      "  319.31  313.8  1997.    279.27  315.94  314.47 1878.    312.4   272.56\n",
      "  313.44  306.72  298.28  294.59  320.37 1833.    296.81 1835.   1877.\n",
      " 1913.   1984.    320.13  316.89 1879.    296.59 1934.   1991.    321.27\n",
      " 1827.   1954.   1869.    289.22 1964.    295.07  300.67 1953.   1978.\n",
      " 1958.    287.91 1914.   1850.   1902.    297.45 1888.    305.26  296.33\n",
      "  291.22  304.99  297.32  291.68  301.36  293.45  281.84  292.65  271.68\n",
      "  297.72  297.97  302.66  271.46  284.61  271.95  302.02  297.13  293.41\n",
      "  296.89 1824.    275.56  305.59 1951.    290.3   283.39  299.46  278.59\n",
      "  281.24  277.99  297.19  286.03  301.45  277.5   294.37  299.27  274.56\n",
      "  280.65  272.85  279.65  303.43  287.06  273.48  284.56  297.81  281.79\n",
      "  298.4   291.11  287.65  291.24  297.9   273.23  272.8   295.87  279.28\n",
      "  299.01  275.69  274.07  273.06  300.86  295.31  303.13  277.67  297.49\n",
      " 1946.    297.58  275.26  277.03 1937.    273.04  301.33  294.38  295.28\n",
      " 1829.    296.92  302.65  274.23  278.74  283.75  294.61 1972.    291.8\n",
      "  292.94  296.47 1853.    293.4   290.44  286.72  274.28  275.81  302.26\n",
      "  294.33  303.99 1895.   1812.    296.68  297.02  298.36  296.44  282.84\n",
      " 1858.    276.68  299.72  290.    292.97  272.55  283.41  277.46  281.61\n",
      "  275.35  284.    273.27  300.13  295.41  295.89  271.56  281.39 1961.\n",
      "  294.46  280.24  278.44  280.99  300.45  282.5   296.37  297.27  281.65\n",
      "  301.26  301.43  290.06  277.48  280.56  292.81 1838.    284.79  300.4\n",
      "  294.11  284.65  284.13  292.89  299.47 1800.    271.8   285.61  298.87\n",
      "  303.17  271.99  301.01  274.69 1963.    272.98 1911.    299.13  279.67\n",
      "  294.49 1903.    276.26  282.03  302.33  292.38  297.28  297.92  297.65\n",
      "  281.75  298.61  303.36  298.31  295.8   326.45  331.26  319.33  313.22\n",
      "  329.99  299.92  327.17  287.64  322.68  323.02  322.36  295.72  322.45\n",
      "  317.44  306.84  315.65  287.15  315.    286.92  297.59  325.06  322.97\n",
      "  292.55  307.41  294.35  287.84  294.95  322.02  314.    286.02  324.13\n",
      "  277.14  319.41  322.89  296.56  312.3   303.39  296.52  319.46  301.59\n",
      "  294.07  311.24  280.52  305.44  300.99  323.19 1919.    310.03 1817.\n",
      "  326.73  324.45  306.5  1880.    327.27  298.56  297.85  328.26  325.43\n",
      "  317.06  317.81  324.4   313.11  310.65  293.24  310.13  318.24  315.89\n",
      "  329.47  323.9   308.61  302.23  297.8   304.61  323.87  326.17  301.28\n",
      "  327.01  273.32  301.69  294.98  286.32  293.06  273.11  325.31  293.13\n",
      "  305.03 1979.    287.72  294.04  321.38 1941.    322.28  283.87  323.92\n",
      "  323.65  299.23  309.75  318.61  326.36  322.31  317.8   281.27  319.94\n",
      "  317.47  319.4   273.56 1957.    310.72  302.28  322.37  299.81  329.26\n",
      "  320.33  321.32  290.64  319.02  300.72  319.45  321.44  316.65  290.15\n",
      "  299.68  322.72  291.92  309.41  297.46  299.35 1925.    293.84  295.95\n",
      "  294.27  283.02  327.13  279.14  323.41  300.56  326.59  314.3   298.52\n",
      "  320.46  305.24  278.52 1866.    315.03  330.73  329.45  322.27  294.56\n",
      "  303.65  325.26  299.48  307.56  305.79  327.4   312.65  315.24 1929.\n",
      "  328.47  320.9   307.61  299.8   310.61  317.87  272.26  300.28  328.01\n",
      "  275.32  300.69  291.98  299.07  287.32  294.28  292.06  291.37  324.86\n",
      "  328.13  306.67  320.49  325.58  278.02  294.13  304.26  303.03  290.72\n",
      " 1882.    293.04  322.38  325.28  293.91  322.92  326.65  298.23  299.74\n",
      "  304.75  316.8 ]\n",
      "\n",
      "Replacing all the outliers with maxcap value \n",
      "\n",
      "Printing the value counts of cashback feature after replacing the outliers with maxcap value\n",
      "cashback\n",
      "0.00        4\n",
      "2.00        1\n",
      "3.00        1\n",
      "4.00        1\n",
      "5.00        1\n",
      "         ... \n",
      "270.92      1\n",
      "270.99      2\n",
      "271.18      1\n",
      "271.23      3\n",
      "271.36    967\n",
      "Name: count, Length: 5051, dtype: int64\n",
      "Displaying the cashback mincap outliers boolean array :\n",
      "\n",
      "[False False False ... False False False]\n",
      "\n",
      "The mincap outliers in the cashback feature are : \n",
      "\n",
      "[ 0. 56. 25. 37.  2.  5.  4.  3. 13. 57. 30. 28. 41.]\n",
      "\n",
      "Replacing all the outliers with mincap value \n",
      "\n",
      "Printing the value counts of cashback feature after replacing the outliers with mincap value\n",
      "cashback\n",
      "81.00      22\n",
      "110.09      2\n",
      "110.51      2\n",
      "110.52      2\n",
      "110.81      3\n",
      "         ... \n",
      "270.92      1\n",
      "270.99      2\n",
      "271.18      1\n",
      "271.23      3\n",
      "271.36    967\n",
      "Name: count, Length: 5038, dtype: int64\n",
      "\n",
      "All the outlier in the cashback feature are replaced successfully\n"
     ]
    },
    {
     "data": {
      "image/png": "[encoded data removed]",
      "text/plain": [
       "<Figure size 640x480 with 1 Axes>"
      ]
     },
     "metadata": {},
     "output_type": "display_data"
    }
   ],
   "source": [
    "# There are outliers in cashback and they have to be handled\n",
    "# Computing the max cap and min cap value from the boxplot\n",
    "\n",
    "BoxPlot = df.boxplot(column='cashback', return_type='dict')\n",
    "MaxCapValue = BoxPlot['caps'][1].get_ydata()[0]\n",
    "MinCapValue = BoxPlot['caps'][0].get_ydata()[0]\n",
    "print('The Maximum Cap Value of cashback feature in the boxplot is : ',MaxCapValue, '\\n' )\n",
    "print('The Minimum Cap Value of cashback feature in the boxplot is : ',MinCapValue, '\\n' )\n",
    "\n",
    "#Computing the list of outliers above the upperlimit\n",
    "OutlierBoolean = df['cashback'].unique() > MaxCapValue\n",
    "print('Displaying the cashback outliers boolean array :\\n')\n",
    "print(OutlierBoolean)\n",
    "OutliersArr = df['cashback'].unique()[OutlierBoolean]\n",
    "print('\\nThe outliers in the cashback feature are : \\n')\n",
    "print(OutliersArr)\n",
    "\n",
    "#Replacing outliers above the upperlimit with maxcap value\n",
    "print('\\nReplacing all the outliers with maxcap value \\n')\n",
    "df['cashback'].replace(list(OutliersArr), MaxCapValue, inplace=True)\n",
    "print('Printing the value counts of cashback feature after replacing the outliers with maxcap value')\n",
    "print(df['cashback'].value_counts(dropna=False).sort_index())\n",
    "\n",
    "#Computing the list of outliers below the lowerlimit\n",
    "MinCapOutlierBoolean = df['cashback'].unique() < MinCapValue\n",
    "print('Displaying the cashback mincap outliers boolean array :\\n')\n",
    "print(MinCapOutlierBoolean)\n",
    "MinCapOutliersArr = df['cashback'].unique()[MinCapOutlierBoolean]\n",
    "print('\\nThe mincap outliers in the cashback feature are : \\n')\n",
    "print(MinCapOutliersArr)\n",
    "\n",
    "#Replacing outliers below the upperlimit with mincap value\n",
    "print('\\nReplacing all the outliers with mincap value \\n')\n",
    "df['cashback'].replace(list(MinCapOutliersArr), MinCapValue, inplace=True)\n",
    "print('Printing the value counts of cashback feature after replacing the outliers with mincap value')\n",
    "print(df['cashback'].value_counts(dropna=False).sort_index())\n",
    "\n",
    "print('\\nAll the outlier in the cashback feature are replaced successfully')\n",
    "\n",
    "\n",
    "#Deleting all the temporary variables created during outlier detection and treatment\n",
    "del OutliersArr\n",
    "del MinCapOutliersArr\n",
    "del OutlierBoolean\n",
    "del MinCapOutlierBoolean\n",
    "del MaxCapValue\n",
    "del MinCapValue\n",
    "del BoxPlot"
   ]
  },
  {
   "cell_type": "code",
   "execution_count": 353,
   "id": "e84cbb06-38db-4a04-93e0-43cf9e6638f1",
   "metadata": {
    "tags": []
   },
   "outputs": [
    {
     "data": {
      "image/png": "[encoded data removed]",
      "text/plain": [
       "<Figure size 640x480 with 1 Axes>"
      ]
     },
     "metadata": {},
     "output_type": "display_data"
    }
   ],
   "source": [
    "#Generating boxplot after replacing outliers\n",
    "\n",
    "df.boxplot(column='cashback').plot()\n",
    "plt.show()"
   ]
  },
  {
   "cell_type": "markdown",
   "id": "e36eb61d-2733-4f89-aecb-bcf97fc3774f",
   "metadata": {},
   "source": [
    "<b>Analyst Observation : </b>\n",
    "<p>\n",
    "</p>"
   ]
  },
  {
   "cell_type": "markdown",
   "id": "eee78244-dd5c-40cb-913d-1524115ff729",
   "metadata": {
    "tags": []
   },
   "source": [
    "## Data Cleaning of Login_device Feature"
   ]
  },
  {
   "cell_type": "markdown",
   "id": "ba67fea2-0f80-40f2-8b34-2b2bae1c6d8e",
   "metadata": {},
   "source": [
    "### Removing Irrelevant data from Login_device Feature"
   ]
  },
  {
   "cell_type": "code",
   "execution_count": 354,
   "id": "3a3ebae0-cae8-48f5-b170-ff547c96419d",
   "metadata": {
    "tags": []
   },
   "outputs": [
    {
     "name": "stdout",
     "output_type": "stream",
     "text": [
      "Printing the value counts of Login_device feature: \n",
      "\n",
      "Login_device\n",
      "Mobile      7482\n",
      "Computer    3018\n",
      "&&&&         539\n",
      "NaN          221\n",
      "Name: count, dtype: int64\n",
      "\n",
      "Value Counts of Login_device feature printed successfully\n"
     ]
    }
   ],
   "source": [
    "# Checking unique values with their frequencies in the Login_device Feature\n",
    "print('Printing the value counts of Login_device feature: \\n')\n",
    "print(df['Login_device'].value_counts(dropna=False))\n",
    "print('\\nValue Counts of Login_device feature printed successfully')"
   ]
  },
  {
   "cell_type": "code",
   "execution_count": 355,
   "id": "93d5545b-1d2e-4eca-a99f-ccc621c1c933",
   "metadata": {
    "tags": []
   },
   "outputs": [
    {
     "name": "stdout",
     "output_type": "stream",
     "text": [
      "Replacing &&&& with None in the Login_device feature :\n",
      "\n",
      "Printing the value counts of Login_device feature after replacing &&&& with None: \n",
      "\n",
      "Login_device\n",
      "Mobile      7482\n",
      "Computer    3018\n",
      "None         539\n",
      "NaN          221\n",
      "Name: count, dtype: int64\n",
      "\n",
      "Total number of null values in the Login_device feature is :  760\n"
     ]
    }
   ],
   "source": [
    "#Replacing &&&& with None in the Login_device feature\n",
    "print('Replacing &&&& with None in the Login_device feature :\\n')\n",
    "df['Login_device'].replace('&&&&', None, inplace=True)\n",
    "print('Printing the value counts of Login_device feature after replacing &&&& with None: \\n')\n",
    "print(df['Login_device'].value_counts(dropna=False))\n",
    "print('\\nTotal number of null values in the Login_device feature is : ',df['Login_device'].isna().sum())"
   ]
  },
  {
   "cell_type": "markdown",
   "id": "ce6d6ee6-5022-4074-becb-39523845dc42",
   "metadata": {},
   "source": [
    "<b>Analyst Observation : </b>\n",
    "<p>\n",
    "    <ol>\n",
    "        <li>Observed that there is an irrelevant value '&&&&' in the Login_devices feature. Hence replaced the irrelevant value with None</li>\n",
    "        <li>Thus the irrelevant data is treated in the Login_devices feature</li>\n",
    "    </ol>\n",
    "</p>"
   ]
  },
  {
   "cell_type": "markdown",
   "id": "997ae875-5221-4bac-afd6-b2a98272a4ac",
   "metadata": {},
   "source": [
    "### Missing Value analysis and Treatment for Login_device Feature"
   ]
  },
  {
   "cell_type": "code",
   "execution_count": 356,
   "id": "326dce72-55c6-43db-9d94-a664f47db093",
   "metadata": {
    "tags": []
   },
   "outputs": [
    {
     "name": "stdout",
     "output_type": "stream",
     "text": [
      "Total number of null values in the Login_device feature are :  760\n",
      "The mode of the Login_device feature is  Mobile\n",
      "Replacing the null values in the Login_device with mode\n",
      "\n",
      "Null values in Login_device Feature replaced successfully\n",
      "\n",
      "Printing the value counts of Login_device feature after replacing the null values with mode : \n",
      "\n",
      "Login_device\n",
      "Computer    3018\n",
      "Mobile      8242\n",
      "Name: count, dtype: int64\n",
      "\n",
      "Total number of null values in the Login_device feature after replacing the null values with mode is :  0\n"
     ]
    }
   ],
   "source": [
    "# Login_device is a categorical variable, hence replacing the missing values with mode\n",
    "\n",
    "print('Total number of null values in the Login_device feature are : ',df['Login_device'].isna().sum())\n",
    "print('The mode of the Login_device feature is ',df['Login_device'].mode()[0])\n",
    "print('Replacing the null values in the Login_device with mode\\n')\n",
    "df['Login_device'].fillna(df['Login_device'].mode()[0],inplace=True)\n",
    "print('Null values in Login_device Feature replaced successfully')\n",
    "print('\\nPrinting the value counts of Login_device feature after replacing the null values with mode : \\n')\n",
    "print(df['Login_device'].value_counts(dropna=False).sort_index())\n",
    "print('\\nTotal number of null values in the Login_device feature after replacing the null values with mode is : ',df['Login_device'].isna().sum())"
   ]
  },
  {
   "cell_type": "markdown",
   "id": "30383b77-b797-42c6-b44e-98e7f26e72d5",
   "metadata": {},
   "source": [
    "<b>Analyst Observation : </b>\n",
    "<p>\n",
    "</p>"
   ]
  },
  {
   "cell_type": "markdown",
   "id": "4566c6be-0713-4334-a597-92c5d914a7f9",
   "metadata": {
    "tags": []
   },
   "source": [
    "### Outlier Detection and Treatment for Login_device Feature"
   ]
  },
  {
   "cell_type": "markdown",
   "id": "4fd60435-3d08-4ae1-8722-72068ead04df",
   "metadata": {},
   "source": [
    "<b>Analyst Observation : </b>\n",
    "<p>\n",
    "    There are no outliers in the Login_device feature.<br>\n",
    "    Hence no outlier treatment is required for this feature.\n",
    "</p>"
   ]
  },
  {
   "cell_type": "markdown",
   "id": "0e0d1a63-6293-436a-8113-9c595d6346d6",
   "metadata": {},
   "source": [
    "## Checking whether the data cleaning is successfull"
   ]
  },
  {
   "cell_type": "code",
   "execution_count": 357,
   "id": "90de15f2-29b9-4e5a-a33c-ceb11abb96c5",
   "metadata": {
    "tags": []
   },
   "outputs": [
    {
     "name": "stdout",
     "output_type": "stream",
     "text": [
      "printing the sum of null values to check if there are any null values still exists\n",
      "AccountID                  0\n",
      "Churn                      0\n",
      "Tenure                     0\n",
      "City_Tier                  0\n",
      "CC_Contacted_LY            0\n",
      "Payment                    0\n",
      "Gender                     0\n",
      "Service_Score              0\n",
      "Account_user_count         0\n",
      "account_segment            0\n",
      "CC_Agent_Score             0\n",
      "Marital_Status             0\n",
      "rev_per_month              0\n",
      "Complain_ly                0\n",
      "rev_growth_yoy             0\n",
      "coupon_used_for_payment    0\n",
      "Day_Since_CC_connect       0\n",
      "cashback                   0\n",
      "Login_device               0\n",
      "dtype: int64\n"
     ]
    }
   ],
   "source": [
    "print('printing the sum of null values to check if there are any null values still exists')\n",
    "print(df.isna().sum())"
   ]
  },
  {
   "cell_type": "markdown",
   "id": "0bdc3265-3c57-484e-b4b2-530ac73a9a9a",
   "metadata": {
    "tags": []
   },
   "source": [
    "# Data Transformation"
   ]
  },
  {
   "cell_type": "code",
   "execution_count": 358,
   "id": "0b4f701f-1f1e-4e81-979c-d40e723df2b7",
   "metadata": {
    "tags": []
   },
   "outputs": [
    {
     "name": "stdout",
     "output_type": "stream",
     "text": [
      "<class 'pandas.core.frame.DataFrame'>\n",
      "RangeIndex: 11260 entries, 0 to 11259\n",
      "Data columns (total 19 columns):\n",
      " #   Column                   Non-Null Count  Dtype  \n",
      "---  ------                   --------------  -----  \n",
      " 0   AccountID                11260 non-null  int64  \n",
      " 1   Churn                    11260 non-null  int64  \n",
      " 2   Tenure                   11260 non-null  int64  \n",
      " 3   City_Tier                11260 non-null  float64\n",
      " 4   CC_Contacted_LY          11260 non-null  float64\n",
      " 5   Payment                  11260 non-null  object \n",
      " 6   Gender                   11260 non-null  object \n",
      " 7   Service_Score            11260 non-null  float64\n",
      " 8   Account_user_count       11260 non-null  int64  \n",
      " 9   account_segment          11260 non-null  object \n",
      " 10  CC_Agent_Score           11260 non-null  float64\n",
      " 11  Marital_Status           11260 non-null  object \n",
      " 12  rev_per_month            11260 non-null  float64\n",
      " 13  Complain_ly              11260 non-null  float64\n",
      " 14  rev_growth_yoy           11260 non-null  int64  \n",
      " 15  coupon_used_for_payment  11260 non-null  float64\n",
      " 16  Day_Since_CC_connect     11260 non-null  float64\n",
      " 17  cashback                 11260 non-null  float64\n",
      " 18  Login_device             11260 non-null  object \n",
      "dtypes: float64(9), int64(5), object(5)\n",
      "memory usage: 1.6+ MB\n"
     ]
    }
   ],
   "source": [
    "df.info()"
   ]
  },
  {
   "cell_type": "markdown",
   "id": "05daaafc-940a-436e-ac95-c5b4cc2d30ff",
   "metadata": {},
   "source": [
    "### Variable Transformation for Payment Feature"
   ]
  },
  {
   "cell_type": "code",
   "execution_count": 359,
   "id": "1cb558eb-c9bf-4476-bd9e-dd02ca9fdd83",
   "metadata": {
    "tags": []
   },
   "outputs": [
    {
     "name": "stdout",
     "output_type": "stream",
     "text": [
      "Printing Payment feature value counts before variable Transformation\n",
      "Payment\n",
      "Cash on Delivery    1014\n",
      "Credit Card         3511\n",
      "Debit Card          4696\n",
      "E wallet            1217\n",
      "UPI                  822\n",
      "Name: count, dtype: int64\n",
      "\n",
      "\n",
      "Printing Payment feature value counts after variable Transformation : \n",
      "Payment\n",
      "0    1014\n",
      "1    3511\n",
      "2    4696\n",
      "3    1217\n",
      "4     822\n",
      "Name: count, dtype: int64\n"
     ]
    }
   ],
   "source": [
    "# Performing data Transformation for Payment Feature\n",
    "print('Printing Payment feature value counts before variable Transformation')\n",
    "print(df['Payment'].value_counts(dropna=False).sort_index())\n",
    "print()\n",
    "\n",
    "df['Payment'] = df['Payment'].astype('category')\n",
    "df['Payment'] = df['Payment'].cat.reorder_categories(['Cash on Delivery','Credit Card','Debit Card','E wallet','UPI'], ordered=True)\n",
    "df['Payment'] = df['Payment'].cat.codes\n",
    "\n",
    "print('\\nPrinting Payment feature value counts after variable Transformation : ')\n",
    "print(df['Payment'].value_counts(dropna=False).sort_index())"
   ]
  },
  {
   "cell_type": "markdown",
   "id": "cc3dbc5a-9d69-424d-a678-4e69ac7db482",
   "metadata": {},
   "source": [
    "### Variable Transformation for Gender Feature"
   ]
  },
  {
   "cell_type": "code",
   "execution_count": 360,
   "id": "c92c1397-dfc3-4e18-a4bd-7bd473bda607",
   "metadata": {
    "tags": []
   },
   "outputs": [
    {
     "name": "stdout",
     "output_type": "stream",
     "text": [
      "Printing Gender feature value counts before variable Transformation\n",
      "Gender\n",
      "Female    4448\n",
      "Male      6812\n",
      "Name: count, dtype: int64\n",
      "\n",
      "\n",
      "Printing Gender feature value counts before variable Transformation : \n",
      "Gender\n",
      "0    4448\n",
      "1    6812\n",
      "Name: count, dtype: int64\n"
     ]
    }
   ],
   "source": [
    "# Performing data Transformation for Gender Feature\n",
    "print('Printing Gender feature value counts before variable Transformation')\n",
    "print(df['Gender'].value_counts(dropna=False).sort_index())\n",
    "print()\n",
    "\n",
    "df['Gender'] = df['Gender'].astype('category')\n",
    "df['Gender'] = df['Gender'].cat.reorder_categories(['Female','Male'], ordered=True)\n",
    "df['Gender'] = df['Gender'].cat.codes\n",
    "\n",
    "print('\\nPrinting Gender feature value counts before variable Transformation : ')\n",
    "print(df['Gender'].value_counts(dropna=False).sort_index())"
   ]
  },
  {
   "cell_type": "markdown",
   "id": "b2baeb7a-7bf6-4a32-86dc-b7d058ccec09",
   "metadata": {},
   "source": [
    "### Variable Transformation for account_segment Feature"
   ]
  },
  {
   "cell_type": "code",
   "execution_count": 361,
   "id": "f1566274-9174-453d-91ad-9f9590772b41",
   "metadata": {
    "tags": []
   },
   "outputs": [
    {
     "name": "stdout",
     "output_type": "stream",
     "text": [
      "Printing account_segment feature value counts before variable Transformation\n",
      "account_segment\n",
      "HNI             1639\n",
      "Regular          520\n",
      "Regular Plus    4221\n",
      "Super           4062\n",
      "Super Plus       818\n",
      "Name: count, dtype: int64\n",
      "\n",
      "\n",
      "Printing account_segment feature value counts before variable Transformation : \n",
      "account_segment\n",
      "0    1639\n",
      "1     520\n",
      "2    4221\n",
      "3    4062\n",
      "4     818\n",
      "Name: count, dtype: int64\n"
     ]
    }
   ],
   "source": [
    "# Performing data Transformation for account_segment Feature\n",
    "print('Printing account_segment feature value counts before variable Transformation')\n",
    "print(df['account_segment'].value_counts(dropna=False).sort_index())\n",
    "print()\n",
    "\n",
    "df['account_segment'] = df['account_segment'].astype('category')\n",
    "df['account_segment'] = df['account_segment'].cat.reorder_categories(['HNI','Regular','Regular Plus','Super','Super Plus'], ordered=True)\n",
    "df['account_segment'] = df['account_segment'].cat.codes\n",
    "\n",
    "print('\\nPrinting account_segment feature value counts before variable Transformation : ')\n",
    "print(df['account_segment'].value_counts(dropna=False).sort_index())"
   ]
  },
  {
   "cell_type": "markdown",
   "id": "12c58c0e-2c12-404e-bf3c-0cc9371ec84a",
   "metadata": {},
   "source": [
    "### Variable Transformation for Marital_Status Feature"
   ]
  },
  {
   "cell_type": "code",
   "execution_count": 362,
   "id": "ba5760de-6ecc-41c7-979e-893c030b016e",
   "metadata": {
    "tags": []
   },
   "outputs": [
    {
     "name": "stdout",
     "output_type": "stream",
     "text": [
      "Printing Marital_Status feature value counts before variable Transformation\n",
      "Marital_Status\n",
      "Divorced    1668\n",
      "Married     6072\n",
      "Single      3520\n",
      "Name: count, dtype: int64\n",
      "\n",
      "\n",
      "Printing Marital_Status feature value counts before variable Transformation : \n",
      "Marital_Status\n",
      "0    1668\n",
      "1    6072\n",
      "2    3520\n",
      "Name: count, dtype: int64\n"
     ]
    }
   ],
   "source": [
    "# Performing data Transformation for Marital_Status Feature\n",
    "print('Printing Marital_Status feature value counts before variable Transformation')\n",
    "print(df['Marital_Status'].value_counts(dropna=False).sort_index())\n",
    "print()\n",
    "\n",
    "df['Marital_Status'] = df['Marital_Status'].astype('category')\n",
    "df['Marital_Status'] = df['Marital_Status'].cat.reorder_categories(['Divorced','Married','Single'], ordered=True)\n",
    "df['Marital_Status'] = df['Marital_Status'].cat.codes\n",
    "\n",
    "print('\\nPrinting Marital_Status feature value counts before variable Transformation : ')\n",
    "print(df['Marital_Status'].value_counts(dropna=False).sort_index())"
   ]
  },
  {
   "cell_type": "markdown",
   "id": "8557f8dd-b816-4df0-bd28-4ef41b59cbc7",
   "metadata": {},
   "source": [
    "### Variable Transformation for Login_device Feature"
   ]
  },
  {
   "cell_type": "code",
   "execution_count": 363,
   "id": "b8e4ff6c-5ab5-4056-99ae-059604f9d04e",
   "metadata": {
    "tags": []
   },
   "outputs": [
    {
     "name": "stdout",
     "output_type": "stream",
     "text": [
      "Printing Login_device feature value counts before variable Transformation\n",
      "Login_device\n",
      "Computer    3018\n",
      "Mobile      8242\n",
      "Name: count, dtype: int64\n",
      "\n",
      "\n",
      "Printing Login_device feature value counts before variable Transformation : \n",
      "Login_device\n",
      "0    3018\n",
      "1    8242\n",
      "Name: count, dtype: int64\n"
     ]
    }
   ],
   "source": [
    "# Performing data Transformation for Login_device Feature\n",
    "print('Printing Login_device feature value counts before variable Transformation')\n",
    "print(df['Login_device'].value_counts(dropna=False).sort_index())\n",
    "print()\n",
    "\n",
    "df['Login_device'] = df['Login_device'].astype('category')\n",
    "df['Login_device'] = df['Login_device'].cat.reorder_categories(['Computer','Mobile'], ordered=True)\n",
    "df['Login_device'] = df['Login_device'].cat.codes\n",
    "\n",
    "print('\\nPrinting Login_device feature value counts before variable Transformation : ')\n",
    "print(df['Login_device'].value_counts(dropna=False).sort_index())"
   ]
  },
  {
   "cell_type": "code",
   "execution_count": 364,
   "id": "c6b3db39-0ed1-4859-9973-8a1dd851850e",
   "metadata": {
    "tags": []
   },
   "outputs": [
    {
     "name": "stdout",
     "output_type": "stream",
     "text": [
      "<class 'pandas.core.frame.DataFrame'>\n",
      "RangeIndex: 11260 entries, 0 to 11259\n",
      "Data columns (total 19 columns):\n",
      " #   Column                   Non-Null Count  Dtype  \n",
      "---  ------                   --------------  -----  \n",
      " 0   AccountID                11260 non-null  int64  \n",
      " 1   Churn                    11260 non-null  int64  \n",
      " 2   Tenure                   11260 non-null  int64  \n",
      " 3   City_Tier                11260 non-null  float64\n",
      " 4   CC_Contacted_LY          11260 non-null  float64\n",
      " 5   Payment                  11260 non-null  int8   \n",
      " 6   Gender                   11260 non-null  int8   \n",
      " 7   Service_Score            11260 non-null  float64\n",
      " 8   Account_user_count       11260 non-null  int64  \n",
      " 9   account_segment          11260 non-null  int8   \n",
      " 10  CC_Agent_Score           11260 non-null  float64\n",
      " 11  Marital_Status           11260 non-null  int8   \n",
      " 12  rev_per_month            11260 non-null  float64\n",
      " 13  Complain_ly              11260 non-null  float64\n",
      " 14  rev_growth_yoy           11260 non-null  int64  \n",
      " 15  coupon_used_for_payment  11260 non-null  float64\n",
      " 16  Day_Since_CC_connect     11260 non-null  float64\n",
      " 17  cashback                 11260 non-null  float64\n",
      " 18  Login_device             11260 non-null  int8   \n",
      "dtypes: float64(9), int64(5), int8(5)\n",
      "memory usage: 1.3 MB\n",
      "None\n"
     ]
    }
   ],
   "source": [
    "print(df.info())"
   ]
  },
  {
   "cell_type": "markdown",
   "id": "6c35aef8-e0a4-4c44-b898-ca13f77d4839",
   "metadata": {
    "tags": []
   },
   "source": [
    "### Droping AccountID"
   ]
  },
  {
   "cell_type": "code",
   "execution_count": 365,
   "id": "7649c39d-652e-4edf-abd4-845fd51c75cb",
   "metadata": {
    "tags": []
   },
   "outputs": [
    {
     "name": "stdout",
     "output_type": "stream",
     "text": [
      "Checking the columns of df to check the AccountID is removed or not\n",
      "<class 'pandas.core.frame.DataFrame'>\n",
      "RangeIndex: 11260 entries, 0 to 11259\n",
      "Data columns (total 18 columns):\n",
      " #   Column                   Non-Null Count  Dtype  \n",
      "---  ------                   --------------  -----  \n",
      " 0   Churn                    11260 non-null  int64  \n",
      " 1   Tenure                   11260 non-null  int64  \n",
      " 2   City_Tier                11260 non-null  float64\n",
      " 3   CC_Contacted_LY          11260 non-null  float64\n",
      " 4   Payment                  11260 non-null  int8   \n",
      " 5   Gender                   11260 non-null  int8   \n",
      " 6   Service_Score            11260 non-null  float64\n",
      " 7   Account_user_count       11260 non-null  int64  \n",
      " 8   account_segment          11260 non-null  int8   \n",
      " 9   CC_Agent_Score           11260 non-null  float64\n",
      " 10  Marital_Status           11260 non-null  int8   \n",
      " 11  rev_per_month            11260 non-null  float64\n",
      " 12  Complain_ly              11260 non-null  float64\n",
      " 13  rev_growth_yoy           11260 non-null  int64  \n",
      " 14  coupon_used_for_payment  11260 non-null  float64\n",
      " 15  Day_Since_CC_connect     11260 non-null  float64\n",
      " 16  cashback                 11260 non-null  float64\n",
      " 17  Login_device             11260 non-null  int8   \n",
      "dtypes: float64(9), int64(4), int8(5)\n",
      "memory usage: 1.2 MB\n",
      "None\n"
     ]
    }
   ],
   "source": [
    "# Droping AccountID\n",
    "df.drop('AccountID', axis='columns',inplace=True)\n",
    "print('Checking the columns of df to check the AccountID is removed or not')\n",
    "print(df.info())"
   ]
  },
  {
   "cell_type": "markdown",
   "id": "85c05238-0db0-46a9-8c55-af2a4efaf606",
   "metadata": {},
   "source": [
    "# Modeling"
   ]
  },
  {
   "cell_type": "markdown",
   "id": "14149dad-8caa-4f63-b8f3-e681693df87e",
   "metadata": {
    "tags": []
   },
   "source": [
    "## Splitting Train and Test Data"
   ]
  },
  {
   "cell_type": "code",
   "execution_count": 366,
   "id": "055f1f1e-cf6a-45c0-97ed-577eaff00050",
   "metadata": {
    "tags": []
   },
   "outputs": [
    {
     "name": "stdout",
     "output_type": "stream",
     "text": [
      "Printing x Info :\n",
      "\n",
      "<class 'pandas.core.frame.DataFrame'>\n",
      "RangeIndex: 11260 entries, 0 to 11259\n",
      "Data columns (total 17 columns):\n",
      " #   Column                   Non-Null Count  Dtype  \n",
      "---  ------                   --------------  -----  \n",
      " 0   Tenure                   11260 non-null  int64  \n",
      " 1   City_Tier                11260 non-null  float64\n",
      " 2   CC_Contacted_LY          11260 non-null  float64\n",
      " 3   Payment                  11260 non-null  int8   \n",
      " 4   Gender                   11260 non-null  int8   \n",
      " 5   Service_Score            11260 non-null  float64\n",
      " 6   Account_user_count       11260 non-null  int64  \n",
      " 7   account_segment          11260 non-null  int8   \n",
      " 8   CC_Agent_Score           11260 non-null  float64\n",
      " 9   Marital_Status           11260 non-null  int8   \n",
      " 10  rev_per_month            11260 non-null  float64\n",
      " 11  Complain_ly              11260 non-null  float64\n",
      " 12  rev_growth_yoy           11260 non-null  int64  \n",
      " 13  coupon_used_for_payment  11260 non-null  float64\n",
      " 14  Day_Since_CC_connect     11260 non-null  float64\n",
      " 15  cashback                 11260 non-null  float64\n",
      " 16  Login_device             11260 non-null  int8   \n",
      "dtypes: float64(9), int64(3), int8(5)\n",
      "memory usage: 1.1 MB\n",
      "None\n",
      "Printing y Info :\n",
      "\n",
      "<class 'pandas.core.series.Series'>\n",
      "RangeIndex: 11260 entries, 0 to 11259\n",
      "Series name: Churn\n",
      "Non-Null Count  Dtype\n",
      "--------------  -----\n",
      "11260 non-null  int64\n",
      "dtypes: int64(1)\n",
      "memory usage: 88.1 KB\n",
      "None\n"
     ]
    }
   ],
   "source": [
    "x = df.drop('Churn', axis = 1)\n",
    "y = df['Churn']\n",
    "\n",
    "print('Printing x Info :\\n')\n",
    "print(x.info())\n",
    "\n",
    "print('Printing y Info :\\n')\n",
    "print(y.info())"
   ]
  },
  {
   "cell_type": "code",
   "execution_count": 367,
   "id": "de2e1c6e-0633-4a97-89a3-c28817e7b126",
   "metadata": {},
   "outputs": [
    {
     "name": "stdout",
     "output_type": "stream",
     "text": [
      "Splitting Train and Test data :\n",
      "\n",
      "Completed splitting the Train and Test Data successfully :\n",
      "\n"
     ]
    }
   ],
   "source": [
    "# split into 70:30 ration\n",
    "print('Splitting Train and Test data :\\n')\n",
    "x_train, x_test, y_train, y_test = train_test_split(x, y, test_size = 0.3, random_state = 0)\n",
    "print('Completed splitting the Train and Test Data successfully :\\n')"
   ]
  },
  {
   "cell_type": "code",
   "execution_count": 368,
   "id": "e269ed3f-28c8-4d46-ae44-a48880b85763",
   "metadata": {
    "tags": []
   },
   "outputs": [
    {
     "name": "stdout",
     "output_type": "stream",
     "text": [
      "Number transactions X_train dataset :  (7882, 17)\n",
      "Number transactions y_train dataset :  (7882,)\n",
      "Number of records with value 1 in y_train :  1341\n",
      "Number of records with value 0 in Y_train :  6541\n"
     ]
    }
   ],
   "source": [
    "# Information about the Training Data\n",
    "print(\"Number transactions X_train dataset : \", x_train.shape) \n",
    "print(\"Number transactions y_train dataset : \", y_train.shape)\n",
    "print('Number of records with value 1 in y_train : ', sum(y_train == 1))\n",
    "print('Number of records with value 0 in Y_train : ', sum(y_train == 0))"
   ]
  },
  {
   "cell_type": "markdown",
   "id": "84c44675-7838-452d-9820-eb59897058bf",
   "metadata": {},
   "source": [
    "<b>Analyst Observation :</b>\n",
    "<p>It is observed that there are 1341 records with value 1 in train data and 6541 records with value 0.</p>\n",
    "<p>Hence there is an imbalanced data observed.</p>"
   ]
  },
  {
   "cell_type": "code",
   "execution_count": 369,
   "id": "76756e6c-dab8-4b9c-a386-6bf1420b2c18",
   "metadata": {},
   "outputs": [
    {
     "name": "stdout",
     "output_type": "stream",
     "text": [
      "Number transactions X_test dataset :  (3378, 17)\n",
      "Number transactions y_test dataset :  (3378,)\n",
      "Number of records with value 1 in y_test :  555\n",
      "Number of records with value 0 in y_test :  2823\n"
     ]
    }
   ],
   "source": [
    "# Information about the Test Data\n",
    "print(\"Number transactions X_test dataset : \", x_test.shape) \n",
    "print(\"Number transactions y_test dataset : \", y_test.shape)\n",
    "print('Number of records with value 1 in y_test : ',sum(y_test == 1))\n",
    "print('Number of records with value 0 in y_test : ',sum(y_test == 0))"
   ]
  },
  {
   "cell_type": "markdown",
   "id": "d3b3724e-1b78-4e2d-8863-286fcef02117",
   "metadata": {},
   "source": [
    "<b>Analyst Observation :</b>\n",
    "<p>It is observed that there are 555 records with value 1 in test data and 2823 records with value 0.</p>\n",
    "<p>Hence there is an imbalanced data observed.</p>"
   ]
  },
  {
   "cell_type": "markdown",
   "id": "d4d64053-97c2-4a6a-bff8-503fe56bb046",
   "metadata": {},
   "source": [
    "## Handling Imbalanced Data"
   ]
  },
  {
   "cell_type": "markdown",
   "id": "6100a269-9608-4553-8189-a4f58de026e3",
   "metadata": {},
   "source": [
    "### Handling Imbalanced Train Data"
   ]
  },
  {
   "cell_type": "code",
   "execution_count": 370,
   "id": "b432936a-3a03-4a8a-ae54-ba88942045e0",
   "metadata": {},
   "outputs": [],
   "source": [
    "# Initializing SMOTE module\n",
    "sm = SMOTE(random_state = 2)"
   ]
  },
  {
   "cell_type": "code",
   "execution_count": 371,
   "id": "bf060d7b-6746-4ee1-b2d0-e6c2e3f3aaf3",
   "metadata": {},
   "outputs": [
    {
     "name": "stdout",
     "output_type": "stream",
     "text": [
      "Number transactions X_train dataset before resampling :  (7882, 17)\n",
      "Number transactions y_train dataset before resampling :  (7882,)\n",
      "\n",
      "Resampling Train Data\n",
      "Completed resampling train data successfully\n",
      "\n",
      "Number transactions X_train dataset after resampling :  (13082, 17)\n",
      "Number transactions y_train dataset after resampling :  (13082,)\n"
     ]
    }
   ],
   "source": [
    "# Handling imbalanced Train Data using SMOTE module in IBLEARN library\n",
    "print(\"Number transactions X_train dataset before resampling : \", x_train.shape)\n",
    "print(\"Number transactions y_train dataset before resampling : \", y_train.shape)\n",
    "print()\n",
    "print('Resampling Train Data')\n",
    "x_train, y_train = sm.fit_resample(x_train, y_train.ravel())\n",
    "print('Completed resampling train data successfully')\n",
    "print()\n",
    "print(\"Number transactions X_train dataset after resampling : \", x_train.shape)\n",
    "print(\"Number transactions y_train dataset after resampling : \", y_train.shape)"
   ]
  },
  {
   "cell_type": "code",
   "execution_count": 372,
   "id": "1e5758e4-e5eb-4c7c-9271-5eebea65ecc8",
   "metadata": {},
   "outputs": [
    {
     "name": "stdout",
     "output_type": "stream",
     "text": [
      "Number of records with value 1 in y_train :  6541\n",
      "Number of records with value 0 in Y_train :  6541\n"
     ]
    }
   ],
   "source": [
    "#Verifying the Churn variable in the training data after resampling using SMOTE Algorithm\n",
    "print('Number of records with value 1 in y_train : ', sum(y_train == 1))\n",
    "print('Number of records with value 0 in Y_train : ', sum(y_train == 0))"
   ]
  },
  {
   "cell_type": "markdown",
   "id": "7618f2fb-87d1-43cb-8521-71561bd8671f",
   "metadata": {},
   "source": [
    "<b>Analyst Observation : </b>\n",
    "<p>After resampling it is observed that there are equal number of 1's and 0's in the churn variable of Training data.</p>\n",
    "<p>Hence it is confirmed that the training dataset is balanced.</p>"
   ]
  },
  {
   "cell_type": "markdown",
   "id": "333c4092-911f-47ed-b593-4d010415903d",
   "metadata": {},
   "source": [
    "### Handling imbalanced Test Data"
   ]
  },
  {
   "cell_type": "code",
   "execution_count": 373,
   "id": "d43e0d1c-7176-454c-8b99-bdc41d54c7d3",
   "metadata": {},
   "outputs": [
    {
     "name": "stdout",
     "output_type": "stream",
     "text": [
      "Number transactions X_test dataset before resampling :  (3378, 17)\n",
      "Number transactions y_test dataset before resampling :  (3378,)\n",
      "\n",
      "Resampling Test Dataset\n",
      "Completed resampling test data successfully\n",
      "\n",
      "Number transactions X_test dataset after resampling :  (5646, 17)\n",
      "Number transactions y_test dataset after resampling :  (5646,)\n"
     ]
    }
   ],
   "source": [
    "# Handling imbalanced Test Data using SMOTE module in IBLEARN library\n",
    "print(\"Number transactions X_test dataset before resampling : \", x_test.shape)\n",
    "print(\"Number transactions y_test dataset before resampling : \", y_test.shape)\n",
    "print()\n",
    "print('Resampling Test Dataset')\n",
    "x_test, y_test = sm.fit_resample(x_test, y_test.ravel())\n",
    "print('Completed resampling test data successfully')\n",
    "print()\n",
    "print(\"Number transactions X_test dataset after resampling : \", x_test.shape)\n",
    "print(\"Number transactions y_test dataset after resampling : \", y_test.shape)"
   ]
  },
  {
   "cell_type": "code",
   "execution_count": 374,
   "id": "19420a59-49c1-4c4d-940f-9baf592fcb9a",
   "metadata": {},
   "outputs": [
    {
     "name": "stdout",
     "output_type": "stream",
     "text": [
      "Number of records with value 1 in y_test :  2823\n",
      "Number of records with value 0 in Y_test :  2823\n"
     ]
    }
   ],
   "source": [
    "#Verifying the Churn variable in the testing data after resampling using SMOTE Algorithm\n",
    "print('Number of records with value 1 in y_test : ', sum(y_test == 1))\n",
    "print('Number of records with value 0 in Y_test : ', sum(y_test == 0))"
   ]
  },
  {
   "cell_type": "markdown",
   "id": "19b67560-7759-4900-96e0-5f0e7fe796d7",
   "metadata": {},
   "source": [
    "<b>Analyst Observation : </b>\n",
    "<p>After resampling it is observed that there are equal number of 1's and 0's in the churn variable of Testing data.</p>\n",
    "<p>Hence it is confirmed that the testing dataset is balanced.</p>"
   ]
  },
  {
   "cell_type": "markdown",
   "id": "32b5c83a-3249-45f8-84c0-cf2ca2382cec",
   "metadata": {
    "tags": []
   },
   "source": [
    "## Creating Logistic Regression Model"
   ]
  },
  {
   "cell_type": "code",
   "execution_count": 375,
   "id": "6aa557c1-e850-4b2d-b319-727dd89680c4",
   "metadata": {
    "tags": []
   },
   "outputs": [],
   "source": [
    "scaler = StandardScaler()\n",
    "scaled_x_train = scaler.fit_transform(x_train)\n",
    "scaled_x_test = scaler.transform(x_test)"
   ]
  },
  {
   "cell_type": "code",
   "execution_count": 376,
   "id": "80761181-c2ec-46ca-b8df-ae6fd97b3a28",
   "metadata": {
    "tags": []
   },
   "outputs": [
    {
     "data": {
      "text/plain": [
       "array([[ 1.11670631, -0.77828473, -0.61012701, ..., -0.59044589,\n",
       "        -1.21146377, -1.37190839],\n",
       "       [-0.51533205, -0.77828473,  0.08968095, ..., -0.59044589,\n",
       "        -0.15418209, -1.37190839],\n",
       "       [ 0.23791643, -0.77828473, -0.37685769, ..., -0.59044589,\n",
       "        -0.6523198 ,  0.72891164],\n",
       "       ...,\n",
       "       [-0.89195628, -0.77828473, -0.61012701, ..., -0.50890421,\n",
       "        -1.02402191, -1.37190839],\n",
       "       [-0.76641487, -0.77828473,  1.59114268, ..., -0.63034516,\n",
       "        -0.45228161,  0.72891164],\n",
       "       [ 1.11670631,  0.76289413,  1.84667909, ..., -0.31612538,\n",
       "         1.50602633,  0.72891164]])"
      ]
     },
     "execution_count": 376,
     "metadata": {},
     "output_type": "execute_result"
    }
   ],
   "source": [
    "scaled_x_train"
   ]
  },
  {
   "cell_type": "code",
   "execution_count": 398,
   "id": "f4e77806-1443-4dfd-8050-0c27d0226f91",
   "metadata": {
    "tags": []
   },
   "outputs": [],
   "source": [
    "log_model = LogisticRegressionCV()"
   ]
  },
  {
   "cell_type": "code",
   "execution_count": 399,
   "id": "5b7ef6f6-2042-454a-8bb8-3eda6d398825",
   "metadata": {},
   "outputs": [
    {
     "data": {
      "text/html": [
       "<style>#sk-container-id-16 {color: black;}#sk-container-id-16 pre{padding: 0;}#sk-container-id-16 div.sk-toggleable {background-color: white;}#sk-container-id-16 label.sk-toggleable__label {cursor: pointer;display: block;width: 100%;margin-bottom: 0;padding: 0.3em;box-sizing: border-box;text-align: center;}#sk-container-id-16 label.sk-toggleable__label-arrow:before {content: \"▸\";float: left;margin-right: 0.25em;color: #696969;}#sk-container-id-16 label.sk-toggleable__label-arrow:hover:before {color: black;}#sk-container-id-16 div.sk-estimator:hover label.sk-toggleable__label-arrow:before {color: black;}#sk-container-id-16 div.sk-toggleable__content {max-height: 0;max-width: 0;overflow: hidden;text-align: left;background-color: #f0f8ff;}#sk-container-id-16 div.sk-toggleable__content pre {margin: 0.2em;color: black;border-radius: 0.25em;background-color: #f0f8ff;}#sk-container-id-16 input.sk-toggleable__control:checked~div.sk-toggleable__content {max-height: 200px;max-width: 100%;overflow: auto;}#sk-container-id-16 input.sk-toggleable__control:checked~label.sk-toggleable__label-arrow:before {content: \"▾\";}#sk-container-id-16 div.sk-estimator input.sk-toggleable__control:checked~label.sk-toggleable__label {background-color: #d4ebff;}#sk-container-id-16 div.sk-label input.sk-toggleable__control:checked~label.sk-toggleable__label {background-color: #d4ebff;}#sk-container-id-16 input.sk-hidden--visually {border: 0;clip: rect(1px 1px 1px 1px);clip: rect(1px, 1px, 1px, 1px);height: 1px;margin: -1px;overflow: hidden;padding: 0;position: absolute;width: 1px;}#sk-container-id-16 div.sk-estimator {font-family: monospace;background-color: #f0f8ff;border: 1px dotted black;border-radius: 0.25em;box-sizing: border-box;margin-bottom: 0.5em;}#sk-container-id-16 div.sk-estimator:hover {background-color: #d4ebff;}#sk-container-id-16 div.sk-parallel-item::after {content: \"\";width: 100%;border-bottom: 1px solid gray;flex-grow: 1;}#sk-container-id-16 div.sk-label:hover label.sk-toggleable__label {background-color: #d4ebff;}#sk-container-id-16 div.sk-serial::before {content: \"\";position: absolute;border-left: 1px solid gray;box-sizing: border-box;top: 0;bottom: 0;left: 50%;z-index: 0;}#sk-container-id-16 div.sk-serial {display: flex;flex-direction: column;align-items: center;background-color: white;padding-right: 0.2em;padding-left: 0.2em;position: relative;}#sk-container-id-16 div.sk-item {position: relative;z-index: 1;}#sk-container-id-16 div.sk-parallel {display: flex;align-items: stretch;justify-content: center;background-color: white;position: relative;}#sk-container-id-16 div.sk-item::before, #sk-container-id-16 div.sk-parallel-item::before {content: \"\";position: absolute;border-left: 1px solid gray;box-sizing: border-box;top: 0;bottom: 0;left: 50%;z-index: -1;}#sk-container-id-16 div.sk-parallel-item {display: flex;flex-direction: column;z-index: 1;position: relative;background-color: white;}#sk-container-id-16 div.sk-parallel-item:first-child::after {align-self: flex-end;width: 50%;}#sk-container-id-16 div.sk-parallel-item:last-child::after {align-self: flex-start;width: 50%;}#sk-container-id-16 div.sk-parallel-item:only-child::after {width: 0;}#sk-container-id-16 div.sk-dashed-wrapped {border: 1px dashed gray;margin: 0 0.4em 0.5em 0.4em;box-sizing: border-box;padding-bottom: 0.4em;background-color: white;}#sk-container-id-16 div.sk-label label {font-family: monospace;font-weight: bold;display: inline-block;line-height: 1.2em;}#sk-container-id-16 div.sk-label-container {text-align: center;}#sk-container-id-16 div.sk-container {/* jupyter's `normalize.less` sets `[hidden] { display: none; }` but bootstrap.min.css set `[hidden] { display: none !important; }` so we also need the `!important` here to be able to override the default hidden behavior on the sphinx rendered scikit-learn.org. See: https://github.com/scikit-learn/scikit-learn/issues/21755 */display: inline-block !important;position: relative;}#sk-container-id-16 div.sk-text-repr-fallback {display: none;}</style><div id=\"sk-container-id-16\" class=\"sk-top-container\"><div class=\"sk-text-repr-fallback\"><pre>LogisticRegressionCV()</pre><b>In a Jupyter environment, please rerun this cell to show the HTML representation or trust the notebook. <br />On GitHub, the HTML representation is unable to render, please try loading this page with nbviewer.org.</b></div><div class=\"sk-container\" hidden><div class=\"sk-item\"><div class=\"sk-estimator sk-toggleable\"><input class=\"sk-toggleable__control sk-hidden--visually\" id=\"sk-estimator-id-16\" type=\"checkbox\" checked><label for=\"sk-estimator-id-16\" class=\"sk-toggleable__label sk-toggleable__label-arrow\">LogisticRegressionCV</label><div class=\"sk-toggleable__content\"><pre>LogisticRegressionCV()</pre></div></div></div></div></div>"
      ],
      "text/plain": [
       "LogisticRegressionCV()"
      ]
     },
     "execution_count": 399,
     "metadata": {},
     "output_type": "execute_result"
    }
   ],
   "source": [
    "log_model.fit(scaled_x_train, y_train)"
   ]
  },
  {
   "cell_type": "markdown",
   "id": "6bdf674f-077f-48e9-a504-f2f6e3e8910c",
   "metadata": {},
   "source": [
    "### Evaluating Logistic regression model on the training data"
   ]
  },
  {
   "cell_type": "code",
   "execution_count": 400,
   "id": "ff11156a-d8aa-4f65-8905-bd4a020beea5",
   "metadata": {},
   "outputs": [],
   "source": [
    "#creating dataframe to hald the value of performance metrics\n",
    "ModelPerformanceDf = pd.DataFrame(columns = ['Model Name','Train Accuracy','Test Accuracy','Train Precision','Test Precision','Train Recall', 'Test Recall', 'Train F1 Score','Test F1 Score','Train Accuracy Score','Test Accuracy Score'])\n",
    "ModelPerformanceDf.at[0,'Model Name'] = 'Logistic Regression'"
   ]
  },
  {
   "cell_type": "code",
   "execution_count": 401,
   "id": "e931dfcb-e43b-42ce-a586-d9ccff3725b4",
   "metadata": {
    "tags": []
   },
   "outputs": [],
   "source": [
    "ytrain_pred = log_model.predict(scaled_x_train)"
   ]
  },
  {
   "cell_type": "code",
   "execution_count": 402,
   "id": "4aab8ab7-8004-4e86-b9d0-0a38851d48db",
   "metadata": {
    "tags": []
   },
   "outputs": [
    {
     "name": "stdout",
     "output_type": "stream",
     "text": [
      "[[5161  996]\n",
      " [1380 5545]]\n"
     ]
    }
   ],
   "source": [
    "# Generating Confusion matrix for Training Data of LR Model\n",
    "ytrain_CM = confusion_matrix(ytrain_pred, y_train)\n",
    "print(ytrain_CM)"
   ]
  },
  {
   "cell_type": "code",
   "execution_count": 403,
   "id": "ffc18fca-33dd-4bb3-8a78-ea985b4f4281",
   "metadata": {
    "tags": []
   },
   "outputs": [
    {
     "name": "stdout",
     "output_type": "stream",
     "text": [
      "Accuracy of the LR Model on Train data is :  0.818376395046629\n"
     ]
    }
   ],
   "source": [
    "#Accuracy of the LR Model on train data is\n",
    "ModelPerformanceDf.at[0,'Train Accuracy'] = (ytrain_CM[0][0]+ytrain_CM[1][1])/(ytrain_CM[0][0]+ytrain_CM[0][1]+ytrain_CM[1][0]+ytrain_CM[1][1])\n",
    "print('Accuracy of the LR Model on Train data is : ', ModelPerformanceDf.at[0,'Train Accuracy'])"
   ]
  },
  {
   "cell_type": "code",
   "execution_count": 404,
   "id": "09e94542-7e45-404b-99b3-d301a9c4f99e",
   "metadata": {
    "tags": []
   },
   "outputs": [
    {
     "name": "stdout",
     "output_type": "stream",
     "text": [
      "Precision of the LR Model on Train data is :  0.8382329056358616\n"
     ]
    }
   ],
   "source": [
    "# Precision of the LR Model on train data is\n",
    "ModelPerformanceDf.at[0,'Train Precision'] = (ytrain_CM[0][0])/(ytrain_CM[0][0]+ytrain_CM[0][1])\n",
    "print('Precision of the LR Model on Train data is : ', ModelPerformanceDf.at[0,'Train Precision'])"
   ]
  },
  {
   "cell_type": "code",
   "execution_count": 405,
   "id": "c02d2d25-a415-420e-bc2e-813981316bd1",
   "metadata": {
    "tags": []
   },
   "outputs": [
    {
     "name": "stdout",
     "output_type": "stream",
     "text": [
      "Recall / Sensitivity of the LR Model on Train data is : 0.789023085155175\n"
     ]
    }
   ],
   "source": [
    "# Recall / Sensitivity of the LR Model on Train data is :\n",
    "ModelPerformanceDf.at[0,'Train Recall'] = (ytrain_CM[0][0])/(ytrain_CM[0][0]+ytrain_CM[1][0])\n",
    "print('Recall / Sensitivity of the LR Model on Train data is :', ModelPerformanceDf.at[0,'Train Recall'])"
   ]
  },
  {
   "cell_type": "code",
   "execution_count": 406,
   "id": "83f97726-051b-40b6-beca-21f4c2be911a",
   "metadata": {
    "tags": []
   },
   "outputs": [
    {
     "name": "stdout",
     "output_type": "stream",
     "text": [
      "F1 Score of the LR Model on Train data is : 0.8128839187273585\n"
     ]
    }
   ],
   "source": [
    "# F1 Score of the LR Model on Train data is :\n",
    "ModelPerformanceDf.at[0,'Train F1 Score'] = (2*ModelPerformanceDf.at[0,'Train Recall']*ModelPerformanceDf.at[0,'Train Precision'])/(ModelPerformanceDf.at[0,'Train Precision']+ModelPerformanceDf.at[0,'Train Recall'])\n",
    "print('F1 Score of the LR Model on Train data is :', ModelPerformanceDf.at[0,'Train F1 Score'])"
   ]
  },
  {
   "cell_type": "code",
   "execution_count": 407,
   "id": "c34cc5ee-5867-413b-bc90-11c0ee400e72",
   "metadata": {
    "tags": []
   },
   "outputs": [
    {
     "name": "stdout",
     "output_type": "stream",
     "text": [
      "Accuracy of LR model on the Train Data is :  0.818376395046629\n"
     ]
    }
   ],
   "source": [
    "# Accuracy Score of LR Model on Trainging Data\n",
    "ModelPerformanceDf.at[0,'Train Accuracy Score'] = accuracy_score(ytrain_pred, y_train)\n",
    "print('Accuracy of LR model on the Train Data is : ', ModelPerformanceDf.at[0,'Train Accuracy Score'])"
   ]
  },
  {
   "cell_type": "code",
   "execution_count": 408,
   "id": "d2b1bb1b-9af7-4bd2-81e0-1bea7df9d575",
   "metadata": {
    "tags": []
   },
   "outputs": [
    {
     "name": "stdout",
     "output_type": "stream",
     "text": [
      "Classification report of LR Model on the training data\n",
      "              precision    recall  f1-score   support\n",
      "\n",
      "           0       0.79      0.84      0.81      6157\n",
      "           1       0.85      0.80      0.82      6925\n",
      "\n",
      "    accuracy                           0.82     13082\n",
      "   macro avg       0.82      0.82      0.82     13082\n",
      "weighted avg       0.82      0.82      0.82     13082\n",
      "\n"
     ]
    }
   ],
   "source": [
    "# Classification Report of LR Model on Training Data\n",
    "print('Classification report of LR Model on the training data')\n",
    "print(classification_report(ytrain_pred, y_train))"
   ]
  },
  {
   "cell_type": "markdown",
   "id": "3027b7b5-2e3e-4ca4-bf72-3f0c7fe1c468",
   "metadata": {},
   "source": [
    "### Evaluation Logistic Regression Model on Test Data"
   ]
  },
  {
   "cell_type": "code",
   "execution_count": 409,
   "id": "40c5ee7e-2f5f-41d2-a36f-77ec5adc5cdd",
   "metadata": {
    "tags": []
   },
   "outputs": [],
   "source": [
    "y_pred = log_model.predict(scaled_x_test)"
   ]
  },
  {
   "cell_type": "code",
   "execution_count": 410,
   "id": "7e61a477-e08b-4b18-895b-69a91825d747",
   "metadata": {
    "tags": []
   },
   "outputs": [
    {
     "name": "stdout",
     "output_type": "stream",
     "text": [
      "[[2264  445]\n",
      " [ 559 2378]]\n"
     ]
    }
   ],
   "source": [
    "ytest_CM = confusion_matrix(y_pred, y_test)\n",
    "print(ytest_CM)"
   ]
  },
  {
   "cell_type": "code",
   "execution_count": 411,
   "id": "7f6c36ce-94e3-4407-9cc9-350796c5cb22",
   "metadata": {},
   "outputs": [
    {
     "name": "stdout",
     "output_type": "stream",
     "text": [
      "Accuracy of the Model on Test data is :  0.8221749911441729\n"
     ]
    }
   ],
   "source": [
    "#Accuracy of the Model on Test data is\n",
    "ModelPerformanceDf.at[0,'Test Accuracy'] = (ytest_CM[0][0]+ytest_CM[1][1])/(ytest_CM[0][0]+ytest_CM[0][1]+ytest_CM[1][0]+ytest_CM[1][1])\n",
    "print('Accuracy of the Model on Test data is : ', ModelPerformanceDf.at[0,'Test Accuracy'])"
   ]
  },
  {
   "cell_type": "code",
   "execution_count": 412,
   "id": "78f164bc-7506-4d0f-8ea3-441ce23214e1",
   "metadata": {
    "tags": []
   },
   "outputs": [
    {
     "name": "stdout",
     "output_type": "stream",
     "text": [
      "Precision of the Model on Test data is :  0.8357327427094869\n"
     ]
    }
   ],
   "source": [
    "# Precision of the Model on Test data is\n",
    "ModelPerformanceDf.at[0,'Test Precision'] = (ytest_CM[0][0])/(ytest_CM[0][0]+ytest_CM[0][1])\n",
    "print('Precision of the Model on Test data is : ',ModelPerformanceDf.at[0,'Test Precision'])"
   ]
  },
  {
   "cell_type": "code",
   "execution_count": 413,
   "id": "b0e2e6f5-8cb8-4f14-ba70-f562ddfd853f",
   "metadata": {
    "tags": []
   },
   "outputs": [
    {
     "name": "stdout",
     "output_type": "stream",
     "text": [
      "Recall / Sensitivity of on Test data is : 0.801983705278073\n"
     ]
    }
   ],
   "source": [
    "# Recall / Sensitivity of the Model on Test data is :\n",
    "ModelPerformanceDf.at[0,'Test Recall'] = (ytest_CM[0][0])/(ytest_CM[0][0]+ytest_CM[1][0])\n",
    "print('Recall / Sensitivity of on Test data is :',ModelPerformanceDf.at[0,'Test Recall'])"
   ]
  },
  {
   "cell_type": "code",
   "execution_count": 414,
   "id": "54095758-c785-4678-b523-97980ca9ac55",
   "metadata": {
    "tags": []
   },
   "outputs": [
    {
     "name": "stdout",
     "output_type": "stream",
     "text": [
      "F1 Score of the LR Model on Test data is : 0.8185104844540854\n"
     ]
    }
   ],
   "source": [
    "# F1 Score of the LR Model on Test data is :\n",
    "ModelPerformanceDf.at[0,'Test F1 Score'] = (2*ModelPerformanceDf.at[0,'Test Recall']*ModelPerformanceDf.at[0,'Test Precision'])/(ModelPerformanceDf.at[0,'Test Precision']+ModelPerformanceDf.at[0,'Test Recall'])\n",
    "print('F1 Score of the LR Model on Test data is :', ModelPerformanceDf.at[0,'Test F1 Score'])"
   ]
  },
  {
   "cell_type": "code",
   "execution_count": 415,
   "id": "41322158-2197-4025-825d-237ac0d9fab5",
   "metadata": {
    "tags": []
   },
   "outputs": [
    {
     "name": "stdout",
     "output_type": "stream",
     "text": [
      "Accuracy Score of LR Model on the Test Data is :  0.8221749911441729\n"
     ]
    }
   ],
   "source": [
    "# Accuracy Score\n",
    "ModelPerformanceDf.at[0,'Test Accuracy Score'] = accuracy_score(y_pred, y_test)\n",
    "print('Accuracy Score of LR Model on the Test Data is : ',ModelPerformanceDf.at[0,'Test Accuracy Score'])"
   ]
  },
  {
   "cell_type": "code",
   "execution_count": 416,
   "id": "9e50be4c-35fc-41db-8b66-71b931097a9a",
   "metadata": {
    "tags": []
   },
   "outputs": [
    {
     "name": "stdout",
     "output_type": "stream",
     "text": [
      "Classification Report of LR Model on the Test Data\n",
      "              precision    recall  f1-score   support\n",
      "\n",
      "           0       0.80      0.84      0.82      2709\n",
      "           1       0.84      0.81      0.83      2937\n",
      "\n",
      "    accuracy                           0.82      5646\n",
      "   macro avg       0.82      0.82      0.82      5646\n",
      "weighted avg       0.82      0.82      0.82      5646\n",
      "\n"
     ]
    }
   ],
   "source": [
    "# Classification Report\n",
    "print('Classification Report of LR Model on the Test Data')\n",
    "print(classification_report(y_pred, y_test))"
   ]
  },
  {
   "cell_type": "markdown",
   "id": "78c4ccff-3721-4b27-9cd7-e21216f7b5ac",
   "metadata": {},
   "source": [
    "## Creating a Random Forest Classification Model"
   ]
  },
  {
   "cell_type": "code",
   "execution_count": 417,
   "id": "5f7b1d05-eff1-4d64-b084-348d204bc5ed",
   "metadata": {
    "tags": []
   },
   "outputs": [],
   "source": [
    "clf = RandomForestClassifier()"
   ]
  },
  {
   "cell_type": "code",
   "execution_count": 418,
   "id": "1661d43a-7253-4dd4-8122-95249ce3b9a7",
   "metadata": {
    "tags": []
   },
   "outputs": [
    {
     "data": {
      "text/html": [
       "<style>#sk-container-id-17 {color: black;}#sk-container-id-17 pre{padding: 0;}#sk-container-id-17 div.sk-toggleable {background-color: white;}#sk-container-id-17 label.sk-toggleable__label {cursor: pointer;display: block;width: 100%;margin-bottom: 0;padding: 0.3em;box-sizing: border-box;text-align: center;}#sk-container-id-17 label.sk-toggleable__label-arrow:before {content: \"▸\";float: left;margin-right: 0.25em;color: #696969;}#sk-container-id-17 label.sk-toggleable__label-arrow:hover:before {color: black;}#sk-container-id-17 div.sk-estimator:hover label.sk-toggleable__label-arrow:before {color: black;}#sk-container-id-17 div.sk-toggleable__content {max-height: 0;max-width: 0;overflow: hidden;text-align: left;background-color: #f0f8ff;}#sk-container-id-17 div.sk-toggleable__content pre {margin: 0.2em;color: black;border-radius: 0.25em;background-color: #f0f8ff;}#sk-container-id-17 input.sk-toggleable__control:checked~div.sk-toggleable__content {max-height: 200px;max-width: 100%;overflow: auto;}#sk-container-id-17 input.sk-toggleable__control:checked~label.sk-toggleable__label-arrow:before {content: \"▾\";}#sk-container-id-17 div.sk-estimator input.sk-toggleable__control:checked~label.sk-toggleable__label {background-color: #d4ebff;}#sk-container-id-17 div.sk-label input.sk-toggleable__control:checked~label.sk-toggleable__label {background-color: #d4ebff;}#sk-container-id-17 input.sk-hidden--visually {border: 0;clip: rect(1px 1px 1px 1px);clip: rect(1px, 1px, 1px, 1px);height: 1px;margin: -1px;overflow: hidden;padding: 0;position: absolute;width: 1px;}#sk-container-id-17 div.sk-estimator {font-family: monospace;background-color: #f0f8ff;border: 1px dotted black;border-radius: 0.25em;box-sizing: border-box;margin-bottom: 0.5em;}#sk-container-id-17 div.sk-estimator:hover {background-color: #d4ebff;}#sk-container-id-17 div.sk-parallel-item::after {content: \"\";width: 100%;border-bottom: 1px solid gray;flex-grow: 1;}#sk-container-id-17 div.sk-label:hover label.sk-toggleable__label {background-color: #d4ebff;}#sk-container-id-17 div.sk-serial::before {content: \"\";position: absolute;border-left: 1px solid gray;box-sizing: border-box;top: 0;bottom: 0;left: 50%;z-index: 0;}#sk-container-id-17 div.sk-serial {display: flex;flex-direction: column;align-items: center;background-color: white;padding-right: 0.2em;padding-left: 0.2em;position: relative;}#sk-container-id-17 div.sk-item {position: relative;z-index: 1;}#sk-container-id-17 div.sk-parallel {display: flex;align-items: stretch;justify-content: center;background-color: white;position: relative;}#sk-container-id-17 div.sk-item::before, #sk-container-id-17 div.sk-parallel-item::before {content: \"\";position: absolute;border-left: 1px solid gray;box-sizing: border-box;top: 0;bottom: 0;left: 50%;z-index: -1;}#sk-container-id-17 div.sk-parallel-item {display: flex;flex-direction: column;z-index: 1;position: relative;background-color: white;}#sk-container-id-17 div.sk-parallel-item:first-child::after {align-self: flex-end;width: 50%;}#sk-container-id-17 div.sk-parallel-item:last-child::after {align-self: flex-start;width: 50%;}#sk-container-id-17 div.sk-parallel-item:only-child::after {width: 0;}#sk-container-id-17 div.sk-dashed-wrapped {border: 1px dashed gray;margin: 0 0.4em 0.5em 0.4em;box-sizing: border-box;padding-bottom: 0.4em;background-color: white;}#sk-container-id-17 div.sk-label label {font-family: monospace;font-weight: bold;display: inline-block;line-height: 1.2em;}#sk-container-id-17 div.sk-label-container {text-align: center;}#sk-container-id-17 div.sk-container {/* jupyter's `normalize.less` sets `[hidden] { display: none; }` but bootstrap.min.css set `[hidden] { display: none !important; }` so we also need the `!important` here to be able to override the default hidden behavior on the sphinx rendered scikit-learn.org. See: https://github.com/scikit-learn/scikit-learn/issues/21755 */display: inline-block !important;position: relative;}#sk-container-id-17 div.sk-text-repr-fallback {display: none;}</style><div id=\"sk-container-id-17\" class=\"sk-top-container\"><div class=\"sk-text-repr-fallback\"><pre>RandomForestClassifier()</pre><b>In a Jupyter environment, please rerun this cell to show the HTML representation or trust the notebook. <br />On GitHub, the HTML representation is unable to render, please try loading this page with nbviewer.org.</b></div><div class=\"sk-container\" hidden><div class=\"sk-item\"><div class=\"sk-estimator sk-toggleable\"><input class=\"sk-toggleable__control sk-hidden--visually\" id=\"sk-estimator-id-17\" type=\"checkbox\" checked><label for=\"sk-estimator-id-17\" class=\"sk-toggleable__label sk-toggleable__label-arrow\">RandomForestClassifier</label><div class=\"sk-toggleable__content\"><pre>RandomForestClassifier()</pre></div></div></div></div></div>"
      ],
      "text/plain": [
       "RandomForestClassifier()"
      ]
     },
     "execution_count": 418,
     "metadata": {},
     "output_type": "execute_result"
    }
   ],
   "source": [
    "clf.fit(scaled_x_train, y_train)"
   ]
  },
  {
   "cell_type": "markdown",
   "id": "22587719-0f66-4f28-865c-90aaa33b5d49",
   "metadata": {},
   "source": [
    "### Evaluating Random Forest Classifier on train data"
   ]
  },
  {
   "cell_type": "code",
   "execution_count": 419,
   "id": "d7f09c70-33d0-477b-99b0-2cf75b6e093b",
   "metadata": {},
   "outputs": [],
   "source": [
    "# Creating a new row to update Random forest Classifier performance metrics to ModelPerformanceDf dataframe \n",
    "ModelPerformanceDf.at[1,'Model Name'] = 'Random Forest Classifier'"
   ]
  },
  {
   "cell_type": "code",
   "execution_count": 420,
   "id": "613b1d07-4a54-4e9d-93cd-a7ba1620cf4f",
   "metadata": {
    "tags": []
   },
   "outputs": [],
   "source": [
    "RF_y_train_pred = clf.predict(scaled_x_train)"
   ]
  },
  {
   "cell_type": "code",
   "execution_count": 421,
   "id": "6cf46524-dc05-42bc-b26c-fbc5d434666e",
   "metadata": {
    "tags": []
   },
   "outputs": [
    {
     "name": "stdout",
     "output_type": "stream",
     "text": [
      "[[6541    0]\n",
      " [   0 6541]]\n"
     ]
    }
   ],
   "source": [
    "RF_ytrain_CM = confusion_matrix(RF_y_train_pred, y_train)\n",
    "print(RF_ytrain_CM)"
   ]
  },
  {
   "cell_type": "code",
   "execution_count": 422,
   "id": "d238d730-e823-4614-9b4f-2c89906ef3da",
   "metadata": {
    "tags": []
   },
   "outputs": [
    {
     "name": "stdout",
     "output_type": "stream",
     "text": [
      "Accuracy of the Random forest Classifier Model on Train data is :  1.0\n"
     ]
    }
   ],
   "source": [
    "#Accuracy of the Random forest Classifier Model on Train data is\n",
    "ModelPerformanceDf.at[1,'Train Accuracy'] = (RF_ytrain_CM[0][0]+RF_ytrain_CM[1][1])/(RF_ytrain_CM[0][0]+RF_ytrain_CM[0][1]+RF_ytrain_CM[1][0]+RF_ytrain_CM[1][1])\n",
    "print('Accuracy of the Random forest Classifier Model on Train data is : ', ModelPerformanceDf.at[1,'Train Accuracy'])"
   ]
  },
  {
   "cell_type": "code",
   "execution_count": 423,
   "id": "e0f6f329-09db-498b-bee7-e82c7e47a568",
   "metadata": {
    "tags": []
   },
   "outputs": [
    {
     "name": "stdout",
     "output_type": "stream",
     "text": [
      "Precision of the Random forest Classifier Model on Train data is :  1.0\n"
     ]
    }
   ],
   "source": [
    "# Precision of the Random forest Classifier Model on Train data is\n",
    "ModelPerformanceDf.at[1,'Train Precision'] = (RF_ytrain_CM[0][0])/(RF_ytrain_CM[0][0]+RF_ytrain_CM[0][1])\n",
    "print('Precision of the Random forest Classifier Model on Train data is : ',ModelPerformanceDf.at[1,'Train Precision'])"
   ]
  },
  {
   "cell_type": "code",
   "execution_count": 424,
   "id": "765b6a3b-77d9-42b9-9b8e-cac73842120c",
   "metadata": {
    "tags": []
   },
   "outputs": [
    {
     "name": "stdout",
     "output_type": "stream",
     "text": [
      "Recall / Sensitivity of Random forest Classifier Model on Train data is : 1.0\n"
     ]
    }
   ],
   "source": [
    "# Recall / Sensitivity of the Random forest Classifier Model on Train data is :\n",
    "ModelPerformanceDf.at[1,'Train Recall'] = (RF_ytrain_CM[0][0])/(RF_ytrain_CM[0][0]+RF_ytrain_CM[1][0])\n",
    "print('Recall / Sensitivity of Random forest Classifier Model on Train data is :', ModelPerformanceDf.at[1,'Train Recall'])"
   ]
  },
  {
   "cell_type": "code",
   "execution_count": 425,
   "id": "7d88a57f-86db-48db-beff-513fddb7539e",
   "metadata": {
    "tags": []
   },
   "outputs": [
    {
     "name": "stdout",
     "output_type": "stream",
     "text": [
      "F1 Score of the Random Forest Regression Model on Train data is : 1.0\n"
     ]
    }
   ],
   "source": [
    "# F1 Score of the Random Forest Classifier Model on Train data is :\n",
    "ModelPerformanceDf.at[1,'Train F1 Score'] = (2*ModelPerformanceDf.at[1,'Train Recall']*ModelPerformanceDf.at[1,'Train Precision'])/(ModelPerformanceDf.at[1,'Train Precision']+ModelPerformanceDf.at[1,'Train Recall'])\n",
    "print('F1 Score of the Random Forest Regression Model on Train data is :', ModelPerformanceDf.at[1,'Train F1 Score'])"
   ]
  },
  {
   "cell_type": "code",
   "execution_count": 426,
   "id": "ed9e9409-141f-4420-816b-dfbbab29e843",
   "metadata": {
    "tags": []
   },
   "outputs": [
    {
     "name": "stdout",
     "output_type": "stream",
     "text": [
      "Accuracy Score of Random Forest Regression Model on Train data is :  1.0\n"
     ]
    }
   ],
   "source": [
    "ModelPerformanceDf.at[1,'Train Accuracy Score'] = accuracy_score(RF_y_train_pred, y_train)\n",
    "print('Accuracy Score of Random Forest Regression Model on Train data is : ', ModelPerformanceDf.at[1,'Train Accuracy Score'])"
   ]
  },
  {
   "cell_type": "code",
   "execution_count": 427,
   "id": "bcff95fa-e868-4ce4-a593-134cc0f1a62a",
   "metadata": {
    "tags": []
   },
   "outputs": [
    {
     "name": "stdout",
     "output_type": "stream",
     "text": [
      "              precision    recall  f1-score   support\n",
      "\n",
      "           0       1.00      1.00      1.00      6541\n",
      "           1       1.00      1.00      1.00      6541\n",
      "\n",
      "    accuracy                           1.00     13082\n",
      "   macro avg       1.00      1.00      1.00     13082\n",
      "weighted avg       1.00      1.00      1.00     13082\n",
      "\n"
     ]
    }
   ],
   "source": [
    "# Classification Report of the Random forest Classifier Model on Train data is\n",
    "print(classification_report(RF_y_train_pred, y_train))"
   ]
  },
  {
   "cell_type": "markdown",
   "id": "0745cb24-144b-4946-b1f6-f91058d58d2d",
   "metadata": {},
   "source": [
    "### Evaluating Random Forest Classifier on test data"
   ]
  },
  {
   "cell_type": "code",
   "execution_count": 428,
   "id": "b2dad7d7-6394-4f4c-b700-7b9dc9051db1",
   "metadata": {
    "tags": []
   },
   "outputs": [],
   "source": [
    "RF_y_test_pred = clf.predict(scaled_x_test)"
   ]
  },
  {
   "cell_type": "code",
   "execution_count": 429,
   "id": "96c60b90-ed85-400f-a2e8-372b3c5233a8",
   "metadata": {
    "tags": []
   },
   "outputs": [
    {
     "name": "stdout",
     "output_type": "stream",
     "text": [
      "[[2780  127]\n",
      " [  43 2696]]\n"
     ]
    }
   ],
   "source": [
    "RF_ytest_CM = confusion_matrix(RF_y_test_pred, y_test)\n",
    "print(RF_ytest_CM)"
   ]
  },
  {
   "cell_type": "code",
   "execution_count": 430,
   "id": "6424dbce-0a86-4970-bc01-9c03ee3e2940",
   "metadata": {
    "tags": []
   },
   "outputs": [
    {
     "name": "stdout",
     "output_type": "stream",
     "text": [
      "Accuracy of the Random forest Classifier Model on Test data is :  0.9698901877435352\n"
     ]
    }
   ],
   "source": [
    "#Accuracy of the Random forest Classifier Model on Test data is\n",
    "ModelPerformanceDf.at[1,'Test Accuracy'] = (RF_ytest_CM[0][0]+RF_ytest_CM[1][1])/(RF_ytest_CM[0][0]+RF_ytest_CM[0][1]+RF_ytest_CM[1][0]+RF_ytest_CM[1][1])\n",
    "print('Accuracy of the Random forest Classifier Model on Test data is : ', ModelPerformanceDf.at[1,'Test Accuracy'])"
   ]
  },
  {
   "cell_type": "code",
   "execution_count": 431,
   "id": "192b87fe-aa88-45f4-89f6-c61b47883fdc",
   "metadata": {
    "tags": []
   },
   "outputs": [
    {
     "name": "stdout",
     "output_type": "stream",
     "text": [
      "Precision of the Random forest Classifier Model on Test data is :  0.956312349501204\n"
     ]
    }
   ],
   "source": [
    "# Precision of the Random forest Classifier Model on Test data is\n",
    "ModelPerformanceDf.at[1,'Test Precision'] = (RF_ytest_CM[0][0])/(RF_ytest_CM[0][0]+RF_ytest_CM[0][1])\n",
    "print('Precision of the Random forest Classifier Model on Test data is : ', ModelPerformanceDf.at[1,'Test Precision'])"
   ]
  },
  {
   "cell_type": "code",
   "execution_count": 432,
   "id": "fb608a28-4616-42b8-a49b-debd43a9396e",
   "metadata": {
    "tags": []
   },
   "outputs": [
    {
     "name": "stdout",
     "output_type": "stream",
     "text": [
      "Recall / Sensitivity of Random forest Classifier Model on Test data is : 0.9847679773290825\n"
     ]
    }
   ],
   "source": [
    "# Recall / Sensitivity of the Random forest Classifier Model on Test data is :\n",
    "ModelPerformanceDf.at[1,'Test Recall'] = (RF_ytest_CM[0][0])/(RF_ytest_CM[0][0]+RF_ytest_CM[1][0])\n",
    "print('Recall / Sensitivity of Random forest Classifier Model on Test data is :', ModelPerformanceDf.at[1,'Test Recall'])"
   ]
  },
  {
   "cell_type": "code",
   "execution_count": 433,
   "id": "4d779096-1c62-4cc5-9395-95656c0ac294",
   "metadata": {
    "tags": []
   },
   "outputs": [
    {
     "name": "stdout",
     "output_type": "stream",
     "text": [
      "F1 Score of the Random Forest Classifier Model on Test data is : 0.9703315881326353\n"
     ]
    }
   ],
   "source": [
    "# F1 Score of the Random Forest Classifier Model on Test data is :\n",
    "ModelPerformanceDf.at[1,'Test F1 Score'] = (2*ModelPerformanceDf.at[1,'Test Recall']*ModelPerformanceDf.at[1,'Test Precision'])/(ModelPerformanceDf.at[1,'Test Precision']+ModelPerformanceDf.at[1,'Test Recall'])\n",
    "print('F1 Score of the Random Forest Classifier Model on Test data is :', ModelPerformanceDf.at[1,'Test F1 Score'])"
   ]
  },
  {
   "cell_type": "code",
   "execution_count": 434,
   "id": "60764483-18e7-4d21-a701-91d6c7e746be",
   "metadata": {
    "tags": []
   },
   "outputs": [
    {
     "name": "stdout",
     "output_type": "stream",
     "text": [
      "Accuracy score of Random Forest Classifier model on Test data is : 0.9698901877435352\n"
     ]
    }
   ],
   "source": [
    "ModelPerformanceDf.at[1,'Test Accuracy Score'] = accuracy_score(RF_y_test_pred, y_test)\n",
    "print('Accuracy score of Random Forest Classifier model on Test data is :', ModelPerformanceDf.at[1,'Test Accuracy Score'])"
   ]
  },
  {
   "cell_type": "code",
   "execution_count": 435,
   "id": "f4305722-e209-425d-b637-74cd237c6807",
   "metadata": {
    "tags": []
   },
   "outputs": [
    {
     "name": "stdout",
     "output_type": "stream",
     "text": [
      "              precision    recall  f1-score   support\n",
      "\n",
      "           0       0.98      0.96      0.97      2907\n",
      "           1       0.96      0.98      0.97      2739\n",
      "\n",
      "    accuracy                           0.97      5646\n",
      "   macro avg       0.97      0.97      0.97      5646\n",
      "weighted avg       0.97      0.97      0.97      5646\n",
      "\n"
     ]
    }
   ],
   "source": [
    "# Classification Report of the Random forest Classifier Model on Test data is\n",
    "print(classification_report(RF_y_test_pred, y_test))"
   ]
  },
  {
   "cell_type": "markdown",
   "id": "340ec8b9-5cd6-47b4-87ee-aaa269184fcd",
   "metadata": {},
   "source": [
    "## Creating CART Classification Model"
   ]
  },
  {
   "cell_type": "code",
   "execution_count": 436,
   "id": "a8446aac-b270-45a8-93f5-d4ba6e45a7ad",
   "metadata": {},
   "outputs": [],
   "source": [
    "tree_clf = DecisionTreeClassifier(criterion='entropy')"
   ]
  },
  {
   "cell_type": "code",
   "execution_count": 437,
   "id": "b77dccdf-fcd9-4e9e-9979-846413f9ff13",
   "metadata": {},
   "outputs": [
    {
     "data": {
      "text/html": [
       "<style>#sk-container-id-18 {color: black;}#sk-container-id-18 pre{padding: 0;}#sk-container-id-18 div.sk-toggleable {background-color: white;}#sk-container-id-18 label.sk-toggleable__label {cursor: pointer;display: block;width: 100%;margin-bottom: 0;padding: 0.3em;box-sizing: border-box;text-align: center;}#sk-container-id-18 label.sk-toggleable__label-arrow:before {content: \"▸\";float: left;margin-right: 0.25em;color: #696969;}#sk-container-id-18 label.sk-toggleable__label-arrow:hover:before {color: black;}#sk-container-id-18 div.sk-estimator:hover label.sk-toggleable__label-arrow:before {color: black;}#sk-container-id-18 div.sk-toggleable__content {max-height: 0;max-width: 0;overflow: hidden;text-align: left;background-color: #f0f8ff;}#sk-container-id-18 div.sk-toggleable__content pre {margin: 0.2em;color: black;border-radius: 0.25em;background-color: #f0f8ff;}#sk-container-id-18 input.sk-toggleable__control:checked~div.sk-toggleable__content {max-height: 200px;max-width: 100%;overflow: auto;}#sk-container-id-18 input.sk-toggleable__control:checked~label.sk-toggleable__label-arrow:before {content: \"▾\";}#sk-container-id-18 div.sk-estimator input.sk-toggleable__control:checked~label.sk-toggleable__label {background-color: #d4ebff;}#sk-container-id-18 div.sk-label input.sk-toggleable__control:checked~label.sk-toggleable__label {background-color: #d4ebff;}#sk-container-id-18 input.sk-hidden--visually {border: 0;clip: rect(1px 1px 1px 1px);clip: rect(1px, 1px, 1px, 1px);height: 1px;margin: -1px;overflow: hidden;padding: 0;position: absolute;width: 1px;}#sk-container-id-18 div.sk-estimator {font-family: monospace;background-color: #f0f8ff;border: 1px dotted black;border-radius: 0.25em;box-sizing: border-box;margin-bottom: 0.5em;}#sk-container-id-18 div.sk-estimator:hover {background-color: #d4ebff;}#sk-container-id-18 div.sk-parallel-item::after {content: \"\";width: 100%;border-bottom: 1px solid gray;flex-grow: 1;}#sk-container-id-18 div.sk-label:hover label.sk-toggleable__label {background-color: #d4ebff;}#sk-container-id-18 div.sk-serial::before {content: \"\";position: absolute;border-left: 1px solid gray;box-sizing: border-box;top: 0;bottom: 0;left: 50%;z-index: 0;}#sk-container-id-18 div.sk-serial {display: flex;flex-direction: column;align-items: center;background-color: white;padding-right: 0.2em;padding-left: 0.2em;position: relative;}#sk-container-id-18 div.sk-item {position: relative;z-index: 1;}#sk-container-id-18 div.sk-parallel {display: flex;align-items: stretch;justify-content: center;background-color: white;position: relative;}#sk-container-id-18 div.sk-item::before, #sk-container-id-18 div.sk-parallel-item::before {content: \"\";position: absolute;border-left: 1px solid gray;box-sizing: border-box;top: 0;bottom: 0;left: 50%;z-index: -1;}#sk-container-id-18 div.sk-parallel-item {display: flex;flex-direction: column;z-index: 1;position: relative;background-color: white;}#sk-container-id-18 div.sk-parallel-item:first-child::after {align-self: flex-end;width: 50%;}#sk-container-id-18 div.sk-parallel-item:last-child::after {align-self: flex-start;width: 50%;}#sk-container-id-18 div.sk-parallel-item:only-child::after {width: 0;}#sk-container-id-18 div.sk-dashed-wrapped {border: 1px dashed gray;margin: 0 0.4em 0.5em 0.4em;box-sizing: border-box;padding-bottom: 0.4em;background-color: white;}#sk-container-id-18 div.sk-label label {font-family: monospace;font-weight: bold;display: inline-block;line-height: 1.2em;}#sk-container-id-18 div.sk-label-container {text-align: center;}#sk-container-id-18 div.sk-container {/* jupyter's `normalize.less` sets `[hidden] { display: none; }` but bootstrap.min.css set `[hidden] { display: none !important; }` so we also need the `!important` here to be able to override the default hidden behavior on the sphinx rendered scikit-learn.org. See: https://github.com/scikit-learn/scikit-learn/issues/21755 */display: inline-block !important;position: relative;}#sk-container-id-18 div.sk-text-repr-fallback {display: none;}</style><div id=\"sk-container-id-18\" class=\"sk-top-container\"><div class=\"sk-text-repr-fallback\"><pre>DecisionTreeClassifier(criterion=&#x27;entropy&#x27;)</pre><b>In a Jupyter environment, please rerun this cell to show the HTML representation or trust the notebook. <br />On GitHub, the HTML representation is unable to render, please try loading this page with nbviewer.org.</b></div><div class=\"sk-container\" hidden><div class=\"sk-item\"><div class=\"sk-estimator sk-toggleable\"><input class=\"sk-toggleable__control sk-hidden--visually\" id=\"sk-estimator-id-18\" type=\"checkbox\" checked><label for=\"sk-estimator-id-18\" class=\"sk-toggleable__label sk-toggleable__label-arrow\">DecisionTreeClassifier</label><div class=\"sk-toggleable__content\"><pre>DecisionTreeClassifier(criterion=&#x27;entropy&#x27;)</pre></div></div></div></div></div>"
      ],
      "text/plain": [
       "DecisionTreeClassifier(criterion='entropy')"
      ]
     },
     "execution_count": 437,
     "metadata": {},
     "output_type": "execute_result"
    }
   ],
   "source": [
    "tree_clf.fit(scaled_x_train, y_train)"
   ]
  },
  {
   "cell_type": "markdown",
   "id": "dfb2f73e-9ce8-423b-b489-6b3364a9596f",
   "metadata": {},
   "source": [
    "### Evaluating CART Classifier Model on Train data"
   ]
  },
  {
   "cell_type": "code",
   "execution_count": 438,
   "id": "8991c70a-3f29-4af8-9e6e-2ea38a962954",
   "metadata": {},
   "outputs": [],
   "source": [
    "# Creating a new row to update Random forest Classifier performance metrics to ModelPerformanceDf dataframe \n",
    "ModelPerformanceDf.at[2,'Model Name'] = 'CART Classifier'"
   ]
  },
  {
   "cell_type": "code",
   "execution_count": 439,
   "id": "ce57a694-06e6-4f1c-b876-84cf6aac6da8",
   "metadata": {
    "tags": []
   },
   "outputs": [],
   "source": [
    "CART_y_train_pred = tree_clf.predict(scaled_x_train)"
   ]
  },
  {
   "cell_type": "code",
   "execution_count": 440,
   "id": "30470d03-1e1b-4bc4-afa6-f04ebc745e97",
   "metadata": {
    "tags": []
   },
   "outputs": [
    {
     "name": "stdout",
     "output_type": "stream",
     "text": [
      "[[6541    0]\n",
      " [   0 6541]]\n"
     ]
    }
   ],
   "source": [
    "CART_ytrain_CM = confusion_matrix(CART_y_train_pred, y_train)\n",
    "print(CART_ytrain_CM)"
   ]
  },
  {
   "cell_type": "code",
   "execution_count": 442,
   "id": "1ad0f8a6-6ce9-4512-9547-1327ecba8165",
   "metadata": {
    "tags": []
   },
   "outputs": [
    {
     "name": "stdout",
     "output_type": "stream",
     "text": [
      "Accuracy of the CART Classifier Model on Train data is :  1.0\n"
     ]
    }
   ],
   "source": [
    "#Accuracy of the CART Classifier Model on Train data is\n",
    "ModelPerformanceDf.at[2,'Train Accuracy'] = (CART_ytrain_CM[0][0]+CART_ytrain_CM[1][1])/(CART_ytrain_CM[0][0]+CART_ytrain_CM[0][1]+CART_ytrain_CM[1][0]+CART_ytrain_CM[1][1])\n",
    "print('Accuracy of the CART Classifier Model on Train data is : ', ModelPerformanceDf.at[2,'Train Accuracy'])"
   ]
  },
  {
   "cell_type": "code",
   "execution_count": 443,
   "id": "41d80d4a-9d74-4dce-8a76-0403f30e7d3f",
   "metadata": {
    "tags": []
   },
   "outputs": [
    {
     "name": "stdout",
     "output_type": "stream",
     "text": [
      "Precision of the CART Classifier Model on Train data is :  1.0\n"
     ]
    }
   ],
   "source": [
    "# Precision of the CART Classifier Model on Train data is\n",
    "ModelPerformanceDf.at[2,'Train Precision'] = (CART_ytrain_CM[0][0])/(CART_ytrain_CM[0][0]+CART_ytrain_CM[0][1])\n",
    "print('Precision of the CART Classifier Model on Train data is : ',ModelPerformanceDf.at[2,'Train Precision'])"
   ]
  },
  {
   "cell_type": "code",
   "execution_count": 444,
   "id": "26ce5e46-93bd-4aef-9ac7-5594e72ed5d1",
   "metadata": {
    "tags": []
   },
   "outputs": [
    {
     "name": "stdout",
     "output_type": "stream",
     "text": [
      "Recall / Sensitivity of CART Classifier Model on Train data is : 1.0\n"
     ]
    }
   ],
   "source": [
    "# Recall / Sensitivity of the CART Classifier Model on Train data is :\n",
    "ModelPerformanceDf.at[2,'Train Recall'] = (CART_ytrain_CM[0][0])/(CART_ytrain_CM[0][0]+CART_ytrain_CM[1][0])\n",
    "print('Recall / Sensitivity of CART Classifier Model on Train data is :', ModelPerformanceDf.at[2,'Train Recall'])"
   ]
  },
  {
   "cell_type": "code",
   "execution_count": 445,
   "id": "05cf7107-c4ea-4b58-89b7-63bac4519c88",
   "metadata": {
    "tags": []
   },
   "outputs": [
    {
     "name": "stdout",
     "output_type": "stream",
     "text": [
      "F1 Score of the CART classifier Model on Train data is : 1.0\n"
     ]
    }
   ],
   "source": [
    "# F1 Score of the CART Classifier Model on Train data is :\n",
    "ModelPerformanceDf.at[2,'Train F1 Score'] = (2*ModelPerformanceDf.at[2,'Train Recall']*ModelPerformanceDf.at[2,'Train Precision'])/(ModelPerformanceDf.at[2,'Train Precision']+ModelPerformanceDf.at[2,'Train Recall'])\n",
    "print('F1 Score of the CART classifier Model on Train data is :', ModelPerformanceDf.at[2,'Train F1 Score'])"
   ]
  },
  {
   "cell_type": "code",
   "execution_count": 446,
   "id": "747e59a2-3d1c-4b88-b726-903536a5ea64",
   "metadata": {
    "tags": []
   },
   "outputs": [
    {
     "name": "stdout",
     "output_type": "stream",
     "text": [
      "Accuracy Score of CART classifier Model on Train data is :  1.0\n"
     ]
    }
   ],
   "source": [
    "ModelPerformanceDf.at[2,'Train Accuracy Score'] = accuracy_score(CART_y_train_pred, y_train)\n",
    "print('Accuracy Score of CART classifier Model on Train data is : ', ModelPerformanceDf.at[2,'Train Accuracy Score'])"
   ]
  },
  {
   "cell_type": "code",
   "execution_count": 447,
   "id": "83c74ac1-81f7-436a-b3fb-a4936d108720",
   "metadata": {
    "tags": []
   },
   "outputs": [
    {
     "name": "stdout",
     "output_type": "stream",
     "text": [
      "              precision    recall  f1-score   support\n",
      "\n",
      "           0       1.00      1.00      1.00      6541\n",
      "           1       1.00      1.00      1.00      6541\n",
      "\n",
      "    accuracy                           1.00     13082\n",
      "   macro avg       1.00      1.00      1.00     13082\n",
      "weighted avg       1.00      1.00      1.00     13082\n",
      "\n"
     ]
    }
   ],
   "source": [
    "# Classification Report of the CART Classifier Model on Train data is\n",
    "print(classification_report(CART_y_train_pred, y_train))"
   ]
  },
  {
   "cell_type": "markdown",
   "id": "8943e7c6-519c-47c9-a776-4db6bf1e38bb",
   "metadata": {},
   "source": [
    "### Evaluating CART Classifier Model on Test data"
   ]
  },
  {
   "cell_type": "code",
   "execution_count": 448,
   "id": "245ee9e1-bcf0-48c1-bd70-653dec589d4e",
   "metadata": {
    "tags": []
   },
   "outputs": [],
   "source": [
    "CART_y_test_pred = tree_clf.predict(scaled_x_test)"
   ]
  },
  {
   "cell_type": "code",
   "execution_count": 449,
   "id": "51321775-0de5-46db-a006-97e333bc16dc",
   "metadata": {
    "tags": []
   },
   "outputs": [
    {
     "name": "stdout",
     "output_type": "stream",
     "text": [
      "[[2705  232]\n",
      " [ 118 2591]]\n"
     ]
    }
   ],
   "source": [
    "CART_ytest_CM = confusion_matrix(CART_y_test_pred, y_test)\n",
    "print(CART_ytest_CM)"
   ]
  },
  {
   "cell_type": "code",
   "execution_count": 450,
   "id": "db7b5da3-3e72-4e3a-8291-7894c84fcc4c",
   "metadata": {
    "tags": []
   },
   "outputs": [
    {
     "name": "stdout",
     "output_type": "stream",
     "text": [
      "Accuracy of the CART Classifier Model on Test data is :  0.9380092100602196\n"
     ]
    }
   ],
   "source": [
    "#Accuracy of the CART Classifier Model on Test data is\n",
    "ModelPerformanceDf.at[2,'Test Accuracy'] = (CART_ytest_CM[0][0]+CART_ytest_CM[1][1])/(CART_ytest_CM[0][0]+CART_ytest_CM[0][1]+CART_ytest_CM[1][0]+CART_ytest_CM[1][1])\n",
    "print('Accuracy of the CART Classifier Model on Test data is : ', ModelPerformanceDf.at[2,'Test Accuracy'])"
   ]
  },
  {
   "cell_type": "code",
   "execution_count": 451,
   "id": "7d93e9bf-8de4-474a-b7f5-74ef3533e268",
   "metadata": {
    "tags": []
   },
   "outputs": [
    {
     "name": "stdout",
     "output_type": "stream",
     "text": [
      "Precision of the CART Classifier Model on Test data is :  0.9210078311201907\n"
     ]
    }
   ],
   "source": [
    "# Precision of the CART Classifier Model on Test data is\n",
    "ModelPerformanceDf.at[2,'Test Precision'] = (CART_ytest_CM[0][0])/(CART_ytest_CM[0][0]+CART_ytest_CM[0][1])\n",
    "print('Precision of the CART Classifier Model on Test data is : ', ModelPerformanceDf.at[2,'Test Precision'])"
   ]
  },
  {
   "cell_type": "code",
   "execution_count": 452,
   "id": "24ae6a87-c5cc-4562-985f-2dff3d7a5c02",
   "metadata": {
    "tags": []
   },
   "outputs": [
    {
     "name": "stdout",
     "output_type": "stream",
     "text": [
      "Recall / Sensitivity of CART Classifier Model on Test data is : 0.9582004959263195\n"
     ]
    }
   ],
   "source": [
    "# Recall / Sensitivity of the CART Classifier Model on Test data is :\n",
    "ModelPerformanceDf.at[2,'Test Recall'] = (CART_ytest_CM[0][0])/(CART_ytest_CM[0][0]+CART_ytest_CM[1][0])\n",
    "print('Recall / Sensitivity of CART Classifier Model on Test data is :', ModelPerformanceDf.at[2,'Test Recall'])"
   ]
  },
  {
   "cell_type": "code",
   "execution_count": 453,
   "id": "cd3b1a28-1364-45b6-a6ac-6cf18f091d5c",
   "metadata": {
    "tags": []
   },
   "outputs": [
    {
     "name": "stdout",
     "output_type": "stream",
     "text": [
      "F1 Score of the CART Classifier Model on Test data is : 0.9392361111111112\n"
     ]
    }
   ],
   "source": [
    "# F1 Score of the CART Classifier Model on Test data is :\n",
    "ModelPerformanceDf.at[2,'Test F1 Score'] = (2*ModelPerformanceDf.at[2,'Test Recall']*ModelPerformanceDf.at[2,'Test Precision'])/(ModelPerformanceDf.at[2,'Test Precision']+ModelPerformanceDf.at[2,'Test Recall'])\n",
    "print('F1 Score of the CART Classifier Model on Test data is :', ModelPerformanceDf.at[2,'Test F1 Score'])"
   ]
  },
  {
   "cell_type": "code",
   "execution_count": 454,
   "id": "00e1c7ef-b554-495e-ba6e-35c4863e4be5",
   "metadata": {
    "tags": []
   },
   "outputs": [
    {
     "name": "stdout",
     "output_type": "stream",
     "text": [
      "Accuracy score of CART Classifier model on Test data is : 0.9380092100602196\n"
     ]
    }
   ],
   "source": [
    "ModelPerformanceDf.at[2,'Test Accuracy Score'] = accuracy_score(CART_y_test_pred, y_test)\n",
    "print('Accuracy score of CART Classifier model on Test data is :', ModelPerformanceDf.at[2,'Test Accuracy Score'])"
   ]
  },
  {
   "cell_type": "code",
   "execution_count": 455,
   "id": "a986a135-62e8-4ef7-a268-f142787bc6b5",
   "metadata": {
    "tags": []
   },
   "outputs": [
    {
     "name": "stdout",
     "output_type": "stream",
     "text": [
      "              precision    recall  f1-score   support\n",
      "\n",
      "           0       0.96      0.92      0.94      2937\n",
      "           1       0.92      0.96      0.94      2709\n",
      "\n",
      "    accuracy                           0.94      5646\n",
      "   macro avg       0.94      0.94      0.94      5646\n",
      "weighted avg       0.94      0.94      0.94      5646\n",
      "\n"
     ]
    }
   ],
   "source": [
    "# Classification Report of the CART Classifier Model on Test data is\n",
    "print(classification_report(CART_y_test_pred, y_test))"
   ]
  },
  {
   "cell_type": "markdown",
   "id": "664b2a93-c75b-4421-9b62-dfef6aba90bc",
   "metadata": {},
   "source": [
    "## Creating Bagging Classification Model"
   ]
  },
  {
   "cell_type": "code",
   "execution_count": 456,
   "id": "c7678240-ac10-46f7-9783-ae6bb1bcd58f",
   "metadata": {},
   "outputs": [],
   "source": [
    "bagging_clf = BaggingClassifier()"
   ]
  },
  {
   "cell_type": "code",
   "execution_count": 457,
   "id": "16ef6012-0326-4a06-afe5-039614cd4077",
   "metadata": {},
   "outputs": [
    {
     "data": {
      "text/html": [
       "<style>#sk-container-id-19 {color: black;}#sk-container-id-19 pre{padding: 0;}#sk-container-id-19 div.sk-toggleable {background-color: white;}#sk-container-id-19 label.sk-toggleable__label {cursor: pointer;display: block;width: 100%;margin-bottom: 0;padding: 0.3em;box-sizing: border-box;text-align: center;}#sk-container-id-19 label.sk-toggleable__label-arrow:before {content: \"▸\";float: left;margin-right: 0.25em;color: #696969;}#sk-container-id-19 label.sk-toggleable__label-arrow:hover:before {color: black;}#sk-container-id-19 div.sk-estimator:hover label.sk-toggleable__label-arrow:before {color: black;}#sk-container-id-19 div.sk-toggleable__content {max-height: 0;max-width: 0;overflow: hidden;text-align: left;background-color: #f0f8ff;}#sk-container-id-19 div.sk-toggleable__content pre {margin: 0.2em;color: black;border-radius: 0.25em;background-color: #f0f8ff;}#sk-container-id-19 input.sk-toggleable__control:checked~div.sk-toggleable__content {max-height: 200px;max-width: 100%;overflow: auto;}#sk-container-id-19 input.sk-toggleable__control:checked~label.sk-toggleable__label-arrow:before {content: \"▾\";}#sk-container-id-19 div.sk-estimator input.sk-toggleable__control:checked~label.sk-toggleable__label {background-color: #d4ebff;}#sk-container-id-19 div.sk-label input.sk-toggleable__control:checked~label.sk-toggleable__label {background-color: #d4ebff;}#sk-container-id-19 input.sk-hidden--visually {border: 0;clip: rect(1px 1px 1px 1px);clip: rect(1px, 1px, 1px, 1px);height: 1px;margin: -1px;overflow: hidden;padding: 0;position: absolute;width: 1px;}#sk-container-id-19 div.sk-estimator {font-family: monospace;background-color: #f0f8ff;border: 1px dotted black;border-radius: 0.25em;box-sizing: border-box;margin-bottom: 0.5em;}#sk-container-id-19 div.sk-estimator:hover {background-color: #d4ebff;}#sk-container-id-19 div.sk-parallel-item::after {content: \"\";width: 100%;border-bottom: 1px solid gray;flex-grow: 1;}#sk-container-id-19 div.sk-label:hover label.sk-toggleable__label {background-color: #d4ebff;}#sk-container-id-19 div.sk-serial::before {content: \"\";position: absolute;border-left: 1px solid gray;box-sizing: border-box;top: 0;bottom: 0;left: 50%;z-index: 0;}#sk-container-id-19 div.sk-serial {display: flex;flex-direction: column;align-items: center;background-color: white;padding-right: 0.2em;padding-left: 0.2em;position: relative;}#sk-container-id-19 div.sk-item {position: relative;z-index: 1;}#sk-container-id-19 div.sk-parallel {display: flex;align-items: stretch;justify-content: center;background-color: white;position: relative;}#sk-container-id-19 div.sk-item::before, #sk-container-id-19 div.sk-parallel-item::before {content: \"\";position: absolute;border-left: 1px solid gray;box-sizing: border-box;top: 0;bottom: 0;left: 50%;z-index: -1;}#sk-container-id-19 div.sk-parallel-item {display: flex;flex-direction: column;z-index: 1;position: relative;background-color: white;}#sk-container-id-19 div.sk-parallel-item:first-child::after {align-self: flex-end;width: 50%;}#sk-container-id-19 div.sk-parallel-item:last-child::after {align-self: flex-start;width: 50%;}#sk-container-id-19 div.sk-parallel-item:only-child::after {width: 0;}#sk-container-id-19 div.sk-dashed-wrapped {border: 1px dashed gray;margin: 0 0.4em 0.5em 0.4em;box-sizing: border-box;padding-bottom: 0.4em;background-color: white;}#sk-container-id-19 div.sk-label label {font-family: monospace;font-weight: bold;display: inline-block;line-height: 1.2em;}#sk-container-id-19 div.sk-label-container {text-align: center;}#sk-container-id-19 div.sk-container {/* jupyter's `normalize.less` sets `[hidden] { display: none; }` but bootstrap.min.css set `[hidden] { display: none !important; }` so we also need the `!important` here to be able to override the default hidden behavior on the sphinx rendered scikit-learn.org. See: https://github.com/scikit-learn/scikit-learn/issues/21755 */display: inline-block !important;position: relative;}#sk-container-id-19 div.sk-text-repr-fallback {display: none;}</style><div id=\"sk-container-id-19\" class=\"sk-top-container\"><div class=\"sk-text-repr-fallback\"><pre>BaggingClassifier()</pre><b>In a Jupyter environment, please rerun this cell to show the HTML representation or trust the notebook. <br />On GitHub, the HTML representation is unable to render, please try loading this page with nbviewer.org.</b></div><div class=\"sk-container\" hidden><div class=\"sk-item\"><div class=\"sk-estimator sk-toggleable\"><input class=\"sk-toggleable__control sk-hidden--visually\" id=\"sk-estimator-id-19\" type=\"checkbox\" checked><label for=\"sk-estimator-id-19\" class=\"sk-toggleable__label sk-toggleable__label-arrow\">BaggingClassifier</label><div class=\"sk-toggleable__content\"><pre>BaggingClassifier()</pre></div></div></div></div></div>"
      ],
      "text/plain": [
       "BaggingClassifier()"
      ]
     },
     "execution_count": 457,
     "metadata": {},
     "output_type": "execute_result"
    }
   ],
   "source": [
    "bagging_clf.fit(scaled_x_train, y_train)"
   ]
  },
  {
   "cell_type": "markdown",
   "id": "de253ce4-c4bd-4055-913c-5d8d8cf343e0",
   "metadata": {},
   "source": [
    "### Evaluating Bagging Classifier Model on Train data"
   ]
  },
  {
   "cell_type": "code",
   "execution_count": 458,
   "id": "a4e8cc2e-c4f3-461d-9cba-a745fd12f23f",
   "metadata": {},
   "outputs": [],
   "source": [
    "# Creating a new row to update Random forest Classifier performance metrics to ModelPerformanceDf dataframe \n",
    "ModelPerformanceDf.at[3,'Model Name'] = 'Bagging Classifier'"
   ]
  },
  {
   "cell_type": "code",
   "execution_count": 459,
   "id": "b07e28ae-5740-4930-934c-ed33ac07b565",
   "metadata": {
    "tags": []
   },
   "outputs": [],
   "source": [
    "bagging_y_train_pred = bagging_clf.predict(scaled_x_train)"
   ]
  },
  {
   "cell_type": "code",
   "execution_count": 460,
   "id": "082d7838-aa79-4ead-be80-6408ad425eb8",
   "metadata": {
    "tags": []
   },
   "outputs": [
    {
     "name": "stdout",
     "output_type": "stream",
     "text": [
      "[[6539   13]\n",
      " [   2 6528]]\n"
     ]
    }
   ],
   "source": [
    "bagging_ytrain_CM = confusion_matrix(bagging_y_train_pred, y_train)\n",
    "print(bagging_ytrain_CM)"
   ]
  },
  {
   "cell_type": "code",
   "execution_count": 461,
   "id": "4dcfef79-458d-4595-bfe5-ade56fcc6417",
   "metadata": {
    "tags": []
   },
   "outputs": [
    {
     "name": "stdout",
     "output_type": "stream",
     "text": [
      "Accuracy of the Bagging Classifier Model on Train data is :  0.9988533863323651\n"
     ]
    }
   ],
   "source": [
    "#Accuracy of the Bagging Classifier Model on Train data is\n",
    "ModelPerformanceDf.at[3,'Train Accuracy'] = (bagging_ytrain_CM[0][0]+bagging_ytrain_CM[1][1])/(bagging_ytrain_CM[0][0]+bagging_ytrain_CM[0][1]+bagging_ytrain_CM[1][0]+bagging_ytrain_CM[1][1])\n",
    "print('Accuracy of the Bagging Classifier Model on Train data is : ', ModelPerformanceDf.at[3,'Train Accuracy'])"
   ]
  },
  {
   "cell_type": "code",
   "execution_count": 462,
   "id": "9a3e1d9b-c4cd-47b1-94fc-ae68aa8e26f3",
   "metadata": {
    "tags": []
   },
   "outputs": [
    {
     "name": "stdout",
     "output_type": "stream",
     "text": [
      "Precision of the Bagging Classifier Model on Train data is :  0.998015873015873\n"
     ]
    }
   ],
   "source": [
    "# Precision of the Bagging Classifier Model on Train data is\n",
    "ModelPerformanceDf.at[3,'Train Precision'] = (bagging_ytrain_CM[0][0])/(bagging_ytrain_CM[0][0]+bagging_ytrain_CM[0][1])\n",
    "print('Precision of the Bagging Classifier Model on Train data is : ',ModelPerformanceDf.at[3,'Train Precision'])"
   ]
  },
  {
   "cell_type": "code",
   "execution_count": 463,
   "id": "261005ca-cf08-4f36-a40a-443ad18d4575",
   "metadata": {
    "tags": []
   },
   "outputs": [
    {
     "name": "stdout",
     "output_type": "stream",
     "text": [
      "Recall / Sensitivity of Bagging Classifier Model on Train data is : 0.9996942363552973\n"
     ]
    }
   ],
   "source": [
    "# Recall / Sensitivity of the Bagging Classifier Model on Train data is :\n",
    "ModelPerformanceDf.at[3,'Train Recall'] = (bagging_ytrain_CM[0][0])/(bagging_ytrain_CM[0][0]+bagging_ytrain_CM[1][0])\n",
    "print('Recall / Sensitivity of Bagging Classifier Model on Train data is :', ModelPerformanceDf.at[3,'Train Recall'])"
   ]
  },
  {
   "cell_type": "code",
   "execution_count": 464,
   "id": "5ccfa8e5-708c-43e4-877c-9af3084591de",
   "metadata": {
    "tags": []
   },
   "outputs": [
    {
     "name": "stdout",
     "output_type": "stream",
     "text": [
      "F1 Score of the Bagging classifier Model on Train data is : 0.998854349652486\n"
     ]
    }
   ],
   "source": [
    "# F1 Score of the Bagging Classifier Model on Train data is :\n",
    "ModelPerformanceDf.at[3,'Train F1 Score'] = (2*ModelPerformanceDf.at[3,'Train Recall']*ModelPerformanceDf.at[3,'Train Precision'])/(ModelPerformanceDf.at[3,'Train Precision']+ModelPerformanceDf.at[3,'Train Recall'])\n",
    "print('F1 Score of the Bagging classifier Model on Train data is :', ModelPerformanceDf.at[3,'Train F1 Score'])"
   ]
  },
  {
   "cell_type": "code",
   "execution_count": 465,
   "id": "1e61fea7-295e-47a0-977a-36c4d712ee34",
   "metadata": {
    "tags": []
   },
   "outputs": [
    {
     "name": "stdout",
     "output_type": "stream",
     "text": [
      "Accuracy Score of Bagging classifier Model on Train data is :  0.9988533863323651\n"
     ]
    }
   ],
   "source": [
    "ModelPerformanceDf.at[3,'Train Accuracy Score'] = accuracy_score(bagging_y_train_pred, y_train)\n",
    "print('Accuracy Score of Bagging classifier Model on Train data is : ', ModelPerformanceDf.at[3,'Train Accuracy Score'])"
   ]
  },
  {
   "cell_type": "code",
   "execution_count": 466,
   "id": "808ffa5b-a5ad-4f88-8a28-b413c1bf5119",
   "metadata": {
    "tags": []
   },
   "outputs": [
    {
     "name": "stdout",
     "output_type": "stream",
     "text": [
      "              precision    recall  f1-score   support\n",
      "\n",
      "           0       1.00      1.00      1.00      6552\n",
      "           1       1.00      1.00      1.00      6530\n",
      "\n",
      "    accuracy                           1.00     13082\n",
      "   macro avg       1.00      1.00      1.00     13082\n",
      "weighted avg       1.00      1.00      1.00     13082\n",
      "\n"
     ]
    }
   ],
   "source": [
    "# Classification Report of the Bagging Classifier Model on Train data is\n",
    "print(classification_report(bagging_y_train_pred, y_train))"
   ]
  },
  {
   "cell_type": "markdown",
   "id": "34ce95fd-b7ba-41fe-b213-0a4ae4165a76",
   "metadata": {},
   "source": [
    "### Evaluating Bagging Classifier Model on Test data"
   ]
  },
  {
   "cell_type": "code",
   "execution_count": 467,
   "id": "cfe1bd8e-87ef-45d4-998c-0c8f8439de40",
   "metadata": {
    "tags": []
   },
   "outputs": [],
   "source": [
    "bagging_y_test_pred = bagging_clf.predict(scaled_x_test)"
   ]
  },
  {
   "cell_type": "code",
   "execution_count": 468,
   "id": "50a5ecb9-6806-47cf-b16f-d7457deccd85",
   "metadata": {
    "tags": []
   },
   "outputs": [
    {
     "name": "stdout",
     "output_type": "stream",
     "text": [
      "[[2765  184]\n",
      " [  58 2639]]\n"
     ]
    }
   ],
   "source": [
    "bagging_ytest_CM = confusion_matrix(bagging_y_test_pred, y_test)\n",
    "print(bagging_ytest_CM)"
   ]
  },
  {
   "cell_type": "code",
   "execution_count": 469,
   "id": "acfedb86-eebf-4823-9401-075227444f0e",
   "metadata": {
    "tags": []
   },
   "outputs": [
    {
     "name": "stdout",
     "output_type": "stream",
     "text": [
      "Accuracy of the Bagging Classifier Model on Test data is :  0.957137796670209\n"
     ]
    }
   ],
   "source": [
    "#Accuracy of the Bagging Classifier Model on Test data is\n",
    "ModelPerformanceDf.at[3,'Test Accuracy'] = (bagging_ytest_CM[0][0]+bagging_ytest_CM[1][1])/(bagging_ytest_CM[0][0]+bagging_ytest_CM[0][1]+bagging_ytest_CM[1][0]+bagging_ytest_CM[1][1])\n",
    "print('Accuracy of the Bagging Classifier Model on Test data is : ', ModelPerformanceDf.at[3,'Test Accuracy'])"
   ]
  },
  {
   "cell_type": "code",
   "execution_count": 470,
   "id": "ff022008-8204-4973-9f3e-dfb40f55e198",
   "metadata": {
    "tags": []
   },
   "outputs": [
    {
     "name": "stdout",
     "output_type": "stream",
     "text": [
      "Precision of the Bagging Classifier Model on Test data is :  0.937605968124788\n"
     ]
    }
   ],
   "source": [
    "# Precision of the Bagging Classifier Model on Test data is\n",
    "ModelPerformanceDf.at[3,'Test Precision'] = (bagging_ytest_CM[0][0])/(bagging_ytest_CM[0][0]+bagging_ytest_CM[0][1])\n",
    "print('Precision of the Bagging Classifier Model on Test data is : ', ModelPerformanceDf.at[3,'Test Precision'])"
   ]
  },
  {
   "cell_type": "code",
   "execution_count": 471,
   "id": "48e389f4-5ab3-41a1-8da1-925a3252c3b8",
   "metadata": {
    "tags": []
   },
   "outputs": [
    {
     "name": "stdout",
     "output_type": "stream",
     "text": [
      "Recall / Sensitivity of Bagging Classifier Model on Test data is : 0.97945448104853\n"
     ]
    }
   ],
   "source": [
    "# Recall / Sensitivity of the Bagging Classifier Model on Test data is :\n",
    "ModelPerformanceDf.at[3,'Test Recall'] = (bagging_ytest_CM[0][0])/(bagging_ytest_CM[0][0]+bagging_ytest_CM[1][0])\n",
    "print('Recall / Sensitivity of Bagging Classifier Model on Test data is :', ModelPerformanceDf.at[3,'Test Recall'])"
   ]
  },
  {
   "cell_type": "code",
   "execution_count": 472,
   "id": "27e90b78-c9f9-4104-bc8f-9ce926db0ad7",
   "metadata": {
    "tags": []
   },
   "outputs": [
    {
     "name": "stdout",
     "output_type": "stream",
     "text": [
      "F1 Score of the Bagging Classifier Model on Test data is : 0.9580734580734581\n"
     ]
    }
   ],
   "source": [
    "# F1 Score of the Bagging Classifier Model on Test data is :\n",
    "ModelPerformanceDf.at[3,'Test F1 Score'] = (2*ModelPerformanceDf.at[3,'Test Recall']*ModelPerformanceDf.at[3,'Test Precision'])/(ModelPerformanceDf.at[3,'Test Precision']+ModelPerformanceDf.at[3,'Test Recall'])\n",
    "print('F1 Score of the Bagging Classifier Model on Test data is :', ModelPerformanceDf.at[3,'Test F1 Score'])"
   ]
  },
  {
   "cell_type": "code",
   "execution_count": 473,
   "id": "00517060-e729-45e7-a820-c3402db1755b",
   "metadata": {
    "tags": []
   },
   "outputs": [
    {
     "name": "stdout",
     "output_type": "stream",
     "text": [
      "Accuracy score of Bagging Classifier model on Test data is : 0.957137796670209\n"
     ]
    }
   ],
   "source": [
    "ModelPerformanceDf.at[3,'Test Accuracy Score'] = accuracy_score(bagging_y_test_pred, y_test)\n",
    "print('Accuracy score of Bagging Classifier model on Test data is :', ModelPerformanceDf.at[3,'Test Accuracy Score'])"
   ]
  },
  {
   "cell_type": "code",
   "execution_count": 474,
   "id": "0c6c1ab8-1950-4a01-b728-cec2fc77855b",
   "metadata": {
    "tags": []
   },
   "outputs": [
    {
     "name": "stdout",
     "output_type": "stream",
     "text": [
      "              precision    recall  f1-score   support\n",
      "\n",
      "           0       0.98      0.94      0.96      2949\n",
      "           1       0.93      0.98      0.96      2697\n",
      "\n",
      "    accuracy                           0.96      5646\n",
      "   macro avg       0.96      0.96      0.96      5646\n",
      "weighted avg       0.96      0.96      0.96      5646\n",
      "\n"
     ]
    }
   ],
   "source": [
    "# Classification Report of the Bagging Classifier Model on Test data is\n",
    "print(classification_report(bagging_y_test_pred, y_test))"
   ]
  },
  {
   "cell_type": "markdown",
   "id": "8d176b8c-41ed-4f8f-83a2-63cfa1a5e71d",
   "metadata": {},
   "source": [
    "## Creating Boosting Classificatin Model"
   ]
  },
  {
   "cell_type": "code",
   "execution_count": 475,
   "id": "e57e938b-2dea-4c58-bc8c-adf229083380",
   "metadata": {},
   "outputs": [],
   "source": [
    "boosting_clf = GradientBoostingClassifier()"
   ]
  },
  {
   "cell_type": "code",
   "execution_count": 476,
   "id": "a6af6f9d-fb51-4e37-a298-68edee1709cd",
   "metadata": {},
   "outputs": [
    {
     "data": {
      "text/html": [
       "<style>#sk-container-id-20 {color: black;}#sk-container-id-20 pre{padding: 0;}#sk-container-id-20 div.sk-toggleable {background-color: white;}#sk-container-id-20 label.sk-toggleable__label {cursor: pointer;display: block;width: 100%;margin-bottom: 0;padding: 0.3em;box-sizing: border-box;text-align: center;}#sk-container-id-20 label.sk-toggleable__label-arrow:before {content: \"▸\";float: left;margin-right: 0.25em;color: #696969;}#sk-container-id-20 label.sk-toggleable__label-arrow:hover:before {color: black;}#sk-container-id-20 div.sk-estimator:hover label.sk-toggleable__label-arrow:before {color: black;}#sk-container-id-20 div.sk-toggleable__content {max-height: 0;max-width: 0;overflow: hidden;text-align: left;background-color: #f0f8ff;}#sk-container-id-20 div.sk-toggleable__content pre {margin: 0.2em;color: black;border-radius: 0.25em;background-color: #f0f8ff;}#sk-container-id-20 input.sk-toggleable__control:checked~div.sk-toggleable__content {max-height: 200px;max-width: 100%;overflow: auto;}#sk-container-id-20 input.sk-toggleable__control:checked~label.sk-toggleable__label-arrow:before {content: \"▾\";}#sk-container-id-20 div.sk-estimator input.sk-toggleable__control:checked~label.sk-toggleable__label {background-color: #d4ebff;}#sk-container-id-20 div.sk-label input.sk-toggleable__control:checked~label.sk-toggleable__label {background-color: #d4ebff;}#sk-container-id-20 input.sk-hidden--visually {border: 0;clip: rect(1px 1px 1px 1px);clip: rect(1px, 1px, 1px, 1px);height: 1px;margin: -1px;overflow: hidden;padding: 0;position: absolute;width: 1px;}#sk-container-id-20 div.sk-estimator {font-family: monospace;background-color: #f0f8ff;border: 1px dotted black;border-radius: 0.25em;box-sizing: border-box;margin-bottom: 0.5em;}#sk-container-id-20 div.sk-estimator:hover {background-color: #d4ebff;}#sk-container-id-20 div.sk-parallel-item::after {content: \"\";width: 100%;border-bottom: 1px solid gray;flex-grow: 1;}#sk-container-id-20 div.sk-label:hover label.sk-toggleable__label {background-color: #d4ebff;}#sk-container-id-20 div.sk-serial::before {content: \"\";position: absolute;border-left: 1px solid gray;box-sizing: border-box;top: 0;bottom: 0;left: 50%;z-index: 0;}#sk-container-id-20 div.sk-serial {display: flex;flex-direction: column;align-items: center;background-color: white;padding-right: 0.2em;padding-left: 0.2em;position: relative;}#sk-container-id-20 div.sk-item {position: relative;z-index: 1;}#sk-container-id-20 div.sk-parallel {display: flex;align-items: stretch;justify-content: center;background-color: white;position: relative;}#sk-container-id-20 div.sk-item::before, #sk-container-id-20 div.sk-parallel-item::before {content: \"\";position: absolute;border-left: 1px solid gray;box-sizing: border-box;top: 0;bottom: 0;left: 50%;z-index: -1;}#sk-container-id-20 div.sk-parallel-item {display: flex;flex-direction: column;z-index: 1;position: relative;background-color: white;}#sk-container-id-20 div.sk-parallel-item:first-child::after {align-self: flex-end;width: 50%;}#sk-container-id-20 div.sk-parallel-item:last-child::after {align-self: flex-start;width: 50%;}#sk-container-id-20 div.sk-parallel-item:only-child::after {width: 0;}#sk-container-id-20 div.sk-dashed-wrapped {border: 1px dashed gray;margin: 0 0.4em 0.5em 0.4em;box-sizing: border-box;padding-bottom: 0.4em;background-color: white;}#sk-container-id-20 div.sk-label label {font-family: monospace;font-weight: bold;display: inline-block;line-height: 1.2em;}#sk-container-id-20 div.sk-label-container {text-align: center;}#sk-container-id-20 div.sk-container {/* jupyter's `normalize.less` sets `[hidden] { display: none; }` but bootstrap.min.css set `[hidden] { display: none !important; }` so we also need the `!important` here to be able to override the default hidden behavior on the sphinx rendered scikit-learn.org. See: https://github.com/scikit-learn/scikit-learn/issues/21755 */display: inline-block !important;position: relative;}#sk-container-id-20 div.sk-text-repr-fallback {display: none;}</style><div id=\"sk-container-id-20\" class=\"sk-top-container\"><div class=\"sk-text-repr-fallback\"><pre>GradientBoostingClassifier()</pre><b>In a Jupyter environment, please rerun this cell to show the HTML representation or trust the notebook. <br />On GitHub, the HTML representation is unable to render, please try loading this page with nbviewer.org.</b></div><div class=\"sk-container\" hidden><div class=\"sk-item\"><div class=\"sk-estimator sk-toggleable\"><input class=\"sk-toggleable__control sk-hidden--visually\" id=\"sk-estimator-id-20\" type=\"checkbox\" checked><label for=\"sk-estimator-id-20\" class=\"sk-toggleable__label sk-toggleable__label-arrow\">GradientBoostingClassifier</label><div class=\"sk-toggleable__content\"><pre>GradientBoostingClassifier()</pre></div></div></div></div></div>"
      ],
      "text/plain": [
       "GradientBoostingClassifier()"
      ]
     },
     "execution_count": 476,
     "metadata": {},
     "output_type": "execute_result"
    }
   ],
   "source": [
    "boosting_clf.fit(scaled_x_train, y_train)"
   ]
  },
  {
   "cell_type": "markdown",
   "id": "1bfc1c26-1c28-4fdd-9e0e-979745df9b78",
   "metadata": {},
   "source": [
    "### Evaluating Boosting Classifier Model on Train data"
   ]
  },
  {
   "cell_type": "code",
   "execution_count": 477,
   "id": "995a5455-19f4-44e2-8baa-730aac9bc81d",
   "metadata": {},
   "outputs": [],
   "source": [
    "# Creating a new row to update Random forest Classifier performance metrics to ModelPerformanceDf dataframe \n",
    "ModelPerformanceDf.at[4,'Model Name'] = 'Boosting Classifier'"
   ]
  },
  {
   "cell_type": "code",
   "execution_count": 478,
   "id": "d3a9869d-6085-4f08-ab43-50faf1b9fe0c",
   "metadata": {
    "tags": []
   },
   "outputs": [],
   "source": [
    "boosting_y_train_pred = boosting_clf.predict(scaled_x_train)"
   ]
  },
  {
   "cell_type": "code",
   "execution_count": 479,
   "id": "f63f00b6-68ef-48a3-922e-3393adbbe65c",
   "metadata": {
    "tags": []
   },
   "outputs": [
    {
     "name": "stdout",
     "output_type": "stream",
     "text": [
      "[[6134  541]\n",
      " [ 407 6000]]\n"
     ]
    }
   ],
   "source": [
    "boosting_ytrain_CM = confusion_matrix(boosting_y_train_pred, y_train)\n",
    "print(boosting_ytrain_CM)"
   ]
  },
  {
   "cell_type": "code",
   "execution_count": 480,
   "id": "77a0e904-62e6-41d9-8544-82da38a964fe",
   "metadata": {
    "tags": []
   },
   "outputs": [
    {
     "name": "stdout",
     "output_type": "stream",
     "text": [
      "Accuracy of the Boosting Classifier Model on Train data is :  0.9275340162054732\n"
     ]
    }
   ],
   "source": [
    "#Accuracy of the Boosting Classifier Model on Train data is\n",
    "ModelPerformanceDf.at[4,'Train Accuracy'] = (boosting_ytrain_CM[0][0]+boosting_ytrain_CM[1][1])/(boosting_ytrain_CM[0][0]+boosting_ytrain_CM[0][1]+boosting_ytrain_CM[1][0]+boosting_ytrain_CM[1][1])\n",
    "print('Accuracy of the Boosting Classifier Model on Train data is : ', ModelPerformanceDf.at[4,'Train Accuracy'])"
   ]
  },
  {
   "cell_type": "code",
   "execution_count": 481,
   "id": "7b2be10d-7bc0-46b8-b9a9-a1e869ee2d39",
   "metadata": {
    "tags": []
   },
   "outputs": [
    {
     "name": "stdout",
     "output_type": "stream",
     "text": [
      "Precision of the Boosting Classifier Model on Train data is :  0.9189513108614232\n"
     ]
    }
   ],
   "source": [
    "# Precision of the Boosting Classifier Model on Train data is\n",
    "ModelPerformanceDf.at[4,'Train Precision'] = (boosting_ytrain_CM[0][0])/(boosting_ytrain_CM[0][0]+boosting_ytrain_CM[0][1])\n",
    "print('Precision of the Boosting Classifier Model on Train data is : ',ModelPerformanceDf.at[4,'Train Precision'])"
   ]
  },
  {
   "cell_type": "code",
   "execution_count": 482,
   "id": "ae17ff5b-3bfb-4c42-9767-b01c1c24dd6b",
   "metadata": {
    "tags": []
   },
   "outputs": [
    {
     "name": "stdout",
     "output_type": "stream",
     "text": [
      "Recall / Sensitivity of Boosting Classifier Model on Train data is : 0.9377770983030118\n"
     ]
    }
   ],
   "source": [
    "# Recall / Sensitivity of the Boosting Classifier Model on Train data is :\n",
    "ModelPerformanceDf.at[4,'Train Recall'] = (boosting_ytrain_CM[0][0])/(boosting_ytrain_CM[0][0]+boosting_ytrain_CM[1][0])\n",
    "print('Recall / Sensitivity of Boosting Classifier Model on Train data is :', ModelPerformanceDf.at[4,'Train Recall'])"
   ]
  },
  {
   "cell_type": "code",
   "execution_count": 483,
   "id": "d0943994-9532-4b3c-b841-ff3dca5f46a7",
   "metadata": {
    "tags": []
   },
   "outputs": [
    {
     "name": "stdout",
     "output_type": "stream",
     "text": [
      "F1 Score of the Boosting classifier Model on Train data is : 0.9282687651331718\n"
     ]
    }
   ],
   "source": [
    "# F1 Score of the Boosting Classifier Model on Train data is :\n",
    "ModelPerformanceDf.at[4,'Train F1 Score'] = (2*ModelPerformanceDf.at[4,'Train Recall']*ModelPerformanceDf.at[4,'Train Precision'])/(ModelPerformanceDf.at[4,'Train Precision']+ModelPerformanceDf.at[4,'Train Recall'])\n",
    "print('F1 Score of the Boosting classifier Model on Train data is :', ModelPerformanceDf.at[4,'Train F1 Score'])"
   ]
  },
  {
   "cell_type": "code",
   "execution_count": 484,
   "id": "6f075434-89b2-49e2-940b-86a58eb9f65b",
   "metadata": {
    "tags": []
   },
   "outputs": [
    {
     "name": "stdout",
     "output_type": "stream",
     "text": [
      "Accuracy Score of Boosting classifier Model on Train data is :  0.9275340162054732\n"
     ]
    }
   ],
   "source": [
    "ModelPerformanceDf.at[4,'Train Accuracy Score'] = accuracy_score(boosting_y_train_pred, y_train)\n",
    "print('Accuracy Score of Boosting classifier Model on Train data is : ', ModelPerformanceDf.at[4,'Train Accuracy Score'])"
   ]
  },
  {
   "cell_type": "code",
   "execution_count": 485,
   "id": "5540ce2b-5fb9-47c5-906f-1e4695de4990",
   "metadata": {
    "tags": []
   },
   "outputs": [
    {
     "name": "stdout",
     "output_type": "stream",
     "text": [
      "              precision    recall  f1-score   support\n",
      "\n",
      "           0       0.94      0.92      0.93      6675\n",
      "           1       0.92      0.94      0.93      6407\n",
      "\n",
      "    accuracy                           0.93     13082\n",
      "   macro avg       0.93      0.93      0.93     13082\n",
      "weighted avg       0.93      0.93      0.93     13082\n",
      "\n"
     ]
    }
   ],
   "source": [
    "# Classification Report of the Boosting Classifier Model on Train data is\n",
    "print(classification_report(boosting_y_train_pred, y_train))"
   ]
  },
  {
   "cell_type": "markdown",
   "id": "c1c5792c-0879-48c5-ae12-69d939e8fd3a",
   "metadata": {},
   "source": [
    "### Evaluating Boosting Classifier Model on Test data"
   ]
  },
  {
   "cell_type": "code",
   "execution_count": 486,
   "id": "f67941de-3e6a-4089-96ec-3b634a3f8912",
   "metadata": {
    "tags": []
   },
   "outputs": [],
   "source": [
    "boosting_y_test_pred = boosting_clf.predict(scaled_x_test)"
   ]
  },
  {
   "cell_type": "code",
   "execution_count": 487,
   "id": "692ee67d-385c-4a34-a16e-cc67f44f6390",
   "metadata": {
    "tags": []
   },
   "outputs": [
    {
     "name": "stdout",
     "output_type": "stream",
     "text": [
      "[[2648  226]\n",
      " [ 175 2597]]\n"
     ]
    }
   ],
   "source": [
    "boosting_ytest_CM = confusion_matrix(boosting_y_test_pred, y_test)\n",
    "print(boosting_ytest_CM)"
   ]
  },
  {
   "cell_type": "code",
   "execution_count": 488,
   "id": "37a8b36b-34cb-4ef4-88bb-d232b398c4c8",
   "metadata": {
    "tags": []
   },
   "outputs": [
    {
     "name": "stdout",
     "output_type": "stream",
     "text": [
      "Accuracy of the Boosting Classifier Model on Test data is :  0.9289762663832802\n"
     ]
    }
   ],
   "source": [
    "#Accuracy of the Boosting Classifier Model on Test data is\n",
    "ModelPerformanceDf.at[4,'Test Accuracy'] = (boosting_ytest_CM[0][0]+boosting_ytest_CM[1][1])/(boosting_ytest_CM[0][0]+boosting_ytest_CM[0][1]+boosting_ytest_CM[1][0]+boosting_ytest_CM[1][1])\n",
    "print('Accuracy of the Boosting Classifier Model on Test data is : ', ModelPerformanceDf.at[4,'Test Accuracy'])"
   ]
  },
  {
   "cell_type": "code",
   "execution_count": 489,
   "id": "d7e66560-99b2-417b-9d5b-b7ff58ff3b2c",
   "metadata": {
    "tags": []
   },
   "outputs": [
    {
     "name": "stdout",
     "output_type": "stream",
     "text": [
      "Precision of the Boosting Classifier Model on Test data is :  0.9213639526791928\n"
     ]
    }
   ],
   "source": [
    "# Precision of the Boosting Classifier Model on Test data is\n",
    "ModelPerformanceDf.at[4,'Test Precision'] = (boosting_ytest_CM[0][0])/(boosting_ytest_CM[0][0]+boosting_ytest_CM[0][1])\n",
    "print('Precision of the Boosting Classifier Model on Test data is : ', ModelPerformanceDf.at[4,'Test Precision'])"
   ]
  },
  {
   "cell_type": "code",
   "execution_count": 490,
   "id": "e9c38e0d-bbb8-4be5-81c0-9ea63f4697c5",
   "metadata": {
    "tags": []
   },
   "outputs": [
    {
     "name": "stdout",
     "output_type": "stream",
     "text": [
      "Recall / Sensitivity of Boosting Classifier Model on Test data is : 0.9380092100602196\n"
     ]
    }
   ],
   "source": [
    "# Recall / Sensitivity of the Boosting Classifier Model on Test data is :\n",
    "ModelPerformanceDf.at[4,'Test Recall'] = (boosting_ytest_CM[0][0])/(boosting_ytest_CM[0][0]+boosting_ytest_CM[1][0])\n",
    "print('Recall / Sensitivity of Boosting Classifier Model on Test data is :', ModelPerformanceDf.at[4,'Test Recall'])"
   ]
  },
  {
   "cell_type": "code",
   "execution_count": 491,
   "id": "2dfdc9d4-2efb-458a-bcd4-5d1e8bd8d9d6",
   "metadata": {
    "tags": []
   },
   "outputs": [
    {
     "name": "stdout",
     "output_type": "stream",
     "text": [
      "F1 Score of the Boosting Classifier Model on Test data is : 0.9296120765315079\n"
     ]
    }
   ],
   "source": [
    "# F1 Score of the Boosting Classifier Model on Test data is :\n",
    "ModelPerformanceDf.at[4,'Test F1 Score'] = (2*ModelPerformanceDf.at[4,'Test Recall']*ModelPerformanceDf.at[4,'Test Precision'])/(ModelPerformanceDf.at[4,'Test Precision']+ModelPerformanceDf.at[4,'Test Recall'])\n",
    "print('F1 Score of the Boosting Classifier Model on Test data is :', ModelPerformanceDf.at[4,'Test F1 Score'])"
   ]
  },
  {
   "cell_type": "code",
   "execution_count": 492,
   "id": "1c5c5eab-d360-4692-aea0-e083b19fce13",
   "metadata": {
    "tags": []
   },
   "outputs": [
    {
     "name": "stdout",
     "output_type": "stream",
     "text": [
      "Accuracy score of Boosting Classifier model on Test data is : 0.9289762663832802\n"
     ]
    }
   ],
   "source": [
    "ModelPerformanceDf.at[4,'Test Accuracy Score'] = accuracy_score(boosting_y_test_pred, y_test)\n",
    "print('Accuracy score of Boosting Classifier model on Test data is :', ModelPerformanceDf.at[4,'Test Accuracy Score'])"
   ]
  },
  {
   "cell_type": "code",
   "execution_count": 493,
   "id": "3d2e0193-50dc-4950-a09d-52e71dcc063d",
   "metadata": {
    "tags": []
   },
   "outputs": [
    {
     "name": "stdout",
     "output_type": "stream",
     "text": [
      "              precision    recall  f1-score   support\n",
      "\n",
      "           0       0.94      0.92      0.93      2874\n",
      "           1       0.92      0.94      0.93      2772\n",
      "\n",
      "    accuracy                           0.93      5646\n",
      "   macro avg       0.93      0.93      0.93      5646\n",
      "weighted avg       0.93      0.93      0.93      5646\n",
      "\n"
     ]
    }
   ],
   "source": [
    "# Classification Report of the Boosting Classifier Model on Test data is\n",
    "print(classification_report(boosting_y_test_pred, y_test))"
   ]
  },
  {
   "cell_type": "markdown",
   "id": "323dd1dc-9b41-4172-97a5-e9f3d656ddcf",
   "metadata": {},
   "source": [
    "# Conclusion"
   ]
  },
  {
   "cell_type": "markdown",
   "id": "a76f0d87-05bb-4e2d-8d86-280bbe6f727f",
   "metadata": {},
   "source": [
    "## Model Performance Evaluation"
   ]
  },
  {
   "cell_type": "code",
   "execution_count": 494,
   "id": "406ab9f3-59a7-4cb9-93ee-75ebfb7aa2bd",
   "metadata": {},
   "outputs": [
    {
     "data": {
      "text/html": [
       "<div>\n",
       "<style scoped>\n",
       "    .dataframe tbody tr th:only-of-type {\n",
       "        vertical-align: middle;\n",
       "    }\n",
       "\n",
       "    .dataframe tbody tr th {\n",
       "        vertical-align: top;\n",
       "    }\n",
       "\n",
       "    .dataframe thead th {\n",
       "        text-align: right;\n",
       "    }\n",
       "</style>\n",
       "<table border=\"1\" class=\"dataframe\">\n",
       "  <thead>\n",
       "    <tr style=\"text-align: right;\">\n",
       "      <th></th>\n",
       "      <th>Model Name</th>\n",
       "      <th>Train Accuracy</th>\n",
       "      <th>Test Accuracy</th>\n",
       "      <th>Train Precision</th>\n",
       "      <th>Test Precision</th>\n",
       "      <th>Train Recall</th>\n",
       "      <th>Test Recall</th>\n",
       "      <th>Train F1 Score</th>\n",
       "      <th>Test F1 Score</th>\n",
       "      <th>Train Accuracy Score</th>\n",
       "      <th>Test Accuracy Score</th>\n",
       "    </tr>\n",
       "  </thead>\n",
       "  <tbody>\n",
       "    <tr>\n",
       "      <th>0</th>\n",
       "      <td>Logistic Regression</td>\n",
       "      <td>0.818376</td>\n",
       "      <td>0.822175</td>\n",
       "      <td>0.838233</td>\n",
       "      <td>0.835733</td>\n",
       "      <td>0.789023</td>\n",
       "      <td>0.801984</td>\n",
       "      <td>0.812884</td>\n",
       "      <td>0.81851</td>\n",
       "      <td>0.818376</td>\n",
       "      <td>0.822175</td>\n",
       "    </tr>\n",
       "    <tr>\n",
       "      <th>1</th>\n",
       "      <td>Random Forest Classifier</td>\n",
       "      <td>1.0</td>\n",
       "      <td>0.96989</td>\n",
       "      <td>1.0</td>\n",
       "      <td>0.956312</td>\n",
       "      <td>1.0</td>\n",
       "      <td>0.984768</td>\n",
       "      <td>1.0</td>\n",
       "      <td>0.970332</td>\n",
       "      <td>1.0</td>\n",
       "      <td>0.96989</td>\n",
       "    </tr>\n",
       "    <tr>\n",
       "      <th>2</th>\n",
       "      <td>CART Classifier</td>\n",
       "      <td>1.0</td>\n",
       "      <td>0.938009</td>\n",
       "      <td>1.0</td>\n",
       "      <td>0.921008</td>\n",
       "      <td>1.0</td>\n",
       "      <td>0.9582</td>\n",
       "      <td>1.0</td>\n",
       "      <td>0.939236</td>\n",
       "      <td>1.0</td>\n",
       "      <td>0.938009</td>\n",
       "    </tr>\n",
       "    <tr>\n",
       "      <th>3</th>\n",
       "      <td>Bagging Classifier</td>\n",
       "      <td>0.998853</td>\n",
       "      <td>0.957138</td>\n",
       "      <td>0.998016</td>\n",
       "      <td>0.937606</td>\n",
       "      <td>0.999694</td>\n",
       "      <td>0.979454</td>\n",
       "      <td>0.998854</td>\n",
       "      <td>0.958073</td>\n",
       "      <td>0.998853</td>\n",
       "      <td>0.957138</td>\n",
       "    </tr>\n",
       "    <tr>\n",
       "      <th>4</th>\n",
       "      <td>Boosting Classifier</td>\n",
       "      <td>0.927534</td>\n",
       "      <td>0.928976</td>\n",
       "      <td>0.918951</td>\n",
       "      <td>0.921364</td>\n",
       "      <td>0.937777</td>\n",
       "      <td>0.938009</td>\n",
       "      <td>0.928269</td>\n",
       "      <td>0.929612</td>\n",
       "      <td>0.927534</td>\n",
       "      <td>0.928976</td>\n",
       "    </tr>\n",
       "  </tbody>\n",
       "</table>\n",
       "</div>"
      ],
      "text/plain": [
       "                 Model Name Train Accuracy Test Accuracy Train Precision  \\\n",
       "0       Logistic Regression       0.818376      0.822175        0.838233   \n",
       "1  Random Forest Classifier            1.0       0.96989             1.0   \n",
       "2           CART Classifier            1.0      0.938009             1.0   \n",
       "3        Bagging Classifier       0.998853      0.957138        0.998016   \n",
       "4       Boosting Classifier       0.927534      0.928976        0.918951   \n",
       "\n",
       "  Test Precision Train Recall Test Recall Train F1 Score Test F1 Score  \\\n",
       "0       0.835733     0.789023    0.801984       0.812884       0.81851   \n",
       "1       0.956312          1.0    0.984768            1.0      0.970332   \n",
       "2       0.921008          1.0      0.9582            1.0      0.939236   \n",
       "3       0.937606     0.999694    0.979454       0.998854      0.958073   \n",
       "4       0.921364     0.937777    0.938009       0.928269      0.929612   \n",
       "\n",
       "  Train Accuracy Score Test Accuracy Score  \n",
       "0             0.818376            0.822175  \n",
       "1                  1.0             0.96989  \n",
       "2                  1.0            0.938009  \n",
       "3             0.998853            0.957138  \n",
       "4             0.927534            0.928976  "
      ]
     },
     "execution_count": 494,
     "metadata": {},
     "output_type": "execute_result"
    }
   ],
   "source": [
    "ModelPerformanceDf.head()"
   ]
  },
  {
   "cell_type": "code",
   "execution_count": 495,
   "id": "8e7f20b8-0db8-46a5-bef5-2fea48fd75a0",
   "metadata": {},
   "outputs": [],
   "source": [
    "#ModelPerformanceDf.to_excel('output.xlsx', index=False)"
   ]
  },
  {
   "cell_type": "code",
   "execution_count": null,
   "id": "9f48cf0a-7b0e-46de-bd6c-d49368ad8c6b",
   "metadata": {},
   "outputs": [],
   "source": []
  }
 ],
 "metadata": {
  "kernelspec": {
   "display_name": "Python 3 (ipykernel)",
   "language": "python",
   "name": "python3"
  },
  "language_info": {
   "codemirror_mode": {
    "name": "ipython",
    "version": 3
   },
   "file_extension": ".py",
   "mimetype": "text/x-python",
   "name": "python",
   "nbconvert_exporter": "python",
   "pygments_lexer": "ipython3",
   "version": "3.12.0"
  }
 },
 "nbformat": 4,
 "nbformat_minor": 5
}
